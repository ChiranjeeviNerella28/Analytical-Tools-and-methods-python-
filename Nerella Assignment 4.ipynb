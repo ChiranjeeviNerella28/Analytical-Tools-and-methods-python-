{
 "cells": [
  {
   "cell_type": "code",
   "execution_count": 11,
   "metadata": {},
   "outputs": [],
   "source": [
    "import numpy as np\n",
    "import pandas as pd\n",
    "import matplotlib.pyplot as plt\n",
    "import seaborn as sns\n",
    "import warnings\n",
    "warnings.filterwarnings(\"ignore\")"
   ]
  },
  {
   "cell_type": "code",
   "execution_count": 12,
   "metadata": {},
   "outputs": [
    {
     "data": {
      "text/plain": [
       "['.ipynb_checkpoints',\n",
       " 'freeFormResponses.csv',\n",
       " 'multipleChoiceResponses.csv',\n",
       " 'Nerella Assignment 4.ipynb',\n",
       " 'SurveySchema.csv']"
      ]
     },
     "execution_count": 12,
     "metadata": {},
     "output_type": "execute_result"
    }
   ],
   "source": [
    "import os\n",
    "os.listdir()"
   ]
  },
  {
   "cell_type": "code",
   "execution_count": 13,
   "metadata": {},
   "outputs": [],
   "source": [
    "data1=pd.read_csv(\"freeFormResponses.csv\")\n",
    "data2=pd.read_csv(\"multipleChoiceResponses.csv\")\n",
    "data3=pd.read_csv(\"SurveySchema.csv\")\n"
   ]
  },
  {
   "cell_type": "code",
   "execution_count": 14,
   "metadata": {},
   "outputs": [
    {
     "data": {
      "text/html": [
       "<div>\n",
       "<style scoped>\n",
       "    .dataframe tbody tr th:only-of-type {\n",
       "        vertical-align: middle;\n",
       "    }\n",
       "\n",
       "    .dataframe tbody tr th {\n",
       "        vertical-align: top;\n",
       "    }\n",
       "\n",
       "    .dataframe thead th {\n",
       "        text-align: right;\n",
       "    }\n",
       "</style>\n",
       "<table border=\"1\" class=\"dataframe\">\n",
       "  <thead>\n",
       "    <tr style=\"text-align: right;\">\n",
       "      <th></th>\n",
       "      <th>Q11_OTHER_TEXT</th>\n",
       "      <th>Q12_OTHER_TEXT</th>\n",
       "      <th>Q12_Part_1_TEXT</th>\n",
       "      <th>Q12_Part_2_TEXT</th>\n",
       "      <th>Q12_Part_3_TEXT</th>\n",
       "      <th>Q12_Part_4_TEXT</th>\n",
       "      <th>Q12_Part_5_TEXT</th>\n",
       "      <th>Q13_OTHER_TEXT</th>\n",
       "      <th>Q14_OTHER_TEXT</th>\n",
       "      <th>Q15_OTHER_TEXT</th>\n",
       "      <th>...</th>\n",
       "      <th>Q34_OTHER_TEXT</th>\n",
       "      <th>Q35_OTHER_TEXT</th>\n",
       "      <th>Q36_OTHER_TEXT</th>\n",
       "      <th>Q37_OTHER_TEXT</th>\n",
       "      <th>Q38_OTHER_TEXT</th>\n",
       "      <th>Q42_OTHER_TEXT</th>\n",
       "      <th>Q49_OTHER_TEXT</th>\n",
       "      <th>Q50_OTHER_TEXT</th>\n",
       "      <th>Q6_OTHER_TEXT</th>\n",
       "      <th>Q7_OTHER_TEXT</th>\n",
       "    </tr>\n",
       "  </thead>\n",
       "  <tbody>\n",
       "    <tr>\n",
       "      <th>0</th>\n",
       "      <td>Select any activities that make up an importan...</td>\n",
       "      <td>What is the primary tool that you use at work ...</td>\n",
       "      <td>What is the primary tool that you use at work ...</td>\n",
       "      <td>What is the primary tool that you use at work ...</td>\n",
       "      <td>What is the primary tool that you use at work ...</td>\n",
       "      <td>What is the primary tool that you use at work ...</td>\n",
       "      <td>What is the primary tool that you use at work ...</td>\n",
       "      <td>Which of the following integrated development ...</td>\n",
       "      <td>Which of the following hosted notebooks have y...</td>\n",
       "      <td>Which of the following cloud computing service...</td>\n",
       "      <td>...</td>\n",
       "      <td>During a typical data science project at work ...</td>\n",
       "      <td>What percentage of your current machine learni...</td>\n",
       "      <td>On which online platforms have you begun or co...</td>\n",
       "      <td>On which online platform have you spent the mo...</td>\n",
       "      <td>Who/what are your favorite media sources that ...</td>\n",
       "      <td>What metrics do you or your organization use t...</td>\n",
       "      <td>What tools and methods do you use to make your...</td>\n",
       "      <td>What barriers prevent you from making your wor...</td>\n",
       "      <td>Select the title most similar to your current ...</td>\n",
       "      <td>In what industry is your current employer/cont...</td>\n",
       "    </tr>\n",
       "    <tr>\n",
       "      <th>1</th>\n",
       "      <td>NaN</td>\n",
       "      <td>NaN</td>\n",
       "      <td>NaN</td>\n",
       "      <td>NaN</td>\n",
       "      <td>NaN</td>\n",
       "      <td>Jupyter Notebooks, Pycharm, Intelijidea</td>\n",
       "      <td>NaN</td>\n",
       "      <td>NaN</td>\n",
       "      <td>NaN</td>\n",
       "      <td>NaN</td>\n",
       "      <td>...</td>\n",
       "      <td>0.0</td>\n",
       "      <td>NaN</td>\n",
       "      <td>mlcourse.ai</td>\n",
       "      <td>NaN</td>\n",
       "      <td>ods.ai</td>\n",
       "      <td>NaN</td>\n",
       "      <td>NaN</td>\n",
       "      <td>NaN</td>\n",
       "      <td>NaN</td>\n",
       "      <td>NaN</td>\n",
       "    </tr>\n",
       "    <tr>\n",
       "      <th>2</th>\n",
       "      <td>NaN</td>\n",
       "      <td>NaN</td>\n",
       "      <td>NaN</td>\n",
       "      <td>NaN</td>\n",
       "      <td>NaN</td>\n",
       "      <td>NaN</td>\n",
       "      <td>NaN</td>\n",
       "      <td>NaN</td>\n",
       "      <td>NaN</td>\n",
       "      <td>NaN</td>\n",
       "      <td>...</td>\n",
       "      <td>NaN</td>\n",
       "      <td>NaN</td>\n",
       "      <td>NaN</td>\n",
       "      <td>NaN</td>\n",
       "      <td>NaN</td>\n",
       "      <td>NaN</td>\n",
       "      <td>NaN</td>\n",
       "      <td>NaN</td>\n",
       "      <td>NaN</td>\n",
       "      <td>NaN</td>\n",
       "    </tr>\n",
       "    <tr>\n",
       "      <th>3</th>\n",
       "      <td>NaN</td>\n",
       "      <td>NaN</td>\n",
       "      <td>NaN</td>\n",
       "      <td>NaN</td>\n",
       "      <td>NaN</td>\n",
       "      <td>anaconda</td>\n",
       "      <td>NaN</td>\n",
       "      <td>NaN</td>\n",
       "      <td>NaN</td>\n",
       "      <td>NaN</td>\n",
       "      <td>...</td>\n",
       "      <td>0</td>\n",
       "      <td>NaN</td>\n",
       "      <td>NaN</td>\n",
       "      <td>NaN</td>\n",
       "      <td>NaN</td>\n",
       "      <td>NaN</td>\n",
       "      <td>NaN</td>\n",
       "      <td>NaN</td>\n",
       "      <td>NaN</td>\n",
       "      <td>NaN</td>\n",
       "    </tr>\n",
       "    <tr>\n",
       "      <th>4</th>\n",
       "      <td>NaN</td>\n",
       "      <td>NaN</td>\n",
       "      <td>NaN</td>\n",
       "      <td>NaN</td>\n",
       "      <td>NaN</td>\n",
       "      <td>NaN</td>\n",
       "      <td>NaN</td>\n",
       "      <td>NaN</td>\n",
       "      <td>NaN</td>\n",
       "      <td>NaN</td>\n",
       "      <td>...</td>\n",
       "      <td>NaN</td>\n",
       "      <td>NaN</td>\n",
       "      <td>NaN</td>\n",
       "      <td>NaN</td>\n",
       "      <td>NaN</td>\n",
       "      <td>NaN</td>\n",
       "      <td>NaN</td>\n",
       "      <td>NaN</td>\n",
       "      <td>NaN</td>\n",
       "      <td>NaN</td>\n",
       "    </tr>\n",
       "  </tbody>\n",
       "</table>\n",
       "<p>5 rows × 35 columns</p>\n",
       "</div>"
      ],
      "text/plain": [
       "                                      Q11_OTHER_TEXT  \\\n",
       "0  Select any activities that make up an importan...   \n",
       "1                                                NaN   \n",
       "2                                                NaN   \n",
       "3                                                NaN   \n",
       "4                                                NaN   \n",
       "\n",
       "                                      Q12_OTHER_TEXT  \\\n",
       "0  What is the primary tool that you use at work ...   \n",
       "1                                                NaN   \n",
       "2                                                NaN   \n",
       "3                                                NaN   \n",
       "4                                                NaN   \n",
       "\n",
       "                                     Q12_Part_1_TEXT  \\\n",
       "0  What is the primary tool that you use at work ...   \n",
       "1                                                NaN   \n",
       "2                                                NaN   \n",
       "3                                                NaN   \n",
       "4                                                NaN   \n",
       "\n",
       "                                     Q12_Part_2_TEXT  \\\n",
       "0  What is the primary tool that you use at work ...   \n",
       "1                                                NaN   \n",
       "2                                                NaN   \n",
       "3                                                NaN   \n",
       "4                                                NaN   \n",
       "\n",
       "                                     Q12_Part_3_TEXT  \\\n",
       "0  What is the primary tool that you use at work ...   \n",
       "1                                                NaN   \n",
       "2                                                NaN   \n",
       "3                                                NaN   \n",
       "4                                                NaN   \n",
       "\n",
       "                                     Q12_Part_4_TEXT  \\\n",
       "0  What is the primary tool that you use at work ...   \n",
       "1            Jupyter Notebooks, Pycharm, Intelijidea   \n",
       "2                                                NaN   \n",
       "3                                           anaconda   \n",
       "4                                                NaN   \n",
       "\n",
       "                                     Q12_Part_5_TEXT  \\\n",
       "0  What is the primary tool that you use at work ...   \n",
       "1                                                NaN   \n",
       "2                                                NaN   \n",
       "3                                                NaN   \n",
       "4                                                NaN   \n",
       "\n",
       "                                      Q13_OTHER_TEXT  \\\n",
       "0  Which of the following integrated development ...   \n",
       "1                                                NaN   \n",
       "2                                                NaN   \n",
       "3                                                NaN   \n",
       "4                                                NaN   \n",
       "\n",
       "                                      Q14_OTHER_TEXT  \\\n",
       "0  Which of the following hosted notebooks have y...   \n",
       "1                                                NaN   \n",
       "2                                                NaN   \n",
       "3                                                NaN   \n",
       "4                                                NaN   \n",
       "\n",
       "                                      Q15_OTHER_TEXT  ...  \\\n",
       "0  Which of the following cloud computing service...  ...   \n",
       "1                                                NaN  ...   \n",
       "2                                                NaN  ...   \n",
       "3                                                NaN  ...   \n",
       "4                                                NaN  ...   \n",
       "\n",
       "                                      Q34_OTHER_TEXT  \\\n",
       "0  During a typical data science project at work ...   \n",
       "1                                                0.0   \n",
       "2                                                NaN   \n",
       "3                                                  0   \n",
       "4                                                NaN   \n",
       "\n",
       "                                      Q35_OTHER_TEXT  \\\n",
       "0  What percentage of your current machine learni...   \n",
       "1                                                NaN   \n",
       "2                                                NaN   \n",
       "3                                                NaN   \n",
       "4                                                NaN   \n",
       "\n",
       "                                      Q36_OTHER_TEXT  \\\n",
       "0  On which online platforms have you begun or co...   \n",
       "1                                        mlcourse.ai   \n",
       "2                                                NaN   \n",
       "3                                                NaN   \n",
       "4                                                NaN   \n",
       "\n",
       "                                      Q37_OTHER_TEXT  \\\n",
       "0  On which online platform have you spent the mo...   \n",
       "1                                                NaN   \n",
       "2                                                NaN   \n",
       "3                                                NaN   \n",
       "4                                                NaN   \n",
       "\n",
       "                                      Q38_OTHER_TEXT  \\\n",
       "0  Who/what are your favorite media sources that ...   \n",
       "1                                             ods.ai   \n",
       "2                                                NaN   \n",
       "3                                                NaN   \n",
       "4                                                NaN   \n",
       "\n",
       "                                      Q42_OTHER_TEXT  \\\n",
       "0  What metrics do you or your organization use t...   \n",
       "1                                                NaN   \n",
       "2                                                NaN   \n",
       "3                                                NaN   \n",
       "4                                                NaN   \n",
       "\n",
       "                                      Q49_OTHER_TEXT  \\\n",
       "0  What tools and methods do you use to make your...   \n",
       "1                                                NaN   \n",
       "2                                                NaN   \n",
       "3                                                NaN   \n",
       "4                                                NaN   \n",
       "\n",
       "                                      Q50_OTHER_TEXT  \\\n",
       "0  What barriers prevent you from making your wor...   \n",
       "1                                                NaN   \n",
       "2                                                NaN   \n",
       "3                                                NaN   \n",
       "4                                                NaN   \n",
       "\n",
       "                                       Q6_OTHER_TEXT  \\\n",
       "0  Select the title most similar to your current ...   \n",
       "1                                                NaN   \n",
       "2                                                NaN   \n",
       "3                                                NaN   \n",
       "4                                                NaN   \n",
       "\n",
       "                                       Q7_OTHER_TEXT  \n",
       "0  In what industry is your current employer/cont...  \n",
       "1                                                NaN  \n",
       "2                                                NaN  \n",
       "3                                                NaN  \n",
       "4                                                NaN  \n",
       "\n",
       "[5 rows x 35 columns]"
      ]
     },
     "execution_count": 14,
     "metadata": {},
     "output_type": "execute_result"
    }
   ],
   "source": [
    "data1.head()"
   ]
  },
  {
   "cell_type": "code",
   "execution_count": 15,
   "metadata": {},
   "outputs": [
    {
     "data": {
      "text/html": [
       "<div>\n",
       "<style scoped>\n",
       "    .dataframe tbody tr th:only-of-type {\n",
       "        vertical-align: middle;\n",
       "    }\n",
       "\n",
       "    .dataframe tbody tr th {\n",
       "        vertical-align: top;\n",
       "    }\n",
       "\n",
       "    .dataframe thead th {\n",
       "        text-align: right;\n",
       "    }\n",
       "</style>\n",
       "<table border=\"1\" class=\"dataframe\">\n",
       "  <thead>\n",
       "    <tr style=\"text-align: right;\">\n",
       "      <th></th>\n",
       "      <th>Q1</th>\n",
       "      <th>Q9</th>\n",
       "    </tr>\n",
       "  </thead>\n",
       "  <tbody>\n",
       "    <tr>\n",
       "      <th>0</th>\n",
       "      <td>What is your gender? - Selected Choice</td>\n",
       "      <td>What is your current yearly compensation (appr...</td>\n",
       "    </tr>\n",
       "    <tr>\n",
       "      <th>1</th>\n",
       "      <td>Female</td>\n",
       "      <td>NaN</td>\n",
       "    </tr>\n",
       "    <tr>\n",
       "      <th>2</th>\n",
       "      <td>Male</td>\n",
       "      <td>10-20,000</td>\n",
       "    </tr>\n",
       "    <tr>\n",
       "      <th>3</th>\n",
       "      <td>Female</td>\n",
       "      <td>0-10,000</td>\n",
       "    </tr>\n",
       "    <tr>\n",
       "      <th>4</th>\n",
       "      <td>Male</td>\n",
       "      <td>NaN</td>\n",
       "    </tr>\n",
       "    <tr>\n",
       "      <th>...</th>\n",
       "      <td>...</td>\n",
       "      <td>...</td>\n",
       "    </tr>\n",
       "    <tr>\n",
       "      <th>23855</th>\n",
       "      <td>Male</td>\n",
       "      <td>250-300,000</td>\n",
       "    </tr>\n",
       "    <tr>\n",
       "      <th>23856</th>\n",
       "      <td>Female</td>\n",
       "      <td>NaN</td>\n",
       "    </tr>\n",
       "    <tr>\n",
       "      <th>23857</th>\n",
       "      <td>Male</td>\n",
       "      <td>10-20,000</td>\n",
       "    </tr>\n",
       "    <tr>\n",
       "      <th>23858</th>\n",
       "      <td>Male</td>\n",
       "      <td>NaN</td>\n",
       "    </tr>\n",
       "    <tr>\n",
       "      <th>23859</th>\n",
       "      <td>Male</td>\n",
       "      <td>NaN</td>\n",
       "    </tr>\n",
       "  </tbody>\n",
       "</table>\n",
       "<p>23860 rows × 2 columns</p>\n",
       "</div>"
      ],
      "text/plain": [
       "                                           Q1  \\\n",
       "0      What is your gender? - Selected Choice   \n",
       "1                                      Female   \n",
       "2                                        Male   \n",
       "3                                      Female   \n",
       "4                                        Male   \n",
       "...                                       ...   \n",
       "23855                                    Male   \n",
       "23856                                  Female   \n",
       "23857                                    Male   \n",
       "23858                                    Male   \n",
       "23859                                    Male   \n",
       "\n",
       "                                                      Q9  \n",
       "0      What is your current yearly compensation (appr...  \n",
       "1                                                    NaN  \n",
       "2                                              10-20,000  \n",
       "3                                               0-10,000  \n",
       "4                                                    NaN  \n",
       "...                                                  ...  \n",
       "23855                                        250-300,000  \n",
       "23856                                                NaN  \n",
       "23857                                          10-20,000  \n",
       "23858                                                NaN  \n",
       "23859                                                NaN  \n",
       "\n",
       "[23860 rows x 2 columns]"
      ]
     },
     "execution_count": 15,
     "metadata": {},
     "output_type": "execute_result"
    }
   ],
   "source": [
    "data2.head()\n",
    "p=data2[[\"Q1\",\"Q9\"]]\n",
    "p"
   ]
  },
  {
   "cell_type": "code",
   "execution_count": 16,
   "metadata": {},
   "outputs": [
    {
     "data": {
      "text/html": [
       "<div>\n",
       "<style scoped>\n",
       "    .dataframe tbody tr th:only-of-type {\n",
       "        vertical-align: middle;\n",
       "    }\n",
       "\n",
       "    .dataframe tbody tr th {\n",
       "        vertical-align: top;\n",
       "    }\n",
       "\n",
       "    .dataframe thead th {\n",
       "        text-align: right;\n",
       "    }\n",
       "</style>\n",
       "<table border=\"1\" class=\"dataframe\">\n",
       "  <thead>\n",
       "    <tr style=\"text-align: right;\">\n",
       "      <th></th>\n",
       "      <th>Q1</th>\n",
       "      <th>Q9</th>\n",
       "    </tr>\n",
       "  </thead>\n",
       "  <tbody>\n",
       "    <tr>\n",
       "      <th>2</th>\n",
       "      <td>Male</td>\n",
       "      <td>10-20,000</td>\n",
       "    </tr>\n",
       "    <tr>\n",
       "      <th>3</th>\n",
       "      <td>Female</td>\n",
       "      <td>0-10,000</td>\n",
       "    </tr>\n",
       "    <tr>\n",
       "      <th>5</th>\n",
       "      <td>Male</td>\n",
       "      <td>0-10,000</td>\n",
       "    </tr>\n",
       "    <tr>\n",
       "      <th>6</th>\n",
       "      <td>Male</td>\n",
       "      <td>I do not wish to disclose my approximate yearl...</td>\n",
       "    </tr>\n",
       "    <tr>\n",
       "      <th>7</th>\n",
       "      <td>Male</td>\n",
       "      <td>10-20,000</td>\n",
       "    </tr>\n",
       "    <tr>\n",
       "      <th>...</th>\n",
       "      <td>...</td>\n",
       "      <td>...</td>\n",
       "    </tr>\n",
       "    <tr>\n",
       "      <th>23848</th>\n",
       "      <td>Male</td>\n",
       "      <td>I do not wish to disclose my approximate yearl...</td>\n",
       "    </tr>\n",
       "    <tr>\n",
       "      <th>23850</th>\n",
       "      <td>Female</td>\n",
       "      <td>I do not wish to disclose my approximate yearl...</td>\n",
       "    </tr>\n",
       "    <tr>\n",
       "      <th>23854</th>\n",
       "      <td>Male</td>\n",
       "      <td>10-20,000</td>\n",
       "    </tr>\n",
       "    <tr>\n",
       "      <th>23855</th>\n",
       "      <td>Male</td>\n",
       "      <td>250-300,000</td>\n",
       "    </tr>\n",
       "    <tr>\n",
       "      <th>23857</th>\n",
       "      <td>Male</td>\n",
       "      <td>10-20,000</td>\n",
       "    </tr>\n",
       "  </tbody>\n",
       "</table>\n",
       "<p>20185 rows × 2 columns</p>\n",
       "</div>"
      ],
      "text/plain": [
       "           Q1                                                 Q9\n",
       "2        Male                                          10-20,000\n",
       "3      Female                                           0-10,000\n",
       "5        Male                                           0-10,000\n",
       "6        Male  I do not wish to disclose my approximate yearl...\n",
       "7        Male                                          10-20,000\n",
       "...       ...                                                ...\n",
       "23848    Male  I do not wish to disclose my approximate yearl...\n",
       "23850  Female  I do not wish to disclose my approximate yearl...\n",
       "23854    Male                                          10-20,000\n",
       "23855    Male                                        250-300,000\n",
       "23857    Male                                          10-20,000\n",
       "\n",
       "[20185 rows x 2 columns]"
      ]
     },
     "execution_count": 16,
     "metadata": {},
     "output_type": "execute_result"
    }
   ],
   "source": [
    "p=p.dropna()\n",
    "p=p.drop(0)\n",
    "p.isnull().sum(axis=0)\n",
    "p"
   ]
  },
  {
   "cell_type": "code",
   "execution_count": 17,
   "metadata": {},
   "outputs": [
    {
     "data": {
      "text/html": [
       "<div>\n",
       "<style scoped>\n",
       "    .dataframe tbody tr th:only-of-type {\n",
       "        vertical-align: middle;\n",
       "    }\n",
       "\n",
       "    .dataframe tbody tr th {\n",
       "        vertical-align: top;\n",
       "    }\n",
       "\n",
       "    .dataframe thead th {\n",
       "        text-align: right;\n",
       "    }\n",
       "</style>\n",
       "<table border=\"1\" class=\"dataframe\">\n",
       "  <thead>\n",
       "    <tr style=\"text-align: right;\">\n",
       "      <th></th>\n",
       "      <th>Q1</th>\n",
       "      <th>Q9</th>\n",
       "    </tr>\n",
       "  </thead>\n",
       "  <tbody>\n",
       "    <tr>\n",
       "      <th>2</th>\n",
       "      <td>Male</td>\n",
       "      <td>10-20,000</td>\n",
       "    </tr>\n",
       "    <tr>\n",
       "      <th>3</th>\n",
       "      <td>Female</td>\n",
       "      <td>0-10,000</td>\n",
       "    </tr>\n",
       "    <tr>\n",
       "      <th>5</th>\n",
       "      <td>Male</td>\n",
       "      <td>0-10,000</td>\n",
       "    </tr>\n",
       "    <tr>\n",
       "      <th>7</th>\n",
       "      <td>Male</td>\n",
       "      <td>10-20,000</td>\n",
       "    </tr>\n",
       "    <tr>\n",
       "      <th>8</th>\n",
       "      <td>Male</td>\n",
       "      <td>0-10,000</td>\n",
       "    </tr>\n",
       "    <tr>\n",
       "      <th>...</th>\n",
       "      <td>...</td>\n",
       "      <td>...</td>\n",
       "    </tr>\n",
       "    <tr>\n",
       "      <th>23844</th>\n",
       "      <td>Male</td>\n",
       "      <td>90-100,000</td>\n",
       "    </tr>\n",
       "    <tr>\n",
       "      <th>23845</th>\n",
       "      <td>Male</td>\n",
       "      <td>0-10,000</td>\n",
       "    </tr>\n",
       "    <tr>\n",
       "      <th>23854</th>\n",
       "      <td>Male</td>\n",
       "      <td>10-20,000</td>\n",
       "    </tr>\n",
       "    <tr>\n",
       "      <th>23855</th>\n",
       "      <td>Male</td>\n",
       "      <td>250-300,000</td>\n",
       "    </tr>\n",
       "    <tr>\n",
       "      <th>23857</th>\n",
       "      <td>Male</td>\n",
       "      <td>10-20,000</td>\n",
       "    </tr>\n",
       "  </tbody>\n",
       "</table>\n",
       "<p>15299 rows × 2 columns</p>\n",
       "</div>"
      ],
      "text/plain": [
       "           Q1           Q9\n",
       "2        Male    10-20,000\n",
       "3      Female     0-10,000\n",
       "5        Male     0-10,000\n",
       "7        Male    10-20,000\n",
       "8        Male     0-10,000\n",
       "...       ...          ...\n",
       "23844    Male   90-100,000\n",
       "23845    Male     0-10,000\n",
       "23854    Male    10-20,000\n",
       "23855    Male  250-300,000\n",
       "23857    Male    10-20,000\n",
       "\n",
       "[15299 rows x 2 columns]"
      ]
     },
     "execution_count": 17,
     "metadata": {},
     "output_type": "execute_result"
    }
   ],
   "source": [
    "p=p[p[\"Q9\"]!=\"I do not wish to disclose my approximate yearly compensation\"]\n",
    "p=p[p[\"Q1\"]!=\"Prefer not to say\"]\n",
    "p\n",
    "\n",
    "\n"
   ]
  },
  {
   "cell_type": "code",
   "execution_count": 18,
   "metadata": {},
   "outputs": [
    {
     "data": {
      "text/html": [
       "<div>\n",
       "<style scoped>\n",
       "    .dataframe tbody tr th:only-of-type {\n",
       "        vertical-align: middle;\n",
       "    }\n",
       "\n",
       "    .dataframe tbody tr th {\n",
       "        vertical-align: top;\n",
       "    }\n",
       "\n",
       "    .dataframe thead th {\n",
       "        text-align: right;\n",
       "    }\n",
       "</style>\n",
       "<table border=\"1\" class=\"dataframe\">\n",
       "  <thead>\n",
       "    <tr style=\"text-align: right;\">\n",
       "      <th></th>\n",
       "      <th>Q1</th>\n",
       "      <th>Q9</th>\n",
       "    </tr>\n",
       "  </thead>\n",
       "  <tbody>\n",
       "    <tr>\n",
       "      <th>2</th>\n",
       "      <td>Male</td>\n",
       "      <td>10-20,000</td>\n",
       "    </tr>\n",
       "    <tr>\n",
       "      <th>3</th>\n",
       "      <td>Female</td>\n",
       "      <td>0-10,000</td>\n",
       "    </tr>\n",
       "    <tr>\n",
       "      <th>5</th>\n",
       "      <td>Male</td>\n",
       "      <td>0-10,000</td>\n",
       "    </tr>\n",
       "    <tr>\n",
       "      <th>7</th>\n",
       "      <td>Male</td>\n",
       "      <td>10-20,000</td>\n",
       "    </tr>\n",
       "    <tr>\n",
       "      <th>8</th>\n",
       "      <td>Male</td>\n",
       "      <td>0-10,000</td>\n",
       "    </tr>\n",
       "    <tr>\n",
       "      <th>...</th>\n",
       "      <td>...</td>\n",
       "      <td>...</td>\n",
       "    </tr>\n",
       "    <tr>\n",
       "      <th>23844</th>\n",
       "      <td>Male</td>\n",
       "      <td>90-100,000</td>\n",
       "    </tr>\n",
       "    <tr>\n",
       "      <th>23845</th>\n",
       "      <td>Male</td>\n",
       "      <td>0-10,000</td>\n",
       "    </tr>\n",
       "    <tr>\n",
       "      <th>23854</th>\n",
       "      <td>Male</td>\n",
       "      <td>10-20,000</td>\n",
       "    </tr>\n",
       "    <tr>\n",
       "      <th>23855</th>\n",
       "      <td>Male</td>\n",
       "      <td>250-300,000</td>\n",
       "    </tr>\n",
       "    <tr>\n",
       "      <th>23857</th>\n",
       "      <td>Male</td>\n",
       "      <td>10-20,000</td>\n",
       "    </tr>\n",
       "  </tbody>\n",
       "</table>\n",
       "<p>15299 rows × 2 columns</p>\n",
       "</div>"
      ],
      "text/plain": [
       "           Q1           Q9\n",
       "2        Male    10-20,000\n",
       "3      Female     0-10,000\n",
       "5        Male     0-10,000\n",
       "7        Male    10-20,000\n",
       "8        Male     0-10,000\n",
       "...       ...          ...\n",
       "23844    Male   90-100,000\n",
       "23845    Male     0-10,000\n",
       "23854    Male    10-20,000\n",
       "23855    Male  250-300,000\n",
       "23857    Male    10-20,000\n",
       "\n",
       "[15299 rows x 2 columns]"
      ]
     },
     "execution_count": 18,
     "metadata": {},
     "output_type": "execute_result"
    }
   ],
   "source": [
    "s=p\n",
    "s\n"
   ]
  },
  {
   "cell_type": "markdown",
   "metadata": {},
   "source": [
    "### Question 1:"
   ]
  },
  {
   "cell_type": "code",
   "execution_count": 19,
   "metadata": {},
   "outputs": [
    {
     "name": "stdout",
     "output_type": "stream",
     "text": [
      "median of male salary 30-40,000\n",
      "median of Female salary 0-10,000\n"
     ]
    }
   ],
   "source": [
    "#males=males.reset_index()\n",
    "#Females=Females.reset_index()\n",
    "#males=males.drop(columns=\"index\")\n",
    "\n",
    "males=p[p[\"Q1\"]==\"Male\"]\n",
    "Females=p[p[\"Q1\"]==\"Female\"]\n",
    "males_median=int(len(males[\"Q9\"])/2)+1\n",
    "Females_median=int(len(Females[\"Q9\"])/2)+1\n",
    "print(\"median of male salary\",p.Q9[males_median])\n",
    "print(\"median of Female salary\",p.Q9[Females_median])\n",
    "#print(males)"
   ]
  },
  {
   "cell_type": "markdown",
   "metadata": {},
   "source": [
    "### 2) Draw an overlaid graph to show the histograms of the incomes of female and male employees in the population. (You create one histogram for male, and another histogram for female, but the two histograms should be on display in the same graph with different colors."
   ]
  },
  {
   "cell_type": "code",
   "execution_count": 20,
   "metadata": {},
   "outputs": [
    {
     "data": {
      "text/plain": [
       "<matplotlib.legend.Legend at 0x1f1f98681c8>"
      ]
     },
     "execution_count": 20,
     "metadata": {},
     "output_type": "execute_result"
    },
    {
     "data": {
      "image/png": "[encoded data removed]",
      "text/plain": [
       "<Figure size 432x288 with 1 Axes>"
      ]
     },
     "metadata": {
      "needs_background": "light"
     },
     "output_type": "display_data"
    }
   ],
   "source": [
    "plt.hist(males[\"Q9\"],label=\"males\")\n",
    "plt.hist(Females[\"Q9\"],label=\"Females\")\n",
    "plt.xlabel(\"incomes\")\n",
    "plt.ylabel(\"count\")\n",
    "plt.title(\"Incomes of female and male employees in the population\")\n",
    "plt.xticks(rotation=90)\n",
    "plt.legend()\n"
   ]
  },
  {
   "cell_type": "code",
   "execution_count": 21,
   "metadata": {},
   "outputs": [
    {
     "data": {
      "text/plain": [
       "([0, 1, 2, 3, 4, 5, 6, 7, 8, 9, 10, 11, 12, 13, 14, 15, 16, 17],\n",
       " <a list of 18 Text xticklabel objects>)"
      ]
     },
     "execution_count": 21,
     "metadata": {},
     "output_type": "execute_result"
    },
    {
     "data": {
      "image/png": "[encoded data removed]",
      "text/plain": [
       "<Figure size 432x288 with 1 Axes>"
      ]
     },
     "metadata": {
      "needs_background": "light"
     },
     "output_type": "display_data"
    }
   ],
   "source": [
    "plt.hist([males[\"Q9\"],Females[\"Q9\"]] ,label=\"males\")\n",
    "plt.xticks(rotation=90)"
   ]
  },
  {
   "cell_type": "markdown",
   "metadata": {},
   "source": [
    "### 3)Use: random sampling, empirical distributions, sample comparisons, bootstrap, and hypothesis testing as well as A/B testing - that we discussed in the class - to analyze the income gap between female and male employees"
   ]
  },
  {
   "cell_type": "markdown",
   "metadata": {},
   "source": [
    "#### Select a sample from the population. Make sure your sample include 500 employees selected from the population, and consider how to ensure the sampling strategy is fair since the datasets include an overwhelming number of male employees compared to female employees"
   ]
  },
  {
   "cell_type": "code",
   "execution_count": 22,
   "metadata": {},
   "outputs": [
    {
     "data": {
      "text/html": [
       "<div>\n",
       "<style scoped>\n",
       "    .dataframe tbody tr th:only-of-type {\n",
       "        vertical-align: middle;\n",
       "    }\n",
       "\n",
       "    .dataframe tbody tr th {\n",
       "        vertical-align: top;\n",
       "    }\n",
       "\n",
       "    .dataframe thead th {\n",
       "        text-align: right;\n",
       "    }\n",
       "</style>\n",
       "<table border=\"1\" class=\"dataframe\">\n",
       "  <thead>\n",
       "    <tr style=\"text-align: right;\">\n",
       "      <th></th>\n",
       "      <th>Q1</th>\n",
       "      <th>Q9</th>\n",
       "    </tr>\n",
       "  </thead>\n",
       "  <tbody>\n",
       "    <tr>\n",
       "      <th>2</th>\n",
       "      <td>Male</td>\n",
       "      <td>10-20,000</td>\n",
       "    </tr>\n",
       "    <tr>\n",
       "      <th>3</th>\n",
       "      <td>Female</td>\n",
       "      <td>0-10,000</td>\n",
       "    </tr>\n",
       "    <tr>\n",
       "      <th>5</th>\n",
       "      <td>Male</td>\n",
       "      <td>0-10,000</td>\n",
       "    </tr>\n",
       "    <tr>\n",
       "      <th>7</th>\n",
       "      <td>Male</td>\n",
       "      <td>10-20,000</td>\n",
       "    </tr>\n",
       "    <tr>\n",
       "      <th>8</th>\n",
       "      <td>Male</td>\n",
       "      <td>0-10,000</td>\n",
       "    </tr>\n",
       "  </tbody>\n",
       "</table>\n",
       "</div>"
      ],
      "text/plain": [
       "       Q1         Q9\n",
       "2    Male  10-20,000\n",
       "3  Female   0-10,000\n",
       "5    Male   0-10,000\n",
       "7    Male  10-20,000\n",
       "8    Male   0-10,000"
      ]
     },
     "execution_count": 22,
     "metadata": {},
     "output_type": "execute_result"
    }
   ],
   "source": [
    "p.head()"
   ]
  },
  {
   "cell_type": "code",
   "execution_count": 23,
   "metadata": {},
   "outputs": [
    {
     "data": {
      "text/html": [
       "<div>\n",
       "<style scoped>\n",
       "    .dataframe tbody tr th:only-of-type {\n",
       "        vertical-align: middle;\n",
       "    }\n",
       "\n",
       "    .dataframe tbody tr th {\n",
       "        vertical-align: top;\n",
       "    }\n",
       "\n",
       "    .dataframe thead th {\n",
       "        text-align: right;\n",
       "    }\n",
       "</style>\n",
       "<table border=\"1\" class=\"dataframe\">\n",
       "  <thead>\n",
       "    <tr style=\"text-align: right;\">\n",
       "      <th></th>\n",
       "      <th>Q1</th>\n",
       "      <th>Q9</th>\n",
       "    </tr>\n",
       "  </thead>\n",
       "  <tbody>\n",
       "    <tr>\n",
       "      <th>2</th>\n",
       "      <td>Male</td>\n",
       "      <td>15000</td>\n",
       "    </tr>\n",
       "    <tr>\n",
       "      <th>3</th>\n",
       "      <td>Female</td>\n",
       "      <td>5000</td>\n",
       "    </tr>\n",
       "    <tr>\n",
       "      <th>5</th>\n",
       "      <td>Male</td>\n",
       "      <td>5000</td>\n",
       "    </tr>\n",
       "    <tr>\n",
       "      <th>7</th>\n",
       "      <td>Male</td>\n",
       "      <td>15000</td>\n",
       "    </tr>\n",
       "    <tr>\n",
       "      <th>8</th>\n",
       "      <td>Male</td>\n",
       "      <td>5000</td>\n",
       "    </tr>\n",
       "    <tr>\n",
       "      <th>...</th>\n",
       "      <td>...</td>\n",
       "      <td>...</td>\n",
       "    </tr>\n",
       "    <tr>\n",
       "      <th>23844</th>\n",
       "      <td>Male</td>\n",
       "      <td>95000</td>\n",
       "    </tr>\n",
       "    <tr>\n",
       "      <th>23845</th>\n",
       "      <td>Male</td>\n",
       "      <td>5000</td>\n",
       "    </tr>\n",
       "    <tr>\n",
       "      <th>23854</th>\n",
       "      <td>Male</td>\n",
       "      <td>15000</td>\n",
       "    </tr>\n",
       "    <tr>\n",
       "      <th>23855</th>\n",
       "      <td>Male</td>\n",
       "      <td>295000</td>\n",
       "    </tr>\n",
       "    <tr>\n",
       "      <th>23857</th>\n",
       "      <td>Male</td>\n",
       "      <td>15000</td>\n",
       "    </tr>\n",
       "  </tbody>\n",
       "</table>\n",
       "<p>15246 rows × 2 columns</p>\n",
       "</div>"
      ],
      "text/plain": [
       "           Q1      Q9\n",
       "2        Male   15000\n",
       "3      Female    5000\n",
       "5        Male    5000\n",
       "7        Male   15000\n",
       "8        Male    5000\n",
       "...       ...     ...\n",
       "23844    Male   95000\n",
       "23845    Male    5000\n",
       "23854    Male   15000\n",
       "23855    Male  295000\n",
       "23857    Male   15000\n",
       "\n",
       "[15246 rows x 2 columns]"
      ]
     },
     "execution_count": 23,
     "metadata": {},
     "output_type": "execute_result"
    }
   ],
   "source": [
    "p[\"Q9\"]=p[\"Q9\"].replace(['10-20,000','0-10,000','20-30,000','125-150,000','30-40,000','50-60,000',\n",
    "'100-125,000','90-100,000' ,'70-80,000','80-90,000','60-70,000','400-500,000','40-50,000',\n",
    "'150-200,000','300-400,000','200-250,000','500,000+','250-300,000'],[15000,5000,25000,145000,\n",
    "35000,55000,120000,95000,75000,85000,65000,495000,45000,195000,395000,245000,500000,295000])\n",
    "population=p[p[\"Q1\"]!='Prefer to self-describe']\n",
    "population"
   ]
  },
  {
   "cell_type": "code",
   "execution_count": 24,
   "metadata": {},
   "outputs": [
    {
     "data": {
      "text/html": [
       "<div>\n",
       "<style scoped>\n",
       "    .dataframe tbody tr th:only-of-type {\n",
       "        vertical-align: middle;\n",
       "    }\n",
       "\n",
       "    .dataframe tbody tr th {\n",
       "        vertical-align: top;\n",
       "    }\n",
       "\n",
       "    .dataframe thead th {\n",
       "        text-align: right;\n",
       "    }\n",
       "</style>\n",
       "<table border=\"1\" class=\"dataframe\">\n",
       "  <thead>\n",
       "    <tr style=\"text-align: right;\">\n",
       "      <th></th>\n",
       "      <th>Q1</th>\n",
       "      <th>Q9</th>\n",
       "    </tr>\n",
       "  </thead>\n",
       "  <tbody>\n",
       "    <tr>\n",
       "      <th>4423</th>\n",
       "      <td>Male</td>\n",
       "      <td>65000</td>\n",
       "    </tr>\n",
       "    <tr>\n",
       "      <th>8042</th>\n",
       "      <td>Male</td>\n",
       "      <td>15000</td>\n",
       "    </tr>\n",
       "    <tr>\n",
       "      <th>12319</th>\n",
       "      <td>Male</td>\n",
       "      <td>25000</td>\n",
       "    </tr>\n",
       "    <tr>\n",
       "      <th>4972</th>\n",
       "      <td>Male</td>\n",
       "      <td>25000</td>\n",
       "    </tr>\n",
       "    <tr>\n",
       "      <th>7101</th>\n",
       "      <td>Male</td>\n",
       "      <td>55000</td>\n",
       "    </tr>\n",
       "    <tr>\n",
       "      <th>...</th>\n",
       "      <td>...</td>\n",
       "      <td>...</td>\n",
       "    </tr>\n",
       "    <tr>\n",
       "      <th>17814</th>\n",
       "      <td>Female</td>\n",
       "      <td>95000</td>\n",
       "    </tr>\n",
       "    <tr>\n",
       "      <th>11165</th>\n",
       "      <td>Male</td>\n",
       "      <td>195000</td>\n",
       "    </tr>\n",
       "    <tr>\n",
       "      <th>1742</th>\n",
       "      <td>Male</td>\n",
       "      <td>15000</td>\n",
       "    </tr>\n",
       "    <tr>\n",
       "      <th>16210</th>\n",
       "      <td>Male</td>\n",
       "      <td>5000</td>\n",
       "    </tr>\n",
       "    <tr>\n",
       "      <th>16924</th>\n",
       "      <td>Female</td>\n",
       "      <td>55000</td>\n",
       "    </tr>\n",
       "  </tbody>\n",
       "</table>\n",
       "<p>500 rows × 2 columns</p>\n",
       "</div>"
      ],
      "text/plain": [
       "           Q1      Q9\n",
       "4423     Male   65000\n",
       "8042     Male   15000\n",
       "12319    Male   25000\n",
       "4972     Male   25000\n",
       "7101     Male   55000\n",
       "...       ...     ...\n",
       "17814  Female   95000\n",
       "11165    Male  195000\n",
       "1742     Male   15000\n",
       "16210    Male    5000\n",
       "16924  Female   55000\n",
       "\n",
       "[500 rows x 2 columns]"
      ]
     },
     "execution_count": 24,
     "metadata": {},
     "output_type": "execute_result"
    }
   ],
   "source": [
    "sample_data=population.sample(n=500)\n",
    "sample_data"
   ]
  },
  {
   "cell_type": "code",
   "execution_count": 25,
   "metadata": {},
   "outputs": [
    {
     "data": {
      "text/html": [
       "<div>\n",
       "<style scoped>\n",
       "    .dataframe tbody tr th:only-of-type {\n",
       "        vertical-align: middle;\n",
       "    }\n",
       "\n",
       "    .dataframe tbody tr th {\n",
       "        vertical-align: top;\n",
       "    }\n",
       "\n",
       "    .dataframe thead th {\n",
       "        text-align: right;\n",
       "    }\n",
       "</style>\n",
       "<table border=\"1\" class=\"dataframe\">\n",
       "  <thead>\n",
       "    <tr style=\"text-align: right;\">\n",
       "      <th></th>\n",
       "      <th>Q9</th>\n",
       "    </tr>\n",
       "    <tr>\n",
       "      <th>Q1</th>\n",
       "      <th></th>\n",
       "    </tr>\n",
       "  </thead>\n",
       "  <tbody>\n",
       "    <tr>\n",
       "      <th>Male</th>\n",
       "      <td>35000</td>\n",
       "    </tr>\n",
       "  </tbody>\n",
       "</table>\n",
       "</div>"
      ],
      "text/plain": [
       "         Q9\n",
       "Q1         \n",
       "Male  35000"
      ]
     },
     "execution_count": 25,
     "metadata": {},
     "output_type": "execute_result"
    }
   ],
   "source": [
    "males1=population[population[\"Q1\"]==\"Male\"]\n",
    "males1.groupby(\"Q1\").median()"
   ]
  },
  {
   "cell_type": "code",
   "execution_count": 26,
   "metadata": {},
   "outputs": [
    {
     "data": {
      "text/html": [
       "<div>\n",
       "<style scoped>\n",
       "    .dataframe tbody tr th:only-of-type {\n",
       "        vertical-align: middle;\n",
       "    }\n",
       "\n",
       "    .dataframe tbody tr th {\n",
       "        vertical-align: top;\n",
       "    }\n",
       "\n",
       "    .dataframe thead th {\n",
       "        text-align: right;\n",
       "    }\n",
       "</style>\n",
       "<table border=\"1\" class=\"dataframe\">\n",
       "  <thead>\n",
       "    <tr style=\"text-align: right;\">\n",
       "      <th></th>\n",
       "      <th>Q1</th>\n",
       "      <th>Q9</th>\n",
       "    </tr>\n",
       "  </thead>\n",
       "  <tbody>\n",
       "    <tr>\n",
       "      <th>5826</th>\n",
       "      <td>Male</td>\n",
       "      <td>45000</td>\n",
       "    </tr>\n",
       "    <tr>\n",
       "      <th>7537</th>\n",
       "      <td>Male</td>\n",
       "      <td>75000</td>\n",
       "    </tr>\n",
       "    <tr>\n",
       "      <th>2371</th>\n",
       "      <td>Male</td>\n",
       "      <td>25000</td>\n",
       "    </tr>\n",
       "    <tr>\n",
       "      <th>6030</th>\n",
       "      <td>Male</td>\n",
       "      <td>55000</td>\n",
       "    </tr>\n",
       "    <tr>\n",
       "      <th>74</th>\n",
       "      <td>Male</td>\n",
       "      <td>75000</td>\n",
       "    </tr>\n",
       "    <tr>\n",
       "      <th>...</th>\n",
       "      <td>...</td>\n",
       "      <td>...</td>\n",
       "    </tr>\n",
       "    <tr>\n",
       "      <th>3186</th>\n",
       "      <td>Male</td>\n",
       "      <td>5000</td>\n",
       "    </tr>\n",
       "    <tr>\n",
       "      <th>20563</th>\n",
       "      <td>Male</td>\n",
       "      <td>5000</td>\n",
       "    </tr>\n",
       "    <tr>\n",
       "      <th>11428</th>\n",
       "      <td>Male</td>\n",
       "      <td>5000</td>\n",
       "    </tr>\n",
       "    <tr>\n",
       "      <th>4145</th>\n",
       "      <td>Male</td>\n",
       "      <td>120000</td>\n",
       "    </tr>\n",
       "    <tr>\n",
       "      <th>10545</th>\n",
       "      <td>Male</td>\n",
       "      <td>15000</td>\n",
       "    </tr>\n",
       "  </tbody>\n",
       "</table>\n",
       "<p>250 rows × 2 columns</p>\n",
       "</div>"
      ],
      "text/plain": [
       "         Q1      Q9\n",
       "5826   Male   45000\n",
       "7537   Male   75000\n",
       "2371   Male   25000\n",
       "6030   Male   55000\n",
       "74     Male   75000\n",
       "...     ...     ...\n",
       "3186   Male    5000\n",
       "20563  Male    5000\n",
       "11428  Male    5000\n",
       "4145   Male  120000\n",
       "10545  Male   15000\n",
       "\n",
       "[250 rows x 2 columns]"
      ]
     },
     "execution_count": 26,
     "metadata": {},
     "output_type": "execute_result"
    }
   ],
   "source": [
    "males1.sample(n=250) #selecting 250 rows from males data\n"
   ]
  },
  {
   "cell_type": "code",
   "execution_count": 27,
   "metadata": {},
   "outputs": [
    {
     "data": {
      "text/html": [
       "<div>\n",
       "<style scoped>\n",
       "    .dataframe tbody tr th:only-of-type {\n",
       "        vertical-align: middle;\n",
       "    }\n",
       "\n",
       "    .dataframe tbody tr th {\n",
       "        vertical-align: top;\n",
       "    }\n",
       "\n",
       "    .dataframe thead th {\n",
       "        text-align: right;\n",
       "    }\n",
       "</style>\n",
       "<table border=\"1\" class=\"dataframe\">\n",
       "  <thead>\n",
       "    <tr style=\"text-align: right;\">\n",
       "      <th></th>\n",
       "      <th>Q9</th>\n",
       "    </tr>\n",
       "    <tr>\n",
       "      <th>Q1</th>\n",
       "      <th></th>\n",
       "    </tr>\n",
       "  </thead>\n",
       "  <tbody>\n",
       "    <tr>\n",
       "      <th>Female</th>\n",
       "      <td>25000</td>\n",
       "    </tr>\n",
       "  </tbody>\n",
       "</table>\n",
       "</div>"
      ],
      "text/plain": [
       "           Q9\n",
       "Q1           \n",
       "Female  25000"
      ]
     },
     "execution_count": 27,
     "metadata": {},
     "output_type": "execute_result"
    }
   ],
   "source": [
    "Females1=population[population[\"Q1\"]==\"Female\"]\n",
    "Females1.groupby(\"Q1\").median()"
   ]
  },
  {
   "cell_type": "code",
   "execution_count": 28,
   "metadata": {},
   "outputs": [
    {
     "data": {
      "text/html": [
       "<div>\n",
       "<style scoped>\n",
       "    .dataframe tbody tr th:only-of-type {\n",
       "        vertical-align: middle;\n",
       "    }\n",
       "\n",
       "    .dataframe tbody tr th {\n",
       "        vertical-align: top;\n",
       "    }\n",
       "\n",
       "    .dataframe thead th {\n",
       "        text-align: right;\n",
       "    }\n",
       "</style>\n",
       "<table border=\"1\" class=\"dataframe\">\n",
       "  <thead>\n",
       "    <tr style=\"text-align: right;\">\n",
       "      <th></th>\n",
       "      <th>Q1</th>\n",
       "      <th>Q9</th>\n",
       "    </tr>\n",
       "  </thead>\n",
       "  <tbody>\n",
       "    <tr>\n",
       "      <th>2963</th>\n",
       "      <td>Female</td>\n",
       "      <td>120000</td>\n",
       "    </tr>\n",
       "    <tr>\n",
       "      <th>14491</th>\n",
       "      <td>Female</td>\n",
       "      <td>25000</td>\n",
       "    </tr>\n",
       "    <tr>\n",
       "      <th>13624</th>\n",
       "      <td>Female</td>\n",
       "      <td>5000</td>\n",
       "    </tr>\n",
       "    <tr>\n",
       "      <th>1792</th>\n",
       "      <td>Female</td>\n",
       "      <td>15000</td>\n",
       "    </tr>\n",
       "    <tr>\n",
       "      <th>10172</th>\n",
       "      <td>Female</td>\n",
       "      <td>5000</td>\n",
       "    </tr>\n",
       "    <tr>\n",
       "      <th>...</th>\n",
       "      <td>...</td>\n",
       "      <td>...</td>\n",
       "    </tr>\n",
       "    <tr>\n",
       "      <th>1475</th>\n",
       "      <td>Female</td>\n",
       "      <td>5000</td>\n",
       "    </tr>\n",
       "    <tr>\n",
       "      <th>2477</th>\n",
       "      <td>Female</td>\n",
       "      <td>55000</td>\n",
       "    </tr>\n",
       "    <tr>\n",
       "      <th>21245</th>\n",
       "      <td>Female</td>\n",
       "      <td>5000</td>\n",
       "    </tr>\n",
       "    <tr>\n",
       "      <th>3312</th>\n",
       "      <td>Female</td>\n",
       "      <td>120000</td>\n",
       "    </tr>\n",
       "    <tr>\n",
       "      <th>23206</th>\n",
       "      <td>Female</td>\n",
       "      <td>45000</td>\n",
       "    </tr>\n",
       "  </tbody>\n",
       "</table>\n",
       "<p>250 rows × 2 columns</p>\n",
       "</div>"
      ],
      "text/plain": [
       "           Q1      Q9\n",
       "2963   Female  120000\n",
       "14491  Female   25000\n",
       "13624  Female    5000\n",
       "1792   Female   15000\n",
       "10172  Female    5000\n",
       "...       ...     ...\n",
       "1475   Female    5000\n",
       "2477   Female   55000\n",
       "21245  Female    5000\n",
       "3312   Female  120000\n",
       "23206  Female   45000\n",
       "\n",
       "[250 rows x 2 columns]"
      ]
     },
     "execution_count": 28,
     "metadata": {},
     "output_type": "execute_result"
    }
   ],
   "source": [
    "Females1.sample(n=250) #selecting 250 rows from females data\n"
   ]
  },
  {
   "cell_type": "markdown",
   "metadata": {},
   "source": [
    "### Define the test statistic, the null hypothesis and the alternative hypothesis"
   ]
  },
  {
   "cell_type": "code",
   "execution_count": 29,
   "metadata": {},
   "outputs": [
    {
     "data": {
      "text/plain": [
       "(0.0, 1.0)"
      ]
     },
     "execution_count": 29,
     "metadata": {},
     "output_type": "execute_result"
    }
   ],
   "source": [
    "p[\"Q9\"].mean()\n",
    "from scipy.stats import ttest_1samp\n",
    "salary_mean = p[\"Q9\"].mean()\n",
    "\n",
    "ttest,pval = ttest_1samp(p[\"Q9\"],salary_mean)\n",
    "ttest,pval"
   ]
  },
  {
   "cell_type": "code",
   "execution_count": 30,
   "metadata": {},
   "outputs": [
    {
     "data": {
      "text/plain": [
       "Ttest_1sampResult(statistic=0.0, pvalue=1.0)"
      ]
     },
     "execution_count": 30,
     "metadata": {},
     "output_type": "execute_result"
    }
   ],
   "source": [
    "import scipy.stats as stats\n",
    "stats.ttest_1samp(a=sample_data[\"Q9\"],popmean=sample_data[\"Q9\"].mean())\n"
   ]
  },
  {
   "cell_type": "code",
   "execution_count": 31,
   "metadata": {},
   "outputs": [
    {
     "data": {
      "text/html": [
       "<div>\n",
       "<style scoped>\n",
       "    .dataframe tbody tr th:only-of-type {\n",
       "        vertical-align: middle;\n",
       "    }\n",
       "\n",
       "    .dataframe tbody tr th {\n",
       "        vertical-align: top;\n",
       "    }\n",
       "\n",
       "    .dataframe thead th {\n",
       "        text-align: right;\n",
       "    }\n",
       "</style>\n",
       "<table border=\"1\" class=\"dataframe\">\n",
       "  <thead>\n",
       "    <tr style=\"text-align: right;\">\n",
       "      <th></th>\n",
       "      <th>Q9</th>\n",
       "    </tr>\n",
       "    <tr>\n",
       "      <th>Q1</th>\n",
       "      <th></th>\n",
       "    </tr>\n",
       "  </thead>\n",
       "  <tbody>\n",
       "    <tr>\n",
       "      <th>Female</th>\n",
       "      <td>25000</td>\n",
       "    </tr>\n",
       "    <tr>\n",
       "      <th>Male</th>\n",
       "      <td>35000</td>\n",
       "    </tr>\n",
       "  </tbody>\n",
       "</table>\n",
       "</div>"
      ],
      "text/plain": [
       "           Q9\n",
       "Q1           \n",
       "Female  25000\n",
       "Male    35000"
      ]
     },
     "execution_count": 31,
     "metadata": {},
     "output_type": "execute_result"
    }
   ],
   "source": [
    "population.groupby('Q1').median()"
   ]
  },
  {
   "cell_type": "code",
   "execution_count": 32,
   "metadata": {},
   "outputs": [
    {
     "data": {
      "text/html": [
       "<div>\n",
       "<style scoped>\n",
       "    .dataframe tbody tr th:only-of-type {\n",
       "        vertical-align: middle;\n",
       "    }\n",
       "\n",
       "    .dataframe tbody tr th {\n",
       "        vertical-align: top;\n",
       "    }\n",
       "\n",
       "    .dataframe thead th {\n",
       "        text-align: right;\n",
       "    }\n",
       "</style>\n",
       "<table border=\"1\" class=\"dataframe\">\n",
       "  <thead>\n",
       "    <tr style=\"text-align: right;\">\n",
       "      <th></th>\n",
       "      <th>Q1</th>\n",
       "      <th>Q9</th>\n",
       "    </tr>\n",
       "  </thead>\n",
       "  <tbody>\n",
       "    <tr>\n",
       "      <th>11166</th>\n",
       "      <td>Male</td>\n",
       "      <td>55000</td>\n",
       "    </tr>\n",
       "    <tr>\n",
       "      <th>5556</th>\n",
       "      <td>Female</td>\n",
       "      <td>85000</td>\n",
       "    </tr>\n",
       "    <tr>\n",
       "      <th>17021</th>\n",
       "      <td>Male</td>\n",
       "      <td>5000</td>\n",
       "    </tr>\n",
       "    <tr>\n",
       "      <th>11859</th>\n",
       "      <td>Male</td>\n",
       "      <td>5000</td>\n",
       "    </tr>\n",
       "    <tr>\n",
       "      <th>16778</th>\n",
       "      <td>Male</td>\n",
       "      <td>35000</td>\n",
       "    </tr>\n",
       "    <tr>\n",
       "      <th>...</th>\n",
       "      <td>...</td>\n",
       "      <td>...</td>\n",
       "    </tr>\n",
       "    <tr>\n",
       "      <th>23508</th>\n",
       "      <td>Male</td>\n",
       "      <td>15000</td>\n",
       "    </tr>\n",
       "    <tr>\n",
       "      <th>13372</th>\n",
       "      <td>Male</td>\n",
       "      <td>145000</td>\n",
       "    </tr>\n",
       "    <tr>\n",
       "      <th>5639</th>\n",
       "      <td>Male</td>\n",
       "      <td>25000</td>\n",
       "    </tr>\n",
       "    <tr>\n",
       "      <th>16784</th>\n",
       "      <td>Male</td>\n",
       "      <td>5000</td>\n",
       "    </tr>\n",
       "    <tr>\n",
       "      <th>5542</th>\n",
       "      <td>Male</td>\n",
       "      <td>15000</td>\n",
       "    </tr>\n",
       "  </tbody>\n",
       "</table>\n",
       "<p>500 rows × 2 columns</p>\n",
       "</div>"
      ],
      "text/plain": [
       "           Q1      Q9\n",
       "11166    Male   55000\n",
       "5556   Female   85000\n",
       "17021    Male    5000\n",
       "11859    Male    5000\n",
       "16778    Male   35000\n",
       "...       ...     ...\n",
       "23508    Male   15000\n",
       "13372    Male  145000\n",
       "5639     Male   25000\n",
       "16784    Male    5000\n",
       "5542     Male   15000\n",
       "\n",
       "[500 rows x 2 columns]"
      ]
     },
     "execution_count": 32,
     "metadata": {},
     "output_type": "execute_result"
    }
   ],
   "source": [
    "sample_data=population.sample(n=500)\n",
    "sample_data"
   ]
  },
  {
   "cell_type": "code",
   "execution_count": 33,
   "metadata": {},
   "outputs": [],
   "source": [
    "sample1=males1.sample(n=250)\n",
    "sample2=Females1.sample(n=250)\n"
   ]
  },
  {
   "cell_type": "markdown",
   "metadata": {},
   "source": [
    "### 3) Draw the income histogram for the sample; calculate the median income of the sample; and draw a red dot and a yellow dot for the female median income and male median income of the population respectively, in the histogram"
   ]
  },
  {
   "cell_type": "code",
   "execution_count": 34,
   "metadata": {},
   "outputs": [
    {
     "data": {
      "text/plain": [
       "<matplotlib.collections.PathCollection at 0x1f1fa9ba088>"
      ]
     },
     "execution_count": 34,
     "metadata": {},
     "output_type": "execute_result"
    },
    {
     "data": {
      "image/png": "[encoded data removed]",
      "text/plain": [
       "<Figure size 432x288 with 1 Axes>"
      ]
     },
     "metadata": {
      "needs_background": "light"
     },
     "output_type": "display_data"
    }
   ],
   "source": [
    "plt.hist(s[\"Q9\"],bins=20)\n",
    "plt.xticks()\n",
    "plt.scatter(p.Q9[males_median],0,color=\"yellow\")\n",
    "plt.scatter(p.Q9[Females_median],0,color=\"red\")"
   ]
  },
  {
   "cell_type": "markdown",
   "metadata": {},
   "source": [
    "### 4)Draw the histogram of the test statistic of the sample, and draw a red dot to show the corresponding test statistic of the population (e.g. the difference of the median incomes between female and male employees) in the diagram"
   ]
  },
  {
   "cell_type": "code",
   "execution_count": 35,
   "metadata": {},
   "outputs": [
    {
     "data": {
      "text/html": [
       "<div>\n",
       "<style scoped>\n",
       "    .dataframe tbody tr th:only-of-type {\n",
       "        vertical-align: middle;\n",
       "    }\n",
       "\n",
       "    .dataframe tbody tr th {\n",
       "        vertical-align: top;\n",
       "    }\n",
       "\n",
       "    .dataframe thead th {\n",
       "        text-align: right;\n",
       "    }\n",
       "</style>\n",
       "<table border=\"1\" class=\"dataframe\">\n",
       "  <thead>\n",
       "    <tr style=\"text-align: right;\">\n",
       "      <th></th>\n",
       "      <th>Q9</th>\n",
       "    </tr>\n",
       "    <tr>\n",
       "      <th>Q1</th>\n",
       "      <th></th>\n",
       "    </tr>\n",
       "  </thead>\n",
       "  <tbody>\n",
       "    <tr>\n",
       "      <th>Female</th>\n",
       "      <td>25000</td>\n",
       "    </tr>\n",
       "    <tr>\n",
       "      <th>Male</th>\n",
       "      <td>35000</td>\n",
       "    </tr>\n",
       "  </tbody>\n",
       "</table>\n",
       "</div>"
      ],
      "text/plain": [
       "           Q9\n",
       "Q1           \n",
       "Female  25000\n",
       "Male    35000"
      ]
     },
     "execution_count": 35,
     "metadata": {},
     "output_type": "execute_result"
    }
   ],
   "source": [
    "population.groupby('Q1').median()"
   ]
  },
  {
   "cell_type": "code",
   "execution_count": 36,
   "metadata": {},
   "outputs": [
    {
     "data": {
      "text/plain": [
       "10000.0"
      ]
     },
     "execution_count": 36,
     "metadata": {},
     "output_type": "execute_result"
    }
   ],
   "source": [
    "diff_male_female_salary=(males1[\"Q9\"].median())-(Females1[\"Q9\"].median())\n",
    "diff_male_female_salary"
   ]
  },
  {
   "cell_type": "code",
   "execution_count": 37,
   "metadata": {},
   "outputs": [
    {
     "data": {
      "text/plain": [
       "<matplotlib.legend.Legend at 0x1f1fab111c8>"
      ]
     },
     "execution_count": 37,
     "metadata": {},
     "output_type": "execute_result"
    },
    {
     "data": {
      "image/png": "[encoded data removed]",
      "text/plain": [
       "<Figure size 432x288 with 1 Axes>"
      ]
     },
     "metadata": {
      "needs_background": "light"
     },
     "output_type": "display_data"
    }
   ],
   "source": [
    "plt.hist(sample1[\"Q9\"],bins=20,alpha=1.0,edgecolor='black',color='blue', linewidth=1.2,label=\"males salary\") # PLot histogram for 500 samples of Median salries of Male and Female \n",
    "plt.hist(sample2[\"Q9\"],bins=20,alpha=1.0,edgecolor='black',color='pink', linewidth=1.2,label=\"Females salary\") # PLot histogram for 500 samples of Median salries of Male and Female \n",
    "\n",
    "plt.scatter(diff_male_female_salary,0,color='red',label='Median') # Plot dot for Median differnce of male and female\n",
    "plt.legend()"
   ]
  },
  {
   "cell_type": "markdown",
   "metadata": {},
   "source": [
    "### 5)Write a procedure to use bootstrap to produce at least 5000 samples"
   ]
  },
  {
   "cell_type": "code",
   "execution_count": 38,
   "metadata": {},
   "outputs": [],
   "source": [
    "np.random.seed(500)\n",
    "def bootstrap(population):\n",
    "    sample=np.random.choice(population,len(population))\n",
    "    v=sample.mean()\n",
    "    return v\n",
    "\n"
   ]
  },
  {
   "cell_type": "code",
   "execution_count": 39,
   "metadata": {},
   "outputs": [
    {
     "name": "stdout",
     "output_type": "stream",
     "text": [
      "[51869.34277843369, 52581.98871835235, 52105.79824216188, 51315.75495211859, 52060.86842450479, 52218.28676374131, 51480.06034369671, 52213.039485766756, 52067.09956709957, 51056.670602125145, 51718.48353666536, 51909.025318116226, 52503.607503607505, 51601.40364685819, 51789.32178932179, 51726.35445362718, 51846.71389216844, 52375.377148104424, 52264.528400892035, 51190.148235602785, 52170.07739735013, 52156.63124754034, 51382.3297914207, 52069.72320608684, 52885.01902138266, 52948.642266824085, 51155.385019021385, 51268.201495474226, 51556.4738292011, 52641.67650531287, 51896.56303292667, 52842.05693296602, 51897.874852420304, 52040.86317722681, 51051.75127902401, 52109.405745769385, 51889.020070838254, 51743.40810704447, 51420.044601862784, 52196.313787222876, 52210.415846779484, 52309.78617342254, 51427.5875639512, 51468.58192312738, 51458.41532205169, 51895.25121343303, 51887.38029647121, 51907.71349862259, 52388.167388167385, 51803.09589400498, 51942.8046700774, 52041.84704184704, 51618.457300275484, 52738.42319296865, 51811.62272071363, 52480.65066246884, 51637.150728059816, 52244.85110848747, 52861.07831562377, 52032.008395644756, 51620.425029515936, 51715.53194280467, 51237.701692247145, 50815.951725042636, 51311.49153876427, 52710.219073855435, 52196.64174209629, 51448.57667584941, 51635.51095369277, 51999.212908303816, 53187.39341466614, 51406.598452053, 52101.20687393415, 51554.50609996064, 50947.78958415322, 51673.225764134855, 52396.038305129216, 51907.71349862259, 51287.22287813197, 51573.19952774498, 52274.36704709432, 51872.950282041194, 52329.79142070051, 51820.805457169095, 51319.6904105995, 51380.690017053654, 52193.36219336219, 50887.44588744589, 52014.95474222747, 52253.37793519612, 51521.3826577463, 51758.821986094714, 51852.61707988981, 52072.01889020071, 51796.5367965368, 51922.79942279942, 51533.18903318903, 52364.88259215532, 51991.34199134199, 51132.756132756134, 51614.19388692116, 52815.82054309327, 51895.25121343303, 51659.45165945166, 52531.48366784731, 51732.58559622196, 52046.43841007477, 51459.0712317985, 52415.38764266037, 52326.51187196642, 51275.08854781582, 51712.580348943986, 52044.798635707724, 52985.70116751935, 51003.54191263282, 52747.2779745507, 51219.00826446281, 51767.34881280336, 52171.71717171717, 52209.43198215926, 52231.732913551095, 51211.465302374396, 52875.836284927194, 52046.110455201364, 51935.58966286239, 51370.85137085137, 52767.611176702085, 51805.06362324544, 51657.155975337795, 51698.47828938738, 52381.6082906992, 51650.92483274302, 52599.69828151647, 52168.10966810967, 50665.42043814771, 52650.85924176833, 52213.695395513576, 52110.38961038961, 51650.596877869604, 51953.62718089991, 51991.34199134199, 52331.75914994097, 52095.30368621278, 51415.12527876164, 52130.06690279418, 52389.15125278762, 51768.660632297, 52234.68450741178, 52449.82290436836, 52414.73173291355, 52948.642266824085, 51626.65617211072, 52057.260920897286, 52448.83903974813, 52194.01810310901, 51324.93768857405, 51410.53391053391, 51899.18667191394, 52408.828545192184, 51618.12934540207, 52294.04433949888, 51789.6497441952, 52775.482093663915, 52484.258166076346, 51437.75416502689, 52325.52800734619, 50920.56932966024, 51714.22012331103, 52689.88587170406, 51452.51213433032, 51591.89295552932, 52086.44890463072, 52355.371900826445, 53298.24216187852, 51904.10599501509, 51887.38029647121, 51831.3000131182, 51313.787222878134, 52193.36219336219, 52257.96930342385, 51260.00262363899, 52283.54978354978, 52324.21618785255, 51612.88206742752, 51502.68922996196, 51624.68844287026, 52531.155712973894, 52384.55988455989, 51796.864751410205, 52239.60383051292, 51623.704578250035, 52639.380821199, 51784.40246622065, 51263.9380821199, 51397.08776072413, 52235.01246228519, 52928.3090646727, 51853.92889938344, 51223.599632690544, 51338.71179325725, 52002.82041191132, 52289.45297127115, 52975.20661157025, 51897.874852420304, 51705.69329660239, 52476.05929424111, 51445.95303686213, 52439.00039354585, 51644.69369014823, 51964.12173684901, 52772.858454676636, 51911.648957103505, 52027.74498229044, 52069.72320608684, 51524.00629673357, 52690.54178145087, 52683.326774235866, 51836.875245966155, 51990.03017184835, 52853.86330840876, 51327.56132756133, 51752.26288862652, 52291.74865538502, 51990.03017184835, 52378.3287419651, 52019.218155581795, 51734.88128033582, 51659.12370457825, 53188.04932441296, 51652.23665223665, 52148.4323757051, 52129.73894792076, 52686.60632296996, 52125.80348943985, 50763.47894529712, 52462.285189557915, 53146.72701036337, 51902.466220648035, 51619.113210022304, 52995.21185884822, 52157.94306703398, 51878.52551488915, 51588.285451921816, 51520.39879312606, 51331.49678604224, 51931.98215925488, 52886.98675062312, 52195.98583234947, 53083.43171979536, 50491.27640036731, 52271.743408107046, 52392.43080152171, 52274.69500196773, 51992.98176570904, 52577.069395251216, 51572.215663124756, 52208.12016266562, 51200.31483667847, 52193.034238488784, 52715.466351829986, 52230.74904893087, 50759.215531942806, 51975.928112291745, 51893.611439065986, 51880.493244129604, 51546.30722812541, 52061.85228912502, 50902.85976649613, 51472.18942673488, 51751.93493375312, 51757.18221172767, 51371.17932572478, 53346.45152826971, 51813.9184048275, 52356.35576544667, 51138.98727535091, 52345.205299750756, 51360.02886002886, 51385.937295028205, 52652.49901613538, 52094.31982159255, 51861.14390659845, 52472.1238357602, 52057.58887577069, 51003.54191263282, 52154.33556342647, 52990.9484454939, 51976.584022038565, 51862.7836809655, 52129.41099304736, 52072.67479994753, 52593.46713892168, 51901.1544011544, 52064.47592811229, 51729.306047487866, 52373.73737373737, 51601.075691984784, 51391.51252787616, 52344.22143513052, 51724.714679260134, 51051.09536927719, 51730.94582185491, 52673.16017316018, 52326.83982683982, 52617.07988980716, 51158.33661288207, 51421.68437622983, 51115.70247933884, 52411.78013905287, 51620.425029515936, 50736.91460055096, 51526.301980847435, 52735.14364423455, 51768.660632297, 52122.851895579166, 51432.17893217893, 52179.91604355241, 52482.94634658271, 52453.75836284927, 51951.98740653286, 50471.59910796274, 52354.715991079625, 51507.93650793651, 52416.3715072806, 52481.96248196248, 52006.42791551883, 51521.05470287288, 51713.236258690806, 51678.80099698281, 52373.409418863965, 52363.57077266168, 51341.00747737112, 53199.19979010888, 51832.939787485244, 52056.60501115047, 52806.309851764396, 51283.94332939787, 52978.48616030434, 52055.94910140365, 51403.318903318905, 51278.04014167651, 52705.2997507543, 51750.95106913289, 51754.8865276138, 52839.105339105336, 52378.000787091696, 52965.04001049456, 52376.03305785124, 52165.8139839958, 51949.691722419, 52025.44929817657, 51487.27535091172, 52340.94188639643, 52803.686212777124, 51849.33753115571, 51866.06322969959, 51092.089728453364, 52526.89229961957, 51924.11124229306, 51291.48629148629, 51222.943722943724, 52542.63413354322, 52644.30014430014, 52368.81805063623, 51113.406795224975, 52252.39407057589, 52453.430407975866, 52520.66115702479, 51707.988980716254, 52276.006821461364, 51261.97035287944, 52271.743408107046, 52024.46543355634, 51518.1031090122, 52420.30696576151, 52260.26498753772, 51396.759805850714, 52156.959202413746, 51525.646071100615, 52188.11491538764, 52009.37950937951, 51045.848091302636, 52181.22786304604, 52122.52394070576, 51706.677161222615, 51472.51738160829, 51709.300800209894, 52392.75875639512, 51471.20556211465, 52537.714810442085, 52168.76557785649, 52347.82893873803, 51548.60291223928, 52063.82001836547, 51696.83851502033, 52166.14193886921, 52057.916830644106, 52503.27954873409, 51663.059163059166, 52204.84061393153, 51689.62350780533, 52711.85884822249, 52084.809130263675, 52124.163715072806, 52187.78696051423, 51749.96720451266, 52603.63373999738, 51968.38515020333, 52400.95762823035, 51473.501246228516, 52264.20044601863, 51601.731601731604, 52133.01849665486, 52747.93388429752, 52023.15361406271, 52135.31418076873, 52495.40863177227, 51560.409287682014, 52169.749442476714, 52678.079496261314, 51337.0720188902, 52084.809130263675, 50862.193362193364, 51829.00432900433, 52287.157287157286, 52446.54335563426, 51649.285058375965, 51143.25068870524, 52176.63649481831, 51964.12173684901, 52091.368227731866, 52358.65144956054, 52112.02938475666, 52449.49494949495, 52342.25370589007, 52075.62639380821, 51383.313656040926, 51982.48720975994, 52331.75914994097, 52523.61275088548, 51354.78158205431, 52418.99514626787, 51634.19913419913, 52300.603436967074, 51156.36888364161, 52050.045913682276, 51381.01797192706, 52709.23520923521, 52091.69618260527, 52541.32231404959, 51788.00996982815, 52486.881805063626, 51759.47789584153, 51651.908697363244, 51787.68201495474, 52010.035419126325, 51965.76151121606, 52198.60947133674, 53160.50111504657, 51978.551751279025, 51565.656565656565, 51150.46569592024, 51484.32375705103, 51626.98412698413, 52059.88455988456, 51426.27574445756, 52424.242424242424, 52124.49166994621, 50817.59149940968, 51195.06755870392, 52367.83418601601, 51753.90266299357, 51121.277712186806, 51581.070444706806, 51819.16568280205, 52757.7725304998, 52401.28558310377, 52426.53810835629, 51235.40600813328, 52126.45939918667, 51002.886002886, 51048.1437754165, 52512.13433031615, 52488.19362455726, 51504.0010494556, 52080.54571690935, 52053.98137216319, 53014.23324150597, 52555.096418732785, 52163.51829988194, 51634.85504394595, 51746.35970090515, 52717.76203594385, 52415.71559753378, 51178.34186016004, 51425.291879837336, 53318.57536402991, 51893.28348419257, 51979.863570772664, 53128.68949232586, 52245.50701823429, 51919.19191919192, 52517.709563164106, 51747.999475272205, 50579.496261314445, 52834.1860160042, 52306.83457956185, 52279.28637019546, 51746.031746031746, 52313.06572215663, 52285.84546766365, 52057.260920897286, 51990.03017184835, 51794.24111242293, 51717.17171717172, 50732.32323232323, 52111.04552013643, 51271.153089334905, 51444.64121736849, 51791.94542830907, 52070.37911583366, 51424.635970090516, 52731.86409550046, 52395.05444050899, 52120.5562114653, 51700.773973501244, 51994.9494949495, 51919.847828938735, 51739.472648563555, 51954.611045520134, 52201.88902007084, 52223.20608684245, 51755.54243736062, 51638.79050242687, 51835.89138134593, 52558.04801259347, 52196.64174209629, 52789.25619834711, 52471.79588088679, 51756.198347107435, 52637.74104683196, 51597.14023350387, 52201.56106519743, 52756.46071100616, 51775.21972976519, 51557.12973894792, 52126.45939918667, 51369.53955135773, 51243.93283484192, 52185.819231273774, 51620.09707464253, 51463.66260002623, 52192.05037386856, 52902.72858454676, 52106.126197035286, 51854.912764003675, 50993.37531155713, 52106.126197035286, 51847.36980191526, 52671.52039879312, 51183.589138134594, 53387.11793257248, 52455.39813721632, 51213.43303161485, 52026.76111767021, 52531.48366784731, 52604.617604617604, 50492.91617473435, 52176.63649481831, 52382.92011019284, 52094.64777646596, 51829.00432900433, 51966.74537583628, 51094.71336744064, 51978.551751279025, 51016.98806244261, 52463.92496392496, 52065.45979273252, 52093.00800209891, 52228.453364817, 51307.55608028335, 52179.91604355241, 52170.40535222353, 51719.79535615899, 52224.8458612095, 52307.49048930867, 51344.94293585203, 51588.61340679522, 50890.72543617998, 51815.558179194544, 51437.426210153484, 52012.003148366784, 51761.11767020858, 52743.6704709432, 52138.92168437623, 51676.17735799554, 52106.126197035286, 51407.254361799816, 52541.650268923, 51882.46097337006, 51782.762691853604, 51032.40194149285, 51552.8663255936, 52143.18509773055, 51478.09261445625, 51519.742883379244, 52413.0919585465, 51652.89256198347, 51433.16279679916, 52581.33280860553, 51257.051029778304, 51100.2886002886, 51980.19152564607, 51836.875245966155, 52431.78538633084, 51571.88770825134, 52680.047225501774, 52355.69985569986, 52645.61196379378, 51813.26249508068, 51636.494818313, 52285.51751279024, 52370.785779876685, 52746.62206480388, 52161.55057064148, 51459.0712317985, 52397.02216974944, 52173.684900957625, 50373.54060081333, 52549.52118588482, 51451.20031483668, 52484.914075823166, 51861.47186147186, 51466.94214876033, 51772.2681359045, 51928.374655647385, 51898.85871704054, 52313.39367703004, 52081.20162665617, 52266.16817525908, 51034.36967073331, 52028.072937163844, 52284.86160304342, 51803.423848878396, 51951.65945165945, 51806.70339761249, 51667.978486160304, 51394.13616686344, 53163.45270890725, 51578.77476059294, 52971.927062836156, 51635.838908566184, 52621.999212908304, 51328.87314705497, 52296.34002361275, 51495.14626787354, 51975.27220254493, 51590.58113603568, 52460.64541519087, 52366.850321395774, 51686.67191394464, 51523.02243211334, 52315.68936114391, 52032.664305391576, 51566.968385150205, 52146.13669159124, 52169.42148760331, 51920.503738685555, 51398.07162534435, 52144.49691722419, 51695.854650400106, 53078.184441820806, 52704.97179588088, 52012.98701298701, 52285.51751279024, 50983.864620228254, 51613.53797717434, 52363.57077266168, 52297.979797979795, 51967.4012855831, 52414.075823166735, 51792.60133805589, 51437.426210153484, 52138.92168437623, 52479.99475272203, 52509.83864620228, 51635.51095369277, 51755.21448248721, 51921.159648432375, 51072.4124360488, 51782.43473698019, 51112.42293060475, 51984.12698412698, 51194.4116489571, 51791.28951856225, 51767.67676767677, 51816.214088941364, 51394.13616686344, 51734.55332546242, 52169.093532729894, 52460.64541519087, 53114.91538764266, 52155.64738292011, 52349.14075823167, 52395.382395382396, 51845.4020726748, 52417.68332677423, 52442.27994227994, 52085.13708513709, 51573.52748261839, 51998.88495343041, 52444.57562639381, 51829.98819362456, 51441.6896235078, 52246.490882854516, 51877.86960514233, 51557.45769382133, 52010.691328873145, 52501.31181949364, 52749.90161353798, 52415.05968778696, 51654.532336350516, 52174.66876557786, 51959.202413747866, 51192.77187459006, 52089.72845336482, 51993.63767545586, 52044.142725960904, 52042.50295159386, 52795.81529581529, 52153.679653679654, 51993.309720582445, 51870.982552800735, 52864.357864357866, 52385.54374918011, 52794.17552144825, 53001.11504656959, 52515.741833923654, 50587.69513314968, 52022.82565918929, 52410.796274432636, 51606.65092483274, 51214.74485110849, 52270.10363374, 51954.611045520134, 51984.12698412698, 52651.187196641746, 51410.86186540732, 51561.065197428834, 52587.56395120032, 52176.308539944905, 52164.174209628756, 52094.97573133937, 52216.319034500855, 52886.6587957497, 52427.84992784993, 51229.1748655385, 51066.18129345402, 52380.95238095238, 52223.53404171586, 52230.09313918405, 52216.319034500855, 52146.46464646464, 52001.50859241768, 52151.05601469238, 52176.63649481831, 50959.59595959596, 52006.09996064541, 53057.1953299226, 52261.24885215794, 51579.10271546635, 51636.494818313, 50896.30066902794, 52234.68450741178, 51054.04696313787, 52583.6284927194, 52179.26013380559, 51615.5057064148, 51782.43473698019, 51856.88049324413, 51987.73448773449, 51853.92889938344, 51389.87275350912, 52349.14075823167, 52748.917748917745, 51396.759805850714, 52357.995539813724, 52155.97533779352, 51813.9184048275, 51492.850583759675, 51397.74367047094, 51824.08500590319, 52468.844287026106, 51849.33753115571, 51688.31168831169, 51235.73396300669, 52282.89387380297, 52591.171454807816, 51517.44719926538, 51887.708251344615, 52131.0507674144, 51192.77187459006, 52219.59858323495, 51714.87603305785, 51393.48025711662, 52538.04276531549, 51659.77961432507, 51091.10586383314, 51825.39682539683, 51875.57392102847, 51681.42463597009, 52308.4743539289, 52976.51843106389, 51600.74773711137, 52247.146792601336, 51892.299619572346, 51853.600944510035, 51478.09261445625, 52159.25488652761, 51909.681227863046, 51928.374655647385, 52448.183130001315, 51771.61222615768, 51494.162403253315, 51909.025318116226, 51687.65577856487, 52638.39695657878, 53063.42647251738, 52130.39485766758, 51274.76059294241, 51690.27941755214, 51887.38029647121, 52371.76964449692, 52249.114521841795, 52431.78538633084, 52099.89505444051, 50962.21959858324, 51906.07372425554, 51359.70090515545, 51991.01403646858, 51615.177751541385, 51805.06362324544, 51676.50531286895, 51946.74012855831, 51758.166076347894, 51529.90948445494, 52228.12540994359, 51983.799029253576, 51495.80217762036, 51125.86908041454, 52178.27626918536, 51117.01429883248, 52142.52918798373, 51838.187065459795, 52374.065328610784, 52875.180375180375, 51749.63924963925, 51750.29515938607, 52181.22786304604, 52009.0515545061, 51400.36730945822, 51970.35287944379, 51639.774367047095, 51240.325331234424, 51780.139052866325, 51311.819493637675, 51666.666666666664, 52669.55266955267, 51502.03332021514, 51879.83733438279, 51913.61668634396, 51277.712186803095, 52603.305785123965, 51767.67676767677, 51718.81149153876, 51888.69211596484, 51422.01233110324, 51854.912764003675, 52448.83903974813, 51124.5572609209, 52318.968909878, 52612.48852157943, 51379.70615243343, 51489.24308015217, 52640.69264069264, 51526.62993572085, 52313.39367703004, 51825.72478027023, 51652.89256198347, 52028.072937163844, 51693.23101141283, 51980.84743539289, 52079.56185228912, 52111.37347500984, 52648.23560278106, 52337.00642791552, 52554.11255411255, 51948.37990292536, 51887.38029647121, 51662.07529843893, 51641.086186540735, 51941.16489571035, 53016.52892561984, 52429.489702216975, 52281.910009182735, 51628.95185622459, 52339.958021776205, 52260.592942411124, 51638.79050242687, 51723.07490489309, 52018.23429096156, 52365.86645677555, 52549.19323101141, 51374.13091958546, 52063.82001836547, 52528.86002886003, 52570.18234290962, 52223.20608684245, 51711.924439197166, 52368.81805063623, 52840.417158598975, 51571.23179850452, 51349.206349206346, 52241.899514626784, 51755.54243736062, 52818.11622720714, 51348.550439459534, 52624.622851895576, 51989.04630722813, 52062.180243998424, 51438.082119900304, 51698.15033451397, 51176.04617604618, 52025.44929817657, 51816.869998688184, 52699.06860815952, 51061.58992522629, 51740.784468057194, 51326.5774629411, 51892.62757444576, 51225.89531680441, 53079.496261314445, 52019.218155581795, 51745.70379115834, 51655.844155844155, 51749.31129476584, 52577.39735012462, 51159.97638724912, 51785.71428571428, 52871.90082644628, 52263.2165813984, 51432.83484192575, 51402.33503869868, 51776.85950413223, 52973.89479207661, 52579.03712449167, 51906.72963400236, 51820.805457169095, 52674.79994752722, 51651.252787616424, 51712.580348943986, 51939.197166469894, 52432.44129607766, 52253.04998032271, 51905.41781450872, 52129.08303817395, 52837.46556473829, 51663.059163059166, 51778.171323625866, 52102.846648301194, 51727.010363374, 51818.50977305523, 52006.42791551883, 52209.43198215926, 52207.13629804539, 51426.27574445756, 51528.925619834714, 52226.485635576544, 52453.10245310245, 51528.925619834714, 51371.8352354716, 51885.740522104155, 51455.79168306441, 51905.745769382134, 52012.98701298701, 51763.74130919585, 51238.357601993965, 52544.27390791027, 52606.25737898465, 51699.46215400761, 51637.150728059816, 52317.00118063755, 51785.05837596747, 52140.233503869866, 52365.86645677555, 52832.87419651056, 51078.31562377017, 52505.57523284796, 51982.48720975994, 51231.14259477896, 52625.934671389216, 52153.35169880625, 51826.70864489047, 51560.73724255543, 51718.48353666536, 51490.2269447724, 52018.562245834975, 52906.00813328086, 51669.29030565394, 52197.29765184311, 50625.40994359176, 52506.55909746819, 51419.06073724256, 52208.448117539025, 52286.17342253706, 51587.9574970484, 51801.456119637936, 51037.6492194674, 52302.57116620753, 51516.791289518565, 51461.03896103896, 51663.38711793257, 52516.39774367047, 50909.09090909091, 52303.882985701166, 52743.01456119638, 52674.1440377804, 52228.453364817, 51289.51856224584, 52728.256591892954, 51717.49967204512, 51461.03896103896, 51503.017184835364, 51633.871179325724, 52547.881411517774, 51476.124885215795, 51965.43355634265, 52039.87931260659, 52374.39328348419, 51379.70615243343, 51046.504001049456, 51172.43867243867, 51986.09471336744, 52252.06611570248, 51862.12777121868, 51502.36127508855, 51356.74931129476, 51599.107962744325, 51714.548078184445, 53539.944903581265, 52100.878919060735, 51644.36573527483, 51720.1233110324, 51344.614980978615, 53035.22235340417, 52195.001967729244, 52244.52315361406, 52309.45821854913, 51060.93401547947, 52177.94831431195, 51924.439197166466, 52507.87091696182, 52003.80427653155, 52944.05089859635, 52332.743014561194, 52266.8240850059, 52606.91328873147, 51964.12173684901, 51782.762691853604, 52520.00524727797, 51696.83851502033, 52227.797455070184, 52073.330709694346, 51641.74209628755, 51565.656565656565, 51701.10192837466, 51588.941361668636, 51734.225370589, 51780.794962613145, 51299.68516332153, 52136.62600026236, 51691.59123704578, 51645.67755476847, 51045.192181555816, 51485.96353141808, 51652.564607110064, 51637.150728059816, 52148.4323757051, 52046.43841007477, 52599.04237176965, 51188.50846123573, 53034.89439853076, 52076.93821330185, 51723.402859766495, 51967.4012855831, 51581.39839958022, 51651.252787616424, 51648.95710350256, 52256.3295290568, 52799.75075429621, 52504.91932310114, 52117.604617604615, 52323.888232979145, 51119.63793781975, 52127.4432638069, 51571.88770825134, 52923.71769644497, 51645.67755476847, 52005.77200577201, 51635.182998819364, 51195.06755870392, 52022.16974944247, 52380.29647120556, 52116.29279811098, 52421.61878525515, 52423.2585596222, 52445.23153614063, 53213.301849665484, 52126.787354060085, 51424.635970090516, 51539.0922209104, 52173.684900957625, 51894.59530368621, 51574.18339236521, 53206.08684245048, 51991.34199134199, 52764.98753771481, 51868.68686868687, 52632.16581398399, 51953.62718089991, 51465.63032926669, 51917.22418995146, 51635.838908566184, 51405.61458743277, 51408.23822642004, 51529.25357470812, 51593.204775022954, 52078.905942542304, 51883.44483799029, 50273.514364423456, 52376.03305785124, 52820.08395644759, 52174.340810704445, 52437.3606191788, 52463.92496392496, 51964.12173684901, 52666.601075691986, 51278.368096549915, 53008.3300537846, 52082.84140102322, 51688.96759805851, 51952.31536140627, 52393.414666141936, 51615.177751541385, 52301.5873015873, 51185.556867375046, 52560.99960645415, 51364.94818313, 52246.81883772793, 51890.33189033189, 51934.60579824216, 51054.37491801128, 52281.58205430933, 51113.73475009839, 51927.718745900565, 51553.52223534042, 53019.80847435393, 52650.85924176833, 52061.1963793782, 52260.592942411124, 51935.58966286239, 52270.75954348681, 51271.48104420832, 51451.8562245835, 52750.885478158205, 52021.18588482225, 50796.27443263807, 52373.08146399056, 52429.16174734357, 51570.2479338843, 50871.70405352223, 52778.43368752459, 51628.95185622459, 51468.25396825397, 51955.266955266954, 52278.30250557523, 52192.70628361537, 51822.11727666273, 51626.32821723731, 50969.106650924834, 51609.27456382002, 51812.278630460445, 52386.85556867375, 52019.218155581795, 52261.90476190476, 52733.503869867505, 51885.41256723075, 51575.49521185885, 52250.75429620884, 51273.120818575364, 52393.414666141936, 52871.24491669946, 51291.48629148629, 51919.847828938735, 51934.27784336875, 51820.149547422276, 52345.861209497576, 51463.33464515283, 52014.626787354064, 52019.5461104552, 51056.670602125145, 51352.15794306703, 52409.81240981241, 52158.926931654205, 51853.27298963663, 50914.33818706546, 51396.43185097731, 51907.38554374918, 51882.46097337006, 51987.07857798767, 51352.485897940445, 52184.50741178014, 51609.60251869343, 51657.4839302112, 52202.21697494425, 51158.00865800866, 51653.22051685688, 52523.28479601207, 52584.94031221304, 51022.23534041716, 52202.87288469107, 51151.77751541388, 52350.124622851894, 52381.93624557261, 51178.34186016004, 51997.245179063364, 52716.778171323625, 51924.76715203988, 51736.52105470288, 51828.0204643841, 51513.83969565788, 52605.929424111244, 52113.99711399712, 52081.85753640299, 51794.56906729634, 51308.21199003017, 52512.13433031615, 51855.8966286239, 51579.75862521317, 51957.56263938082, 51295.749704840615, 51357.733175915, 51304.93244129608, 52048.07818444182, 50931.719795356155, 52124.49166994621, 51777.51541387905, 51589.597271415456, 52305.850714941625, 51565.656565656565, 52247.47474747475, 51634.19913419913, 50831.03764921947, 52231.40495867769, 52003.47632165814, 51858.52026761118, 52499.672045126594, 52004.78814115178, 51609.930473566834, 52848.288075560806, 52686.93427784337, 53228.05981896891, 52091.368227731866, 51545.979273252, 52048.07818444182, 51849.009576282304, 51769.316542043816, 51426.93165420438, 51946.74012855831, 51853.92889938344, 52183.1955922865, 51916.56828020464, 51133.08408762954, 51703.06965761511, 51277.712186803095, 51751.2790240063, 51460.055096418735, 52690.21382657746, 52410.46831955923, 52848.288075560806, 51811.62272071363, 51923.45533254624, 53423.520923520926, 51723.73081463991, 52109.405745769385, 51096.681096681095, 52322.90436835891, 52156.959202413746, 51344.94293585203, 52464.252918798375, 51531.87721369539, 52745.638200183654, 51790.63360881543, 52547.225501770954, 51379.05024268661, 51714.548078184445, 52582.97258297258, 51409.55004591368, 52255.34566443657, 52209.759937032664, 51245.24465433556, 52487.86566968385, 51791.28951856225, 52222.22222222222, 52702.020202020205, 52150.72805981897, 51517.44719926538, 51483.01193755739, 51721.10717565263, 52512.462285189555, 52419.65105601469, 52786.304604486424, 51806.37544273908, 51639.118457300276, 52996.19572346845, 50821.52695789059, 52851.5676242949, 52341.269841269845, 52785.97664961301, 51315.09904237177, 52260.92089728454, 52400.95762823035, 52175.652630198085, 51705.03738685557, 51474.813065722155, 51342.31929686475, 52220.91040272859, 52172.04512659058, 52766.299357208445, 51280.99173553719, 51593.53272989637, 51176.04617604618, 51901.48235602781, 51985.110848747216, 51789.97769906861, 52476.38724911452, 52684.31063885609, 51621.736849009576, 50230.88023088023, 52259.281122917484, 52610.520792338975, 52346.8450741178, 51751.93493375312, 51797.520661157025, 53124.75403384494, 52006.42791551883, 51661.74734356553, 53042.43736061918, 51569.59202413748, 51703.06965761511, 51803.09589400498, 52203.85674931129, 52341.269841269845, 51306.90017053654, 51935.58966286239, 51891.31575495212, 51383.313656040926, 51507.608553063095, 51713.236258690806, 51605.011150465696, 52308.80230880231, 51442.34553325462, 52527.22025449298, 51461.69487078578, 51525.646071100615, 51556.80178407451, 51614.19388692116, 51628.95185622459, 52243.53928899384, 52137.28191000918, 51463.00669027942, 52558.04801259347, 52154.66351829988, 51346.91066509248, 52130.06690279418, 51631.24754033845, 52532.79548734094, 51307.55608028335, 51558.44155844156, 51425.291879837336, 52228.453364817, 50445.36271808999, 51547.619047619046, 51219.00826446281, 52307.49048930867, 51665.35484717303, 52052.669552669555, 52412.43604879968, 51830.972058244784, 52532.79548734094, 51827.36455463728, 52260.592942411124, 52684.96654860291, 52059.88455988456, 51826.38069001705, 51045.52013642923, 52749.90161353798, 52391.77489177489, 52219.92653810835, 51680.440771349866, 52992.26026498754, 52976.19047619047, 51134.72386199659, 51566.968385150205, 52366.850321395774, 52053.325462416375, 51944.444444444445, 51766.36494818313, 52925.68542568543, 51134.067952249774, 52509.18273645546, 51664.04302767939, 52043.48681621409, 52181.88377279286, 50978.94529712712, 52435.72084481175, 52132.36258690804, 51484.32375705103, 52206.48038829857, 51475.79693034238, 52469.500196772926, 52265.840220385675, 53147.710874983604, 52551.816869998685, 52190.0826446281, 52250.75429620884, 52877.804014167654, 52234.35655253837, 52012.003148366784, 51614.52184179457, 51575.49521185885, 52173.02899121081, 52169.42148760331, 51945.100354191265, 51925.095106913286, 51919.847828938735, 51877.86960514233, 52374.721238357604, 52582.31667322577, 51942.476715203986, 51212.77712186803, 51976.25606716516, 51906.401679128954, 52100.878919060735, 51538.764266037, 51843.76229830775, 52068.4113865932, 51581.070444706806, 51842.12252394071, 51419.388692115965, 52099.5670995671, 51847.36980191526, 51791.617473435654, 51460.711006165555, 51641.74209628755, 51535.4847173029, 52613.14443132625, 51949.03581267218, 51609.930473566834, 51715.20398793126, 51481.70011806375, 52428.177882723336, 52036.27180899908, 51754.55857274039, 51360.35681490227, 52144.8248720976, 52261.90476190476, 51417.0930080021, 52205.82447855175, 51977.239931785385, 51891.64370982553, 51728.650137741046, 51730.28991210809, 52081.20162665617, 52577.069395251216, 52378.656696838516, 51830.972058244784, 51716.84376229831, 52188.11491538764, 51794.24111242293, 52123.8357601994, 52745.31024531025, 52450.47881411518, 52527.22025449298, 53066.37806637806, 53136.232454414276, 51195.72346845074, 51202.61052079234, 51596.81227863046, 51964.44969172242, 51120.94975731339, 51873.93414666142, 51144.56250819887, 51437.426210153484, 52208.77607241244, 52174.340810704445, 51230.48668503214, 50502.09891118982, 51497.113997114, 52020.20202020202, 51988.718352354714, 51889.34802571166, 51973.96038305129, 52617.07988980716, 52037.58362849272, 52441.624032533124, 51295.749704840615, 51342.31929686475, 50852.68267086449, 51867.70300406664, 51270.16922471468, 52141.87327823691, 51513.83969565788, 52266.8240850059, 51408.89413616686, 50977.96143250689, 52275.02295684114, 51838.187065459795, 52588.21986094713, 52346.51711924439, 51776.53154925882, 51340.02361275088, 52042.83090646727, 52079.88980716254, 52801.718483536664, 52800.07870916962, 51688.31168831169, 51736.19309982946, 51455.13577331759, 51197.03528794438, 52343.2375705103, 52186.14718614719, 51802.767939131576, 51635.838908566184, 52085.7929948839, 51766.36494818313, 51493.17853863308, 52386.19965892693, 51919.19191919192, 51868.358913813456, 52337.66233766234, 51966.417420962876, 51448.90463072281, 51725.69854388036, 53039.485766758495, 51891.64370982553, 52557.39210284665, 51300.996982815166, 52023.48156893611, 52106.4541519087, 51882.46097337006, 52474.74747474748, 51763.08539944904, 50850.38698675062, 51670.60212514758, 51707.00511609603, 52717.10612619703, 51232.45441427259, 51863.43959071232, 51501.37741046832, 52050.045913682276, 51730.94582185491, 51685.360094451, 52019.5461104552, 51153.74524465433, 51747.999475272205, 51127.50885478158, 53058.50714941624, 51732.25764134855, 51042.568542568544, 51743.40810704447, 51831.627967991604, 51331.49678604224, 51373.80296471206, 52089.400498491406, 51892.299619572346, 51321.33018496655, 52335.36665354847, 51951.65945165945, 51817.19795356159, 51865.079365079364, 51884.10074773711, 52099.23914469369, 52175.98058507149, 51863.11163583891, 52393.74262101535, 53059.16305916306, 51191.13210022301, 50842.188114915385, 52410.796274432636, 52369.80191525646, 51182.933228387774, 52280.27023481569, 51886.396431850975, 51561.39315230224, 52880.09969828152, 52895.185622458346, 52443.91971664699, 51195.72346845074, 52020.85792994884, 52132.69054178145, 51971.336744064014, 52010.691328873145, 51118.65407319953, 52686.27836809655, 51792.27338318247, 52086.776859504134, 52049.390003935456, 52176.308539944905, 51462.02282565919, 51605.3391053391, 50869.73632428178, 51873.2782369146, 52304.21094057458, 52388.167388167385, 51620.75298438935, 52494.75272202545, 52002.1645021645, 50953.36481700118, 51738.16082906992, 51689.62350780533, 51544.01154401154, 52316.34527089073, 52941.09930473567, 52662.33766233766, 52973.23888232979, 51681.09668109668, 52145.48078184442, 50999.93440902532, 52087.432769250954, 53066.37806637806, 51883.44483799029, 53156.23770169225, 52340.94188639643, 51742.42424242424, 51413.81345926801, 51617.801390528664, 51961.170142988325, 52454.41427259609, 51130.46044864227, 52513.118194936374, 51488.91512527876, 52198.937426210156, 52019.218155581795, 52723.993178538636, 52383.90397481307, 51674.537583628495, 51188.180506362325, 51869.670733307095, 51394.46412173685, 51943.788534697625, 51694.87078577988, 51741.11242293061, 52378.98465171192, 51392.16843762298, 51715.20398793126, 51786.042240587696, 51625.67230749049, 52506.8870523416, 51528.269710087894, 53652.105470287286, 52069.06729634002, 51593.860684769774, 51762.101534828806, 52657.74629410993, 52159.25488652761, 51898.85871704054, 51275.41650268923, 51947.72399317854, 52978.15820543093, 51624.68844287026, 52281.910009182735, 52134.65827102191, 52158.271021907385, 52501.96772924046, 51881.805063623244, 51527.28584546766, 51824.74091565001, 51356.74931129476, 51832.61183261183, 51478.42056932966, 52144.8248720976, 52648.23560278106, 51945.756263938085, 51841.13865932048, 51442.673488128035, 52348.812803358254, 52477.37111373475, 51851.633215269576, 52148.104420831696, 51697.166469893746, 52088.41663387118, 52875.836284927194, 52657.74629410993, 51666.666666666664, 51268.201495474226, 52492.12908303818, 51602.05955660501, 51545.32336350518, 52175.98058507149, 51475.468975468975, 50848.747212383576, 53301.19375573921, 52500.983864620226, 51472.18942673488, 52416.69946215401, 51389.2168437623, 51897.5468975469, 52784.992784992784, 50990.09576282304, 51392.8243473698, 51629.6077659714, 53066.05011150466, 51861.79981634527, 51746.35970090515, 51291.48629148629, 51722.091040272855, 52302.57116620753, 52194.67401285583, 51987.40653286108, 51978.22379640561, 52276.33477633478, 52019.218155581795, 52058.24478551751, 52052.99750754296, 52556.40823822642, 52685.62245834973, 53145.087235996325, 51559.753377935194, 52204.51265905811, 52507.87091696182, 50536.862127771215, 51321.986094713364, 50896.62862390135, 52044.142725960904, 52064.14797323888, 52271.087498360226, 52421.29083038174, 52772.858454676636, 52245.8349731077, 51997.57313393677, 51257.706939525124, 51653.876426603696, 52532.13957759412, 52341.92575101666, 51329.857011675194, 51650.2689229962, 51925.4230617867, 52460.64541519087, 51580.08658008658, 51257.051029778304, 51220.975993703265, 51273.776728322184, 52536.07503607504, 52205.49652367834, 52005.44405089859, 52171.38921684376, 52105.470287288466, 52230.74904893087, 51043.880362062184, 52884.69106650925, 51733.56946084219, 51851.633215269576, 51585.33385806113, 51600.09182736455, 51766.36494818313, 50606.71651580743, 51473.82920110193, 52081.20162665617, 51731.273776728325, 52678.735406008134, 52343.89348025712, 51152.761380034106, 50930.08002098911, 51855.24071887708, 51580.7424898334, 51452.840089203724, 52294.04433949888, 52039.87931260659, 51513.18378591106, 51589.26931654204, 51758.166076347894, 51895.90712317985, 51682.08054571691, 52342.90961563689, 52397.67807949626, 52124.163715072806, 51780.794962613145, 52267.152039879315, 51897.874852420304, 52317.00118063755, 51136.36363636364, 51502.03332021514, 52013.970877607244, 51124.885215794304, 52920.76610258428, 51915.91237045782, 52923.38974157156, 51130.788403515675, 52084.153220516855, 51381.34592680047, 51605.99501508592, 52352.09235209235, 52488.19362455726, 52906.99199790109, 51431.19506755871, 52145.48078184442, 51770.628361537456, 51486.291486291484, 52403.25331234422, 51320.34632034632, 52159.91079627443, 51395.12003148367, 51807.0313524859, 51457.10350255805, 52331.43119506756, 51718.81149153876, 52006.42791551883, 53152.302243211336, 52387.18352354716, 50545.71690935327, 51893.93939393939, 53545.52013642923, 51986.75062311426, 51133.08408762954, 52494.75272202545, 52248.13065722157, 52400.30171848353, 51373.80296471206, 52056.27705627705, 51603.37137609865, 52105.14233241506, 52878.13196904106, 51011.74078446806, 51520.72674799948, 51604.68319559229, 51403.974813065724, 50824.806506624685, 52663.97743670471, 51982.48720975994, 51164.56775547685, 52095.631641086184, 52073.65866456775, 51820.805457169095, 52246.81883772793, 52824.67532467532, 51258.69080414535, 51703.39761248852, 51712.25239407057, 52310.11412829594, 51981.50334513971, 52271.087498360226, 51545.32336350518, 51988.062442607894, 52039.55135773317, 51353.46976256067, 51838.187065459795, 52392.102846648304, 52197.625606716516, 52191.722418995145, 51134.72386199659, 52808.277581004855, 51902.79417552145, 52211.39971139971, 51431.52302243211, 53142.13564213564, 52421.94674012856, 51422.34028597665, 51397.74367047094, 52373.08146399056, 52782.69710087892, 52207.792207792205, 51265.90581136035, 51571.88770825134, 51821.78932178932, 51965.76151121606, 51456.44759281123, 52405.22104158468, 51661.74734356553, 52176.964449691724, 51883.7727928637, 51202.938475665746, 51832.61183261183, 52262.23271677817, 51623.048668503216, 52512.462285189555, 52083.497310770035, 52239.60383051292, 52053.325462416375, 52601.99396563033, 51514.4956054047, 52667.58494031221, 51768.9885871704, 50884.822248458615, 51913.94464121737, 51938.21330184967, 51883.7727928637, 52797.12711530893, 53407.12317985045, 51752.59084349994, 52090.712317985046, 51239.013511740784, 51698.80624426079, 52048.73409418864, 52170.07739735013, 51740.128558310375, 51316.410861865406, 51554.50609996064, 53398.59635314181, 51537.45244654336, 52606.585333858064, 51603.04342122524, 52502.295684113866, 52752.197297651845, 51905.089859635314, 52231.732913551095, 50278.10573265119, 52390.135117407845, 51939.853076216714, 51953.62718089991, 51168.50321395776, 51786.042240587696, 52250.75429620884, 52081.52958152958, 52051.02977830251, 52054.63728191001, 50731.339367703, 52541.32231404959, 51811.62272071363, 52147.12055621146, 51190.148235602785, 51728.650137741046, 51384.625475534565, 51844.41820805457, 51814.57431457432, 52244.19519874065, 51667.978486160304, 52295.02820411912, 52540.66640430277, 52380.95238095238, 52437.68857405221, 51880.82119900302, 51326.5774629411, 51626.65617211072, 51201.95461104552, 52158.926931654205, 51901.48235602781, 51908.69736324282, 51306.572215663124, 52388.4953430408, 52431.457431457435, 51322.642004460184, 52450.47881411518, 52282.23796405615, 52572.15007215007, 51150.137741046834, 51143.57864357864, 51744.719926538106, 51521.7106126197, 51727.66627312082, 52293.38842975206, 51605.3391053391, 51765.381083562905, 53029.3191656828, 51694.21487603306, 51971.992653810834, 52541.9782237964, 52599.69828151647, 51187.85255148891, 52246.16292798111, 50735.274826183915, 52322.576413485505, 51898.85871704054, 52099.5670995671, 52053.65341728978, 51482.683982683986, 52092.024137478686, 52127.11530893349, 51892.62757444576, 52463.26905417815, 52251.082251082255, 51918.86396431851, 52288.79706152433, 52569.198478289385, 52080.21776203594, 51662.73120818575, 52706.61157024794, 52250.75429620884, 51865.735274826184, 51076.019939656304, 51827.36455463728, 52437.3606191788, 52483.60225632953, 51722.746950019675, 52433.42516069789, 51009.44510035419, 51409.87800078709, 52796.47120556211, 51417.420962875505, 52087.76072412436, 51275.744457562636, 52546.569592024134, 51198.67506231143, 51886.72438672439, 53024.39984258166, 51302.63675718221, 51970.02492457038, 52339.63006690279, 52476.05929424111, 53234.94687131051, 51935.9176177358, 51789.6497441952, 51725.04263413354, 52202.21697494425, 52065.13183785911, 52106.126197035286, 51590.90909090909, 51923.45533254624, 51602.387511478424, 52363.89872753509, 52140.889413616685, 51950.347632165816, 52467.86042240588, 52035.61589925226, 51620.425029515936, 53149.67860422406, 51725.370589006954, 50624.09812409813, 52703.00406664043, 51523.35038698675, 52009.0515545061, 51010.75691984783, 52217.63085399449, 52402.92535747081, 51904.76190476191, 51840.48274957366, 51136.36363636364, 52209.759937032664, 51306.90017053654, 51508.59241768333, 52476.05929424111, 52646.2678735406, 52173.35694608422, 52830.57851239669, 51386.593204775025, 51756.198347107435, 52434.08107044471, 51777.84336875246, 51262.954217499675, 52770.234815689364, 51723.402859766495, 51978.87970615243, 52194.346057982424, 52394.39853076217, 51287.878787878784, 52140.889413616685, 51064.86947396038, 52388.823297914205, 51165.551620097074, 52743.6704709432, 51171.454807818445, 52085.7929948839, 52799.75075429621, 52006.42791551883, 51808.99908172635, 52028.40089203726, 51334.12042502952, 53166.07634789453, 52142.201233110325, 50897.94044339499, 52607.897153351696, 51699.79010888102, 52132.69054178145, 52275.67886658796, 52215.99107962744, 52133.01849665486, 51654.86029122393, 51931.65420438148, 52333.72687918143, 51249.50806768989, 52336.02256329529, 52057.58887577069, 51584.67794831431, 52637.08513708514, 51556.4738292011, 51108.815426997244, 51192.77187459006, 51681.7525908435, 52550.17709563164, 52522.62888626525, 52292.732520005244, 52015.938606847696, 52499.34409025318, 52048.07818444182, 52366.850321395774, 52373.08146399056, 52575.757575757576, 51913.94464121737, 52646.59582841401, 50958.284140102325, 51426.603699330975, 52342.25370589007, 51870.65459792733, 52174.996720451265, 52838.44942935852, 51494.162403253315, 52356.683720320085, 51967.4012855831, 51257.706939525124, 52552.80073461892, 52721.69749442477, 52441.29607765972, 52547.55345664437, 51980.19152564607, 50702.80729371638, 52205.82447855175, 52671.52039879312, 51874.59005640824, 51487.603305785124, 51808.99908172635, 52086.120949757315, 52089.72845336482, 52189.09878000787, 51448.90463072281, 52091.368227731866, 52312.73776728322, 51176.37413091958, 52300.603436967074, 51307.88403515676, 52769.578905942544, 52177.94831431195, 52018.23429096156, 52187.78696051423, 52459.98950544405, 52149.74419519874, 51225.567361931, 51937.229437229435, 52698.4126984127, 52433.09720582448, 51611.24229306047, 52022.16974944247, 51412.50163977437, 51445.95303686213, 52401.94149285059, 51627.96799160435, 51132.100223009315, 51052.73514364423, 52106.126197035286, 51742.096287550834, 51697.82237964056, 51525.31811622721, 51563.03292666929, 51752.26288862652, 51022.89125016398, 51590.58113603568, 51698.15033451397, 52445.23153614063, 51989.37426210153, 52415.38764266037, 51951.98740653286, 51231.47054965237, 52749.573658664565, 51952.31536140627, 51519.08697363243, 51589.92522628886, 51499.409681227866, 51560.409287682014, 53448.77344877345, 52641.34855043946, 51745.04788141152, 52516.06978879706, 51338.05588351043, 52444.57562639381, 53251.67256985439, 52776.79391315755, 51321.986094713364, 51612.2261576807, 52238.292011019286, 53136.232454414276, 52555.42437360619, 51275.08854781582, 52947.00249245704, 51951.003541912636, 51451.20031483668, 51215.728715728714, 52196.64174209629, 51445.62508198872, 51591.56500065591, 51758.49403122131, 51576.80703135249, 51789.97769906861, 53011.281647645286, 51996.91722418995, 52279.28637019546, 52907.975862521314, 52352.74826183917, 52751.541387905025, 53083.75967466876, 51398.39958021776, 51733.8974157156, 52415.05968778696, 51834.251606978876, 50857.27403909222, 51707.988980716254, 51748.98333989243, 51661.74734356553, 52181.555817919456, 52099.89505444051, 52384.23192968647, 51894.267348812806, 51631.24754033845, 51752.26288862652, 52631.18194936377, 51970.35287944379, 52329.135510953696, 52079.88980716254, 52562.96733569461, 52413.74786829332, 51621.40889413617, 52359.30735930736, 51107.503607503604, 51186.212777121866, 51423.980060343696, 52021.84179456907, 52405.548996458085, 52822.70759543487, 51609.60251869343, 52926.34133543225, 52228.78131969041, 50837.92470156107, 51754.55857274039, 51996.26131444313, 51671.913944641215, 52067.427521972975, 52480.978617342254, 52856.15899252263, 51863.43959071232, 51886.396431850975, 51994.9494949495, 51251.14784205693, 51547.619047619046, 53088.67899776991, 52144.49691722419, 52090.38436311163, 51984.454939000396, 52112.02938475666, 52850.25580480126, 51638.462547553456, 51972.648563557654, 53156.23770169225, 51941.820805457166, 51193.427784336876, 51256.395120031484, 51689.62350780533, 51442.017578381216, 50837.26879181425, 51529.25357470812, 51554.50609996064, 51605.011150465696, 51427.5875639512, 51551.55450609996, 52577.725304998035, 51191.46005509642, 51535.4847173029, 51765.05312868949, 51210.809392627576, 51714.548078184445, 52558.375967466876, 52037.25567361931, 51216.38462547553, 51844.41820805457, 51747.999475272205, 51787.68201495474, 52235.3404171586, 51498.097861734226, 52323.888232979145, 52581.98871835235, 52175.98058507149, 51545.32336350518, 52754.1650268923, 52346.18916437098, 51141.28295946478, 51533.84494293585, 52690.21382657746, 52921.094057457696, 52089.072543618, 51169.8150334514, 51938.86921159649, 52317.00118063755, 52014.29883248065, 51888.03620621802, 51457.431457431456, 52061.524334251604, 51443.98530762167, 51954.93900039355, 51877.21369539551, 52106.126197035286, 51667.978486160304, 51938.21330184967, 52849.59989505444, 51406.598452053, 52986.35707726617, 51677.81713236259, 52615.44011544011, 52718.745900564085, 51792.60133805589, 52474.09156500066, 51699.46215400761, 51822.44523153614, 51902.79417552145, 51716.18785255149, 53257.57575757576, 52028.40089203726, 51471.20556211465, 52003.47632165814, 51907.38554374918, 51486.6194411649, 51558.76951331497, 52601.33805588351, 52566.2468844287, 51744.064016791286, 52794.17552144825, 51998.88495343041, 51757.510166601074, 51776.53154925882, 51513.83969565788, 51138.33136560409, 52238.292011019286, 51852.61707988981, 51680.76872622327, 51811.95067558704, 52243.211334120424, 52543.29004329004, 52178.27626918536, 51158.66456775548, 51551.22655122655, 51051.75127902401, 53410.402728584544, 50828.741965105604, 52491.14521841794, 51565.98452052997, 51612.2261576807, 52194.01810310901, 52238.947920766106, 51978.22379640561, 51549.586776859505, 51214.08894136167, 52603.305785123965, 51714.548078184445, 52841.728978092615, 51565.656565656565, 52639.380821199, 52704.31588613407, 51965.76151121606, 52120.5562114653, 52481.96248196248, 52931.916568280205, 51707.00511609603, 52119.572346845074, 51721.43513052604, 52366.194411648954, 52052.34159779614, 52290.76479076479, 51652.23665223665, 52095.9595959596, 52579.36507936508, 51717.82762691854, 51734.88128033582, 52834.1860160042, 52473.763610127244, 52198.281516463336, 52098.25528007346, 51677.81713236259, 52587.56395120032, 53106.71651580743, 51638.13459268005, 52729.89636626, 51941.820805457166, 51954.93900039355, 52263.872491145215, 51429.55529319165, 53063.42647251738, 52734.159779614325, 52417.02741702742, 52256.98543880362, 51027.1546635183, 51885.740522104155, 51184.24504788141, 51401.67912895186, 52555.096418732785, 52208.12016266562, 51963.137872228785, 51645.34959989505, 51895.90712317985, 52138.59372950282, 52292.07661025843, 51051.75127902401, 52864.68581923127, 51048.79968516332, 52345.861209497576, 52174.996720451265, 51560.08133280861, 52296.01206873934, 51820.805457169095, 51760.13380558835, 51827.36455463728, 52473.10770038043, 52400.95762823035, 52433.7531155713, 51730.617866981505, 51932.96602387512, 52296.34002361275, 52197.625606716516, 51186.212777121866, 51661.09143381871, 51731.273776728325, 51278.04014167651, 52070.37911583366, 51376.42660369933, 51992.65381083563, 51636.16686343959, 52095.9595959596, 52061.524334251604, 51353.46976256067, 52333.398924308014, 52178.60422405877, 52358.32349468713, 53108.02833530106, 51334.12042502952, 52954.87340941886, 51372.16319034501, 53012.92142201233, 52454.7422274695, 51603.37137609865, 51355.10953692772, 52339.63006690279, 52603.961694870784, 51793.91315754952, 52522.62888626525, 52455.72609208973, 52411.452184179456, 51760.13380558835, 51895.57916830644, 51626.98412698413, 52604.94555949101, 52422.60264987538, 51978.87970615243, 52803.686212777124, 52269.44772399318, 52378.98465171192, 50789.05942542306, 52724.32113341204, 51503.34513970878, 51568.60815951725, 50772.661681752594, 51697.82237964056, 52381.28033582579, 51276.07241243605, 52835.169880624424, 52215.663124754035, 52019.5461104552, 51731.273776728325, 52465.89269316542, 52393.08671126853, 51481.372163190346, 52732.847960120685, 51266.56172110717, 51657.811885084615, 52595.106913288735, 51525.31811622721, 51960.514233241505, 52845.66443657353, 52134.330316148495, 52378.656696838516, 52070.051160960254, 51630.26367571822, 52121.540076085534, 52160.894660894664, 52640.36468581923, 51595.82841401023, 51918.86396431851, 51852.289125016396, 51569.91997901089, 52080.54571690935, 51829.660238751145, 52189.42673488128, 52315.361406270495, 50793.65079365079, 52386.19965892693, 51743.08015217106, 51674.20962875508, 53422.865013774106, 51413.48550439459, 52118.916437098254, 52371.1137347501, 52241.24360487997, 51610.25842844025, 51666.33871179326, 51152.4334251607, 51852.61707988981, 52307.81844418208, 51247.86829332284, 54017.11924439197, 51790.961563688834, 52163.84625475534, 51616.81752590844, 51911.648957103505, 50477.17434081071, 51758.166076347894, 51533.84494293585, 51762.757444575625, 50603.76492194674, 52568.87052341598, 52539.68253968254, 51380.690017053654, 51787.02610520792, 51257.051029778304, 51918.86396431851, 52183.52354715991, 52808.933490751675, 51947.72399317854, 51291.15833661288, 51892.955529319166, 51574.83930211203, 51444.9691722419, 51432.17893217893, 51922.1435130526, 52030.040666404304, 51910.993047356686, 51749.63924963925, 51143.57864357864, 51866.06322969959, 52764.98753771481, 52034.632034632035, 52084.809130263675, 51512.52787616424, 52611.5046569592, 51072.08448117539, 52779.41755214483, 51934.27784336875, 52735.79955398137, 51633.54322445232, 52074.97048406139, 52258.29725829726, 52091.69618260527, 51041.256723074905, 51826.38069001705, 51081.59517250426, 52582.31667322577, 51944.11648957103, 52236.98019152565, 52369.47396038305, 51730.617866981505, 51140.29909484455, 51690.93532729896, 51224.255542437364, 51498.753771481046, 51453.495998950544, 52040.53522235341, 50436.83589138134, 51273.44877344877, 52084.48117539027, 51820.805457169095, 51924.11124229306, 51798.176570903845, 52468.844287026106, 51956.25081988718, 52640.03673094582, 51918.86396431851, 51926.406926406926, 51686.67191394464, 50856.6181293454, 51491.538764266035, 50655.90974681884, 51556.14587432769, 51898.53076216712, 51362.98045388955, 51126.52499016136, 52270.75954348681, 52403.58126721763, 52214.02335038699, 51609.930473566834, 51944.77239931785, 51566.64043027679, 52808.277581004855, 51205.562114653025, 51807.687262232714, 51877.21369539551, 52678.40745113472, 51002.886002886, 52213.36744064017, 51851.633215269576, 51079.62744326381, 51721.76308539945, 52253.70589006953, 52299.291617473435, 51643.70982552801, 52357.339630066905, 52032.33635051817, 52126.131444313265, 51731.92968647514, 52768.267086448905, 52009.70746425292, 52378.000787091696, 51246.5564738292, 52016.26656172111, 52207.4642529188, 52165.15807424898, 52662.33766233766, 52359.63531418077, 52259.937032664304, 52063.82001836547, 51446.93690148235, 53080.152171061265, 52486.225895316806, 52473.43565525384, 52772.53049980323, 51765.381083562905, 52040.53522235341, 52003.47632165814, 51902.13826577463, 51994.9494949495, 51862.45572609209, 52142.857142857145, 51540.40404040404, 51363.308408762954, 51818.50977305523, 52188.11491538764, 52771.21868030959, 51417.74891774892, 52239.93178538633, 51661.74734356553, 53471.4023350387, 52490.48930867112, 51792.60133805589, 51405.94254230618, 53074.904893086714, 52377.01692247147, 51736.52105470288, 52053.65341728978, 52424.242424242424, 51776.85950413223, 52185.49127640037, 51790.961563688834, 51531.549258821986, 52924.701561065194, 51390.20070838253, 52613.14443132625, 52321.920503738686, 51910.993047356686, 51679.45690672963, 51442.673488128035, 52548.53732126459, 51688.96759805851, 51466.28623901351, 51793.2572478027, 53134.264725173816, 50927.45638200184, 51761.11767020858, 51153.417289780926, 51779.483143119505, 52378.3287419651, 52347.17302899121, 53010.62573789847, 51608.29069919979, 51669.29030565394, 52313.72163190345, 52063.16410861866, 52354.715991079625, 52034.632034632035, 52156.303292666926, 51910.66509248327, 52243.53928899384, 51455.79168306441, 52901.41676505313, 52198.60947133674, 51391.840482749576, 51911.648957103505, 52088.74458874459, 52167.45375836285, 51331.168831168834, 52062.50819887184, 51389.87275350912, 52420.63492063492, 51745.375836284926, 51287.55083300538, 52734.815689361145, 51227.20713629804, 51173.09458218549, 52841.073068345795, 51970.02492457038, 52020.85792994884, 52625.60671651581, 52113.01324937688, 51458.743276925095, 52141.545323363505, 52935.85202676112, 51526.62993572085, 51496.45808736718, 51951.33149678604, 51444.9691722419, 51216.38462547553, 51785.386330840876, 51550.57064147973, 52338.646202282565, 52372.753509117145, 51506.62468844287, 52198.60947133674, 52174.66876557786, 51151.77751541388, 52682.670864489046, 52408.50059031877, 52144.49691722419, 52062.50819887184, 51799.16043552407, 52235.99632690542, 51582.05430932704, 51621.080939262756, 51413.81345926801, 52418.66719139447, 51829.98819362456, 52391.77489177489, 51443.65735274826, 51750.62311425948, 51979.863570772664, 52333.07096943461, 51140.62704971796, 52251.082251082255, 51858.52026761118, 52294.04433949888, 51871.638462547555, 51209.49757313394, 52090.712317985046, 52609.864882592155, 51157.68070313525, 52762.03594385413, 52149.08828545192, 52148.104420831696, 51064.21356421356, 52477.69906860816, 51616.16161616162, 52316.673225764134, 52703.65997638725, 51609.930473566834, 52172.04512659058, 53302.50557523285, 52907.64790764791, 50871.70405352223, 52314.04958677686, 52210.415846779484, 52235.66837203201, 52146.46464646464, 52092.35209235209, 51929.030565394205, 51262.298307752855, 51805.71953299226, 52392.75875639512, 52250.75429620884, 51999.212908303816, 51977.5678866588, 51755.21448248721, 52555.096418732785, 51663.059163059166, 51604.02728584547, 51512.19992129083, 52452.44654335563, 51403.64685819231, 51472.18942673488, 51128.1647645284, 52096.61550570642, 52413.74786829332, 51182.933228387774, 50864.161091433816, 51335.760199396565, 52005.77200577201, 51613.53797717434, 51684.704184704184, 51396.759805850714, 53083.10376492194, 51305.916305916304, 52182.53968253968, 52295.02820411912, 52073.00275482094, 52941.42725960908, 52019.5461104552, 51916.56828020464, 52705.2997507543, 52148.4323757051, 51650.596877869604, 52409.15650006559, 52799.09484454939, 52104.48642266824, 52639.70877607241, 51740.45651318379, 51521.3826577463, 52430.4735668372, 52398.00603436967, 52671.19244391972, 51273.44877344877, 52402.92535747081, 51752.26288862652, 51993.965630329265, 51953.62718089991, 52348.812803358254, 52343.89348025712, 52383.57601993965, 51565.000655909746, 52230.09313918405, 52212.383576019936, 51499.73763610127, 52455.72609208973, 52347.50098386462, 52051.02977830251, 51364.620228256594, 50955.98845598846, 51502.68922996196, 51803.7518037518, 52892.561983471074, 51548.60291223928, 51968.05719532992, 51248.19624819625, 51512.85583103765, 52344.22143513052, 52171.38921684376, 52822.379640561456, 51346.91066509248, 51549.25882198609, 51950.0196772924, 53186.0815951725, 51193.09982946346, 52262.23271677817, 51614.84979666798, 51492.850583759675, 52082.51344614981, 52065.45979273252, 52006.75587039223, 52487.537714810445, 52121.540076085534, 52112.35733963006, 51946.08421881149, 51718.81149153876, 51946.74012855831, 51775.21972976519, 52060.54046963138, 51560.409287682014, 53272.33372687918, 51350.8461235734, 52042.17499672045, 52585.26826708645, 51936.24557260921, 52403.25331234422, 51707.333070969435, 51256.395120031484, 53170.01180637544, 53078.840351567625, 51168.17525908435, 52174.66876557786, 52113.3412042503, 51341.00747737112, 51174.07844680572, 52259.281122917484, 52494.09681227863, 51655.188246097336, 52419.9790108881, 51716.5158074249, 52069.72320608684, 51251.80375180375, 51475.468975468975, 52094.31982159255, 51265.24990161354, 52458.67768595041, 52027.74498229044, 51437.426210153484, 52715.466351829986, 52605.929424111244, 51299.68516332153, 52219.92653810835, 51269.18536009445, 52216.974944247675, 52692.837465564735, 51297.061524334254, 51979.53561589925, 51784.73042109406, 51995.60540469631, 51345.59884559885, 51499.08172635445, 52468.51633215269, 51335.104289649746, 50528.99121080939, 52348.15689361144, 52076.61025842844, 51968.71310507674, 51714.22012331103, 51422.99619572347, 51263.9380821199, 52169.093532729894, 51718.48353666536, 51644.36573527483, 52772.53049980323, 52838.12147448511, 51677.81713236259, 52167.78171323626, 51095.369277187456, 51081.267217630855, 51248.19624819625, 51875.90187590187, 52548.20936639119, 51916.89623507806, 51206.873934146664, 51553.85019021382, 52757.11662075298, 51530.893349075166, 51923.127377672834, 51690.93532729896, 51952.64331627968, 51435.13052603962, 52077.59412304867, 51668.96235078053, 52386.85556867375, 51476.780794962615, 51348.550439459534, 51502.36127508855, 52327.16778171324, 51943.46057982422, 51791.94542830907, 51716.18785255149, 51729.306047487866, 51646.00550964187, 52531.811622720714, 50606.06060606061, 51514.167650531286, 52352.74826183917, 52410.46831955923, 51908.69736324282, 52011.01928374656, 52439.00039354585, 53298.24216187852, 52570.83825265643, 52262.23271677817, 52425.88219860947, 52256.00157418339, 51714.22012331103, 51393.15230224321, 52047.09431982159, 51001.902138265774, 51655.51620097075, 51902.13826577463, 51507.93650793651, 52378.656696838516, 51644.36573527483, 52730.22432113341, 52451.46267873541, 51945.42830906467, 52088.41663387118, 52226.15768070314, 52292.07661025843, 51211.13734750098, 51315.09904237177, 51879.18142463597, 52804.998032270756, 51891.31575495212, 51071.10061655516, 52474.09156500066, 51915.58441558442, 52046.766364948184, 51888.03620621802, 51926.73488128034, 52192.05037386856, 50375.50833005379, 51382.00183654729, 51255.739210284664, 51878.52551488915, 52540.66640430277, 51818.181818181816, 52030.696576151124, 51468.58192312738, 51166.863439590714, 51396.103896103894, 51959.858323494685, 51549.91473173291, 52184.83536665355, 51860.48799685163, 52356.027810573265, 51707.00511609603, 51497.113997114, 51882.46097337006, 52402.5974025974, 50843.82788928244, 52043.8147710875, 51401.351174078445, 51338.05588351043, 52961.43250688705, 51613.21002230093, 51561.721107175654, 52991.60435524072, 51955.59491014037, 51114.062704971795, 52522.62888626525, 51184.24504788141, 51746.031746031746, 50831.69355896629, 52084.48117539027, 51753.90266299357, 51926.406926406926, 52570.18234290962, 51510.888101797194, 51642.72596090778, 52496.392496392495, 51809.98294634658, 51409.55004591368, 52326.51187196642, 52272.07136298045, 51466.28623901351, 51300.341073068346, 51877.86960514233, 52523.61275088548, 51819.82159254886, 52370.45782500328, 51683.06441033714, 51525.646071100615, 52551.16096025187, 51738.81673881674, 51676.17735799554, 51315.09904237177, 51473.17329135511, 51680.11281647645, 52033.976124885216, 51484.32375705103, 52108.749836022565, 52123.17985045258, 51608.94660894661, 52448.83903974813, 51722.746950019675, 52199.26538108356, 51935.58966286239, 52060.54046963138, 51731.60173160173, 51183.26118326118, 52412.108093926276, 53047.35668372032, 52275.35091171455, 52525.25252525252, 51293.45402072675, 53010.95369277187, 51732.25764134855, 52958.15295815296, 51848.6816214089, 51881.149153876424, 51904.433949888495, 53125.40994359176, 52659.386068476975, 51685.68804932441, 50922.209104027286, 52549.52118588482, 51852.289125016396, 52039.87931260659, 51219.664174209625, 52044.798635707724, 51896.89098780008, 51775.875639512, 51299.35720844812, 51670.60212514758, 52317.65709038436, 51114.062704971795, 52160.56670602125, 51896.89098780008, 52055.29319165683, 51346.25475534567, 52110.0616555162, 51659.77961432507, 51724.714679260134, 52286.17342253706, 51462.3507805326, 52825.98714416896, 51605.3391053391, 52520.00524727797, 52019.218155581795, 52129.73894792076, 52368.49009576282, 52665.61721107176, 51507.93650793651, 51680.440771349866, 51469.89374262102, 52214.6792601338, 51626.98412698413, 52584.28440246622, 51840.81070444707, 53605.86383313656, 51152.105470287286, 52410.796274432636, 52613.14443132625, 51959.202413747866, 51917.22418995146, 52372.753509117145, 52173.35694608422, 51760.46176046176, 51562.70497179588, 51036.99330972058, 52959.46477764659, 52047.75022956841, 51584.02203856749, 51816.54204381477, 52334.38278892824, 52306.83457956185, 52071.03502558048, 52424.242424242424, 51118.98202807294, 52243.211334120424, 52501.31181949364, 51614.84979666798, 52286.50137741047, 51979.863570772664, 51544.01154401154, 51942.476715203986, 51709.300800209894, 52388.167388167385, 51888.03620621802, 52192.70628361537, 51908.041453496, 52009.70746425292, 52506.55909746819, 52069.395251213435, 52573.46189164371, 53009.96982815165, 51696.18260527351, 51953.2992260265, 51484.32375705103, 52389.80716253444, 52032.008395644756, 52503.93545848091, 51564.01679128952, 52010.691328873145, 51441.6896235078, 51462.02282565919, 52101.86278368097, 52648.56355765447, 51820.805457169095, 52286.50137741047, 51721.43513052604, 52314.705496523675, 52078.5779876689, 52246.16292798111, 51895.25121343303, 52038.23953823954, 52332.41505968779, 51933.29397874852, 51557.12973894792, 52434.08107044471, 51524.33425160698, 51486.291486291484, 52099.89505444051, 51654.532336350516, 51963.46582710219, 52032.99226026499, 50946.47776465958, 51994.29358520268, 52053.98137216319, 51793.91315754952, 51574.18339236521, 51699.79010888102, 51488.25921553194, 51903.122130394855, 51778.171323625866, 52244.19519874065, 52006.09996064541, 51449.23258559622, 51339.36770300406, 50863.505181687, 52366.850321395774, 52503.607503607505, 53109.66810966811, 52298.635707726615, 51526.301980847435, 51765.70903843631, 51460.38305129214, 52022.16974944247, 53399.90817263545, 51539.74813065722, 51089.13813459268, 51603.69933097206, 51687.65577856487, 52137.609864882594, 51930.67033976125, 51725.69854388036, 50833.333333333336, 52108.749836022565, 51396.43185097731, 52806.965761511216, 52064.47592811229, 52522.95684113866, 51547.94700249246, 52102.190738554375, 52142.201233110325, 51485.30762167126, 52608.553063098516, 51694.87078577988, 51912.96077659714, 51758.49403122131, 51120.94975731339, 52736.7834186016, 52243.867243867244, 52093.99186671914, 51985.110848747216, 51791.28951856225, 52340.28597664961, 52120.228256591894, 52147.44851108488, 51878.85346976256, 51629.93572084481, 52619.04761904762, 51521.3826577463, 52342.90961563689, 51817.85386330841, 51695.854650400106, 52507.21500721501, 51638.79050242687, 51194.4116489571, 51801.456119637936, 52411.12422930605, 52105.79824216188, 52144.16896235078, 53018.49665486029, 52034.30407975862, 51880.82119900302, 51859.17617735799, 51747.67152039879, 53127.049717958806, 52095.9595959596, 52705.6277056277, 52459.98950544405, 51176.702085793, 51422.01233110324, 52071.36298045389, 51134.067952249774, 51994.9494949495, 51311.819493637675, 51835.23547159911, 53071.29738947921, 52616.75193493375, 51946.08421881149, 51630.91958546504, 51879.83733438279, 52110.71756526302, 52085.465040010495, 52355.69985569986, 51988.39039748131, 53169.35589662862, 51096.681096681095, 52116.9487078578, 52252.39407057589, 52392.102846648304, 51451.20031483668, 51737.83287419651, 52257.31339367703, 51284.59923914469, 52612.16056670602, 52889.9383444838, 53441.55844155844, 51810.31090121999, 52663.321526957894, 51989.04630722813, 51281.97560015742, 52396.36626000262, 51592.87682014955, 52269.11976911977, 51697.49442476715, 51516.135379771746, 51934.93375311557, 52254.361799816346, 53491.735537190085, 52098.25528007346, 52140.233503869866, 51533.18903318903, 52152.69578905943, 51799.16043552407, 51866.71913944641, 53004.722550177095, 51202.28256591893, 51359.37295028204, 51230.81463990555, 52663.6494818313, 51689.62350780533, 51596.15636888364, 51915.91237045782, 52910.27154663518, 51520.39879312606, 52359.63531418077, 52153.023743932834, 52119.572346845074, 51894.267348812806, 51537.12449166994, 52104.814377541654, 51832.61183261183, 51141.9388692116, 51559.42542306179, 52805.32598714417, 51841.13865932048, 51576.15112160567, 52245.17906336088, 51646.66141938869, 51223.27167781713, 52185.819231273774, 51737.83287419651, 51526.301980847435, 52251.082251082255, 51788.00996982815, 52632.82172373081, 51884.75665748393, 52579.03712449167, 51422.01233110324, 50493.57208448117, 52028.728846910664, 51928.374655647385, 51034.0417158599, 51288.2067427522, 51592.22091040273, 52397.67807949626, 51578.11885084612, 51515.479470024926, 52070.051160960254, 52143.513052603965, 51714.548078184445, 51532.861078315625, 52084.153220516855, 52822.379640561456, 52346.18916437098, 51613.21002230093, 51513.51174078447, 52368.81805063623, 52029.71271153089, 52063.16410861866, 52468.188377279286, 52673.81608290699, 51657.155975337795, 51617.801390528664, 51750.29515938607, 52231.732913551095, 52090.056408238226, 51691.919191919194, 51802.43998425816, 51787.354060081336, 51365.60409287682, 52113.99711399712, 51644.69369014823, 52159.91079627443, 52279.61432506887, 51897.21894267349, 51417.74891774892, 51328.21723730815, 52617.73579955398, 51171.78276269185, 52477.37111373475, 53059.49101403647, 51859.17617735799, 51916.24032533124, 51388.23297914207, 52204.51265905811, 51968.38515020333, 51453.495998950544, 51854.58480913026, 51594.51659451659, 50933.35956972321, 51782.762691853604, 52012.003148366784, 52823.035550308276, 52291.74865538502, 51635.838908566184, 51790.961563688834, 52020.20202020202, 51727.66627312082, 51881.47710874984, 52228.12540994359, 51957.56263938082, 51837.20320083956, 51980.19152564607, 50807.09694346058, 51986.09471336744, 52806.63780663781, 52637.413091958544, 51431.19506755871, 52197.29765184311, 51591.89295552932, 51339.03974813066, 53029.64712055621, 52122.195985832346, 51643.70982552801, 52283.54978354978, 51979.207661025845, 52436.37675455857, 53389.74157155975, 51836.54729109275, 51543.683589138134, 51951.98740653286, 51355.43749180113, 52437.68857405221, 51398.07162534435, 51095.69723206087, 51732.25764134855, 51786.3701954611, 51919.19191919192, 51471.533516988064, 52231.077003804276, 51925.095106913286, 51842.45047881411, 52233.044733044735, 52620.35943854126, 51849.99344090253, 52338.97415715598, 52024.13747868293, 52445.559491014035, 51564.01679128952, 51567.29634002361, 51092.089728453364, 52560.67165158074, 51820.47750229568, 51940.50898596353, 51964.44969172242, 51350.8461235734, 52226.15768070314, 51882.13301849666, 52532.79548734094, 52142.857142857145, 52446.54335563426, 51439.06598452053, 51644.69369014823, 51982.15925488653, 52480.65066246884, 52302.57116620753, 51836.219336219336, 52887.97061524334, 51926.73488128034, 52127.4432638069, 52016.26656172111, 52520.333202151385, 51379.70615243343, 51823.75705102978, 51999.868818050636, 51381.01797192706, 51739.472648563555, 52061.1963793782, 52582.64462809917, 52196.64174209629, 52187.13105076741, 52142.52918798373, 52002.49245703791, 52237.63610127247, 50829.06991997901, 52886.3308408763, 51420.044601862784, 51242.293060474876, 51922.79942279942, 51118.65407319953, 52232.388823297915, 51587.9574970484, 51862.7836809655, 52476.71520398793, 51488.25921553194, 52263.2165813984, 52076.61025842844, 52214.6792601338, 52202.87288469107, 51468.58192312738, 51584.67794831431, 52929.292929292926, 52072.34684507412, 51419.71664698937, 51436.114390659845, 52186.14718614719, 51382.65774629411, 52458.0217762036, 53067.3619309983, 52571.822117276664, 52103.1746031746, 51939.5251213433, 52097.27141545324, 51640.430276793915, 52848.61603043421, 52453.430407975866, 52158.271021907385, 51586.64567755477, 51797.19270628362, 52059.55660501115, 51820.47750229568, 52072.34684507412, 52103.502558048014, 51722.091040272855, 52871.90082644628, 52036.59976387249, 51382.3297914207, 52208.12016266562, 51614.84979666798, 51980.19152564607, 53107.700380427654, 50995.34304079758, 51513.51174078447, 52466.22064803883, 51975.928112291745, 51838.5150203332, 50452.24977043159, 53002.09891118982, 51526.957890594254, 51257.051029778304, 52592.15531942805, 52137.28191000918, 51406.27049717959, 51777.84336875246, 52161.87852551489, 51815.88613406795, 51515.479470024926, 52002.82041191132, 51250.16397743671, 53382.52656434475, 50998.29463465827, 52901.74471992654, 51468.25396825397, 52294.04433949888, 52470.81201626656, 52650.531286894926, 51246.228518955795, 51871.96641742096, 51372.49114521842, 52056.93296602387, 52477.04315886134, 51892.955529319166, 51761.7735799554, 52394.39853076217, 51368.555686737505, 52163.84625475534, 50848.41925751017, 51986.09471336744, 51259.674668765576, 52109.07779089597, 51931.98215925488, 51616.81752590844, 51749.63924963925, 52001.836547291095, 51202.61052079234, 51429.88324806507, 52613.14443132625, 52448.51108487472, 51059.950150859244, 51701.75783812148, 51755.87039223403, 51629.6077659714, 51340.6795224977, 51870.326643053915, 52999.14731732914, 52548.20936639119, 52166.14193886921, 51835.89138134593, 50956.972320608686, 51626.98412698413, 51435.78643578644, 51973.63242817788, 51527.94175521448, 51396.43185097731, 51830.64410337138, 52197.95356158992, 52329.135510953696, 51221.95985832349, 51600.09182736455, 52457.693821330184, 51620.09707464253, 51515.15151515151, 51064.541519086975, 52702.34815689361, 51062.24583497311, 51854.256854256855, 51608.94660894661, 52418.01128164765, 51746.687655778565, 52111.37347500984, 53307.09694346058, 51686.34395907123, 51934.27784336875, 51955.59491014037, 52967.335694608424, 52534.10730683458, 51859.83208710481, 51000.26236389873, 52341.92575101666, 52084.48117539027, 52748.58979404434, 52676.43972189427, 51776.53154925882, 52182.211727666276, 51724.714679260134, 51802.767939131576, 52217.30289912108, 51847.697756788664, 51598.78000787092, 51629.27981109799, 51288.2067427522, 52668.24085005903, 52571.49416240325, 51979.863570772664, 51955.266955266954, 51784.73042109406, 51775.54768463859, 50579.82421618785, 52986.029122392756, 52420.63492063492, 52931.5886134068, 51602.71546635183, 51887.38029647121, 53002.09891118982, 52403.90922209104, 51314.11517775154, 52295.68411386593, 51666.99462154008, 52061.524334251604, 51747.343565525385, 51613.86593204775, 51770.30040666404, 52824.67532467532, 52396.038305129216, 52310.77003804276, 52553.45664436574, 51733.56946084219, 51670.27417027417, 51682.40850059032, 52248.458612094975, 51438.41007477371, 51934.60579824216, 51305.5883510429, 52809.26144562508, 53098.18968909878, 51900.82644628099, 52787.616423980064, 51749.96720451266, 51963.137872228785, 50951.069132887314, 52067.09956709957, 52118.260527351435, 52468.844287026106, 52095.9595959596, 51681.7525908435, 51747.67152039879, 51045.192181555816, 51577.134986225894, 51396.43185097731, 52700.052472779746, 51781.77882723337, 52978.15820543093, 51817.85386330841, 51778.827233372685, 51471.533516988064, 51907.38554374918, 52642.660369933095, 51358.389085661816, 51943.46057982422, 52364.2266824085, 52480.322707595435, 51420.37255673619, 52145.15282697101, 52046.110455201364, 52345.861209497576, 52488.84953430408, 52296.66797848616, 51863.11163583891, 52051.68568804932, 51887.052341597795, 52909.287682014954, 52086.44890463072, 52236.98019152565, 51747.67152039879, 52026.10520792339, 51544.995408631774, 51776.20359438541, 51601.075691984784, 51589.92522628886, 52641.34855043946, 52034.632034632035, 52002.82041191132, 51459.72714154532, 51671.58598976781, 51308.53994490358, 52459.33359569723, 51735.86514495606, 51808.99908172635, 51939.853076216714, 52352.74826183917, 51511.2160566706, 51090.12199921291, 51606.65092483274, 51558.44155844156, 51841.13865932048, 51109.14338187066, 53361.20949757313, 51582.382264200445, 51853.92889938344, 53033.25462416372, 52205.16856880493, 51721.43513052604, 51748.32743014561, 53028.663255935986, 52780.40141676505, 52012.98701298701, 51150.137741046834, 52508.52682670864, 52570.18234290962, 51874.91801128165, 52637.413091958544, 51508.920372556735, 52685.62245834973, 52453.75836284927, 51831.95592286501, 51832.61183261183, 52636.757182211724, 51463.99055489965, 51806.70339761249, 52337.66233766234, 52105.79824216188, 51032.40194149285, 51180.965499147314, 51553.85019021382, 51662.403253312346, 52428.833792470155, 51901.48235602781, 51494.49035812672, 51254.09943591762, 51451.8562245835, 51094.38541256723, 52035.943854125675, 51491.538764266035, 52762.03594385413, 52265.184310638855, 52549.19323101141, 51944.77239931785, 51394.46412173685, 51850.32139577594, 51287.878787878784, 52264.85635576545, 52132.36258690804, 52286.82933228388, 51084.21881149154, 52582.64462809917, 52111.04552013643, 52720.71362980454, 51626.98412698413, 52250.426341335435, 51603.04342122524, 51645.67755476847, 51592.54886527614, 50727.07595434868, 52254.03384494293, 51956.578774760594, 51480.71625344353, 51411.51777515414, 51879.50937950938, 52872.22878131969, 52114.65302374393, 50832.677423586516, 52126.131444313265, 51282.95946477765, 52329.135510953696, 52540.99435917618, 52677.09563164109, 52084.153220516855, 52214.351305260396, 52738.42319296865, 52158.926931654205, 51398.72753509117, 52340.28597664961, 51954.611045520134, 51954.611045520134, 51802.767939131576, 52597.07464252919, 52481.96248196248, 51352.485897940445, 52786.304604486424, 52153.679653679654, 52132.03463203463, 52807.29371638463, 52384.55988455989, 51535.4847173029, 51373.47500983864, 52100.55096418733, 51878.85346976256, 51984.454939000396, 52143.84100747737, 52910.927456382, 51885.740522104155, 52075.298438934806, 52060.54046963138, 52079.23389741572, 51152.105470287286, 52525.25252525252, 52909.287682014954, 52448.183130001315, 51619.76911976912, 52641.67650531287, 51726.35445362718, 53114.58743276925, 51928.374655647385, 51703.72556736193, 51333.136560409286, 51834.57956185229, 52466.87655778565, 51688.96759805851, 52290.43683589138, 51266.88967598059, 51814.246359700905, 51990.68608159517, 52584.61235733963, 51775.54768463859, 52028.40089203726, 52313.39367703004, 51816.54204381477, 52186.47514102059, 52568.87052341598, 51679.128951856226, 52599.37032664305, 51707.00511609603, 52026.10520792339, 52432.11334120425, 51783.41860160042, 52120.228256591894, 52073.00275482094, 52113.3412042503, 52145.15282697101, 52521.31706677161, 51956.25081988718, 52724.97704315886, 52654.46674537584, 52073.986619441166, 52650.85924176833, 52382.26420044602, 51946.74012855831, 52363.89872753509, 52399.97376361013, 52253.70589006953, 52236.98019152565, 53106.71651580743, 52638.724911452184, 51785.71428571428, 52107.438016528926, 52587.891906073724, 52317.985045257774, 52851.239669421484, 52260.592942411124, 52041.51908697363, 52169.093532729894, 51978.87970615243, 51716.5158074249, 52070.37911583366, 52347.82893873803, 51976.25606716516, 51765.381083562905, 52848.288075560806, 52336.3505181687, 52525.25252525252, 51982.15925488653, 52444.247671520396, 51630.59163059163, 51522.69447723993, 51052.73514364423, 52468.844287026106, 51981.83130001312, 52052.013642922735, 51030.10625737898, 51146.858192312735, 51740.784468057194, 52994.55594910141, 51836.875245966155, 52173.684900957625, 51005.837596746685, 52422.60264987538, 51017.316017316014, 52176.964449691724, 51920.83169355897, 52689.55791683064, 52430.801521710615, 51608.29069919979, 53151.97428833792, 52236.65223665223, 52480.65066246884, 51836.219336219336, 51609.27456382002, 52091.368227731866, 51301.98084743539, 52466.54860291224, 52271.087498360226, 52511.47842056933, 51199.658926931654, 52054.96523678342, 52590.18759018759, 51748.655385019025, 52112.35733963006, 51666.010756919844, 52736.7834186016, 52678.735406008134, 51588.61340679522, 50813.65604092877, 51769.316542043816, 51875.24596615506, 52980.4538895448, 51882.46097337006, 51150.137741046834, 50951.069132887314, 52548.20936639119, 52244.19519874065, 52749.573658664565, 51340.3515676243, 52142.52918798373, 51522.69447723993, 51736.19309982946, 52248.13065722157, 52340.94188639643, 52352.09235209235, 52325.52800734619, 52019.5461104552, 52079.56185228912, 52609.53692771875, 51690.27941755214, 52089.400498491406, 52791.551882460975, 52379.968516332156, 51587.629542175, 51976.25606716516, 52162.53443526171, 51881.805063623244, 51688.31168831169, 52656.10651974288, 53413.35432244523, 51477.10874983602, 52925.02951593861, 51728.97809261446, 51541.38790502427, 52158.926931654205, 53034.89439853076, 51211.7932572478, 51974.2883379247, 52368.16214088941, 53221.828676374134, 51585.98976780795, 51724.38672438673, 51931.98215925488, 52232.388823297915, 51299.02925357471, 52393.74262101535, 52218.61471861472, 53144.75928112292, 51399.05548996458, 52145.48078184442, 52189.42673488128, 52224.18995146268, 52256.00157418339, 51640.75823166732, 52155.64738292011, 51332.480650662466, 51297.38947920766, 52072.67479994753, 51516.791289518565, 52682.014954742226, 51237.701692247145, 50769.05417814509, 51957.56263938082, 52034.632034632035, 52503.607503607505, 52304.538895447986, 51103.56814902269, 51173.09458218549, 51841.79456906729, 51596.48432375705, 52307.162534435265, 51871.638462547555, 52569.198478289385, 51611.89820280729, 52916.83064410337, 52568.542568542565, 51929.35852026761, 51944.444444444445, 51881.805063623244, 51146.20228256592, 51772.92404565132, 51125.54112554112, 52464.58087367178, 52044.798635707724, 51041.58467794831, 51920.83169355897, 51336.08815426997, 52736.7834186016, 52303.55503082776, 52515.41387905024, 51683.392365210544, 52354.38803620622, 51443.98530762167, 51918.86396431851, 51169.15912370458, 52433.7531155713, 52023.15361406271, 52581.98871835235, 51753.246753246756, 51921.48760330579, 51668.634395907124, 52291.0927456382, 52815.49258821986, 52321.59254886528, 51629.93572084481, 52938.8036206218, 51746.031746031746, 51417.420962875505, 51981.50334513971, 52702.67611176702, 51159.6484323757, 52047.75022956841, 52413.419913419915, 51703.72556736193, 51322.31404958678, 51273.776728322184, 51405.28663255936, 52479.99475272203, 52093.66391184573, 53218.22117276663, 51876.55778564869, 51733.8974157156, 51148.49796667979, 51960.514233241505, 51351.174078446806, 50939.26275744457, 52229.43722943723, 52322.90436835891, 52081.52958152958, 52143.84100747737, 52001.50859241768, 52503.27954873409, 51718.81149153876, 52372.753509117145, 52289.45297127115, 51682.40850059032, 51962.80991735537, 51890.6598452053, 52250.426341335435, 52147.44851108488, 52923.71769644497, 52275.67886658796, 52298.635707726615, 51460.055096418735, 51202.28256591893, 52783.680965499145, 51956.906729634, 51254.427390791025, 51751.93493375312, 52030.36862127771, 52118.916437098254, 51338.38383838384, 51654.86029122393, 52224.18995146268, 52188.77082513446, 51911.32100223009, 52549.84914075823, 52413.419913419915, 51143.25068870524, 52644.30014430014, 51945.100354191265, 51452.51213433032, 51886.72438672439, 52047.422274695, 51456.119637937816, 52314.37754165027, 51928.70261052079, 50797.5862521317, 51027.48261839171, 52136.953955135774, 51524.66220648039, 51773.90791027155, 52584.61235733963, 51607.30683457956, 51302.308802308806, 52141.2173684901, 51833.92365210547, 52470.48406139315, 52373.73737373737, 51898.85871704054, 51248.52420306966, 51914.60055096419, 51325.92155319428, 51733.24150596878, 51923.783287419654, 51916.89623507806, 52265.840220385675, 52395.05444050899, 52621.01534828808, 51451.8562245835, 52015.938606847696, 52520.00524727797, 51223.599632690544, 52527.8761642398, 51646.66141938869, 51295.4217499672, 52032.008395644756, 52938.475665748396, 51396.43185097731, 51464.64646464647, 52158.271021907385, 51301.652892561986, 51629.27981109799, 50988.455988455986, 52682.014954742226, 52065.13183785911, 52208.448117539025, 52532.79548734094, 52400.95762823035, 51519.742883379244, 52355.371900826445, 52046.43841007477, 52348.812803358254, 51810.31090121999, 51667.322576413484, 52510.16660107569, 51820.805457169095, 52387.18352354716, 51336.416109143385, 53016.856880493244, 51524.66220648039, 52221.23835760199, 51428.57142857143, 52139.24963924964, 52100.878919060735, 51636.16686343959, 52023.48156893611, 51581.726354453625, 51654.86029122393, 52261.90476190476, 52592.15531942805, 52597.07464252919, 51426.93165420438, 51857.20844811754, 52735.14364423455, 52582.64462809917, 51276.72832218287, 51441.6896235078, 51926.73488128034, 51199.98688180507, 52066.771612226155, 50699.8556998557, 50517.18483536665, 51689.62350780533, 52309.13026367572, 52020.85792994884, 52258.95316804408, 52182.211727666276, 51678.14508723599, 51768.9885871704, 51492.194674012855, 51606.978879706156, 52559.687786960516, 52107.76597140233, 51554.83405483406, 52527.54820936639, 50971.074380165286, 51796.208841663385, 52128.42712842713, 51503.34513970878, 51753.57470812016, 51810.96681096681, 52233.044733044735, 51379.378197560014, 52347.50098386462, 52146.13669159124, 52009.70746425292, 52366.194411648954, 52112.02938475666, 52396.038305129216, 52130.06690279418, 51415.12527876164, 51759.80585071494, 52121.86803095894, 51602.71546635183, 52414.075823166735, 51916.56828020464, 52011.67519349338, 51959.202413747866, 52145.80873671783, 52276.006821461364, 52266.8240850059, 52358.32349468713, 52139.24963924964, 51557.78564869474, 51639.118457300276, 53187.721369539555, 52659.05811360357, 51945.42830906467, 51838.842975206615, 51787.02610520792, 52952.90568017841, 51322.9699593336, 51593.860684769774, 52068.4113865932, 52166.46989374262, 51063.55765446674, 51224.255542437364, 51768.00472255018, 53391.3813459268, 51593.860684769774, 52634.78945297127, 51732.25764134855, 51724.058769513314, 51830.972058244784, 51427.25960907779, 51637.806637806636, 51867.37504919323, 51969.36901482356, 52386.85556867375, 52457.36586645678, 51899.18667191394, 51432.50688705234, 51777.84336875246, 52457.693821330184, 52584.61235733963, 52045.454545454544, 51898.20280729372, 51953.62718089991, 52641.34855043946, 52620.687393414664, 51699.46215400761, 51145.87432769251, 51203.594385412565, 52237.63610127247, 53526.498753771484, 51826.70864489047, 52235.99632690542, 52436.70470943198, 52247.146792601336, 51677.16122261577, 51570.2479338843, 52982.749573658664, 52196.313787222876, 52576.413485504396, 51736.19309982946, 51059.294241112424, 51402.99094844549, 52252.06611570248, 51259.018759018756, 52309.78617342254, 51877.86960514233, 52922.07792207792, 51759.47789584153, 51904.10599501509, 52739.73501246228, 51861.47186147186, 51910.337137609866, 52642.004460186276, 52342.90961563689, 52085.13708513709, 51148.170011806375, 51976.584022038565, 52029.71271153089, 52817.46031746032, 52551.48891512528, 51939.5251213433, 52912.23927587564, 52581.33280860553, 51492.850583759675, 52065.45979273252, 51382.00183654729, 52544.92981765709, 51884.10074773711, 52303.882985701166, 52823.36350518169, 51807.687262232714, 51921.815558179194, 51623.37662337662, 51243.27692509511, 52090.712317985046, 52964.712055621145, 51154.729109274565, 51966.417420962876, 51143.90659845205, 52357.01167519349, 51735.86514495606, 52124.49166994621, 51790.305653942014, 52037.25567361931, 50928.11229174866, 51538.10835629018, 52358.32349468713, 52188.44287026105, 52070.707070707074, 51600.09182736455, 52609.864882592155, 52404.23717696445, 52864.02990948445, 51953.955135773314, 51735.20923520924, 51951.003541912636, 51898.20280729372, 51155.71297389479, 52693.82133018497, 53055.555555555555, 51443.00144300144, 52439.656303292664, 51844.41820805457, 51936.90148235603, 51614.52184179457, 52715.466351829986, 51277.056277056276, 51824.74091565001, 50950.08526826709, 52150.07215007215, 52408.50059031877, 52043.15886134068, 51955.59491014037, 51796.864751410205, 51221.631903450085, 52161.55057064148, 51660.43552407189, 51263.61012724649, 51882.78892824348, 52201.56106519743, 52406.204906204905, 52070.37911583366, 52078.5779876689, 51822.11727666273, 51813.9184048275, 51425.291879837336, 52238.292011019286, 51085.20267611177, 52259.937032664304, 52150.40010494556, 51344.614980978615, 52891.250163977435, 52264.20044601863, 52447.19926538108, 51625.67230749049, 52034.30407975862, 52403.58126721763, 52012.003148366784, 52020.52997507543, 50481.76570903844, 52662.33766233766, 52097.92732520005, 52264.20044601863, 52172.04512659058, 52738.09523809524, 52081.20162665617, 52010.691328873145, 52240.58769513315, 52115.30893349075, 52539.02662993572, 52016.594516594516, 52222.87813196904, 52660.041978223795, 51883.44483799029, 51520.72674799948, 52793.84756657484, 52669.22471467926, 51498.42581660763, 52198.281516463336, 51394.79207661026, 51379.378197560014, 51721.76308539945, 51735.86514495606, 51283.61537452447, 51011.74078446806, 51366.91591237046, 51864.09550045914, 51785.386330840876, 51117.6702085793, 52479.666797848615, 51466.61419388692, 52469.82815164633, 52753.83707201889, 52419.9790108881, 52232.0608684245, 52387.51147842057, 52228.453364817, 52586.9080414535, 51520.72674799948, 51469.2378328742, 51936.57352748262, 52162.53443526171, 51951.65945165945, 52345.53325462416, 51865.40731995278, 52040.20726747999, 52270.75954348681, 53427.45638200184, 51692.2471467926, 51958.546504001046, 51954.611045520134, 52576.08553063098, 52479.99475272203, 51997.90108881018, 51776.20359438541, 52828.93873802965, 52633.47763347763, 51580.08658008658, 52239.27587563951, 50898.924308015216, 52009.0515545061, 52621.6712580349, 51985.43880362062, 52608.22510822511, 52291.42070051161, 52664.96130132494, 52533.77935196117, 51509.90423717696, 52640.36468581923, 52011.67519349338, 52004.46018627837, 51062.24583497311, 51330.84087629542, 51996.91722418995, 51621.080939262756, 52025.12134330316, 51858.52026761118, 52045.12659058114, 52917.8145087236, 52248.13065722157, 52458.349731077, 51650.2689229962, 51122.91748655385, 51414.14141414141, 52508.85478158206, 52362.91486291486, 52629.214220123315, 51650.596877869604, 51947.06808343172, 52320.608684245046, 52367.50623114259, 50906.139315230226, 52373.08146399056, 51017.64397218943, 52682.014954742226, 51569.59202413748, 51430.53915781189, 53650.137741046834, 51830.316148497965, 52209.104027285844, 51124.22930604749, 52235.3404171586, 52194.346057982424, 51327.889282434735, 53060.146923783286, 51838.187065459795, 51511.87196641742, 52042.50295159386, 52372.42555424374, 51478.74852420307, 52082.51344614981, 52708.57929948839, 51040.600813328085, 52461.629279811095, 51744.064016791286, 52222.22222222222, 50628.03358257904, 51384.95343040798, 51522.69447723993, 52662.009707464254, 51992.98176570904, 51992.98176570904, 50909.09090909091, 50863.83313656041, 51320.01836547291, 52417.02741702742, 52506.8870523416, 51327.56132756133, 51435.78643578644, 51629.27981109799, 51972.648563557654, 52268.13590449954, 52148.4323757051, 52214.6792601338, 51475.79693034238, 51356.09340154795, 51324.60973370064, 52100.55096418733, 52945.03476321658, 52557.72005772006, 51727.338318247406, 52548.53732126459, 51908.041453496, 51231.47054965237, 52914.2070051161, 51374.13091958546, 51530.237439328346, 51262.954217499675, 52371.441689623505, 51556.80178407451, 53109.3401547947, 51641.086186540735, 51865.40731995278, 51370.85137085137, 51709.95670995671, 51499.08172635445, 51709.300800209894, 52690.54178145087, 51679.128951856226, 52449.49494949495, 51398.07162534435, 52093.66391184573, 52846.64830119375, 52681.359044995406, 53109.99606454152, 51479.07647907648, 52306.506624688445, 51824.74091565001, 51658.13983995802, 52121.21212121212, 51801.456119637936, 52252.7220254493, 52046.43841007477, 52092.680047225505, 51617.145480781845, 52724.64908828545, 50680.17840745114, 51849.009576282304, 51718.48353666536, 52535.091171454806, 51478.09261445625, 51956.906729634, 51370.19546110455, 51949.03581267218, 52525.58048012594, 52405.548996458085, 50921.55319428047, 52644.95605404696, 51883.7727928637, 52197.625606716516, 52424.57037911583, 51503.673094582184, 52120.228256591894, 52065.13183785911, 52601.0101010101, 52509.18273645546, 51489.24308015217, 51971.00878919061, 52004.46018627837, 52205.49652367834, 51500.06559097468, 52126.787354060085, 52182.211727666276, 52043.15886134068, 51385.937295028205, 52991.93231011413, 52302.57116620753, 52681.031090122, 51948.70785779877, 51656.17211071756, 52068.4113865932, 51884.10074773711, 52548.53732126459, 51992.98176570904, 52238.61996589269, 51574.18339236521, 52237.63610127247, 50725.764134855046, 51932.96602387512, 51641.41414141414, 52816.8044077135, 52711.85884822249, 52123.507805325986, 52452.118588482226, 51711.268529450346, 51833.595697232064, 52482.94634658271, 51991.01403646858, 51174.73435655254, 51094.71336744064, 52519.34933753116, 51743.40810704447, 51378.066378066374, 52158.59897678079, 51512.85583103765, 52074.31457431457, 52050.701823429095, 51705.03738685557, 52184.83536665355, 52360.94713367441, 52601.99396563033, 52275.67886658796, 52329.135510953696, 52200.5772005772, 50503.73868555687, 51840.81070444707, 50675.58703922341, 51251.14784205693, 51582.382264200445, 50673.94726485635, 51440.049849140756, 52252.39407057589, 52547.881411517774, 52277.64659582842, 52102.51869342778, 51322.9699593336, 52455.07018234291, 51285.91105863833, 51418.40482749574, 51826.70864489047, 51687.65577856487, 51855.568673750495, 52372.097599370325, 51240.325331234424, 51280.66378066378, 51386.26524990161, 52176.63649481831, 51488.58717040535, 51915.58441558442, 52007.41178013905, 51465.63032926669, 51929.35852026761, 52927.65315492588, 52779.08959727141, 51919.51987406533, 50837.92470156107, 52482.6183917093, 52975.20661157025, 51888.69211596484, 52365.53850190214, 51601.731601731604, 51540.07608553063, 52180.243998425816, 52786.304604486424, 52779.41755214483, 52350.780532598714, 51703.72556736193, 51600.74773711137, 52386.85556867375, 52765.97140233504, 52177.29240456513, 51796.864751410205, 51546.63518299882, 52834.1860160042, 52341.92575101666, 52289.125016397746, 51740.45651318379, 51952.31536140627, 52231.40495867769, 51610.25842844025, 50980.58507149416, 52225.173816082905, 52479.99475272203, 52643.64423455333, 51522.69447723993, 51760.13380558835, 51718.48353666536, 51241.30919585465, 52374.065328610784, 51542.69972451791, 51337.72792863702, 51511.87196641742, 53031.94280467008, 51849.009576282304, 52958.48091302637, 52221.56631247541, 52306.17866981503, 50916.305916305915, 51498.097861734226, 51873.60619178801, 52114.65302374393, 52643.316279679915, 51974.2883379247, 51749.96720451266, 51452.51213433032, 51468.58192312738, 52110.38961038961, 52560.01574183392, 52754.82093663912, 52292.732520005244, 51801.456119637936, 52516.39774367047, 52895.51357733176, 52681.68699986882, 51206.54597927325, 53209.038436311166, 52151.05601469238, 52325.8559622196, 52178.27626918536, 51820.805457169095, 52177.620359438544, 52656.7624294897, 51795.552931916565, 51965.43355634265, 52089.072543618, 51427.91551882461, 51640.1023219205, 51965.10560146924, 50938.60684769776, 52801.39052866326, 52751.541387905025, 51263.28217237308, 51586.64567755477, 52033.976124885216, 52112.02938475666, 52247.146792601336, 51862.7836809655, 51034.36967073331, 52007.73973501246, 52473.43565525384, 51322.642004460184, 52536.07503607504, 52153.679653679654, 51509.90423717696, 51354.12567230749, 51614.52184179457, 52045.12659058114, 52531.155712973894, 51422.66824085006, 51334.448379902926, 51927.39079102715, 52133.34645152827, 51795.22497704316, 52223.53404171586, 52448.83903974813, 52102.846648301194, 52370.45782500328, 51822.77318640955, 52349.14075823167, 53205.10297783025, 51091.433818706544, 52147.12055621146, 52700.38042765315, 52246.16292798111, 51567.95224977043, 52235.66837203201, 52507.87091696182, 51304.27653154926, 52184.17945690673, 51865.40731995278, 52359.63531418077, 52502.951593860686, 51219.664174209625, 52540.33844942936, 51432.83484192575, 52302.57116620753, 51533.84494293585, 51301.652892561986, 51794.89702216975, 52260.26498753772, 50636.232454414276, 52514.75796930342, 52347.50098386462, 51729.63400236127, 51650.2689229962, 51713.892168437626, 52538.04276531549, 51845.4020726748, 51653.54847173029, 52012.33110324019, 52373.409418863965, 51420.37255673619, 51829.00432900433, 52706.61157024794, 50702.15138396957, 52815.16463334645, 51865.079365079364, 51985.43880362062, 51285.58310376492, 52204.51265905811, 51366.587957497046, 51492.52262888627, 52135.97009051555, 52309.13026367572, 51878.52551488915, 51287.878787878784, 51356.09340154795, 52189.42673488128, 51565.32861078316, 51097.337006427915, 52349.14075823167, 52857.47081201627, 51638.462547553456, 51707.00511609603, 51727.010363374, 51080.93926275744, 51933.29397874852, 51753.90266299357, 51671.258034894396, 52023.80952380953, 50994.35917617736, 52590.515545061, 52985.373212645936, 50863.17722681359, 51459.399186671915, 51983.47107438016, 51631.57549521186, 52233.044733044735, 51698.47828938738, 51937.55739210285, 51465.63032926669, 52826.315099042375, 52181.555817919456, 52544.92981765709, 51569.26406926407, 52410.140364685816, 50973.042109405746, 50936.6391184573, 52027.417027417025, 51975.928112291745, 51977.5678866588, 51385.937295028205, 51566.64043027679, 51986.09471336744, 51554.17814508724, 52932.24452315361, 51711.924439197166, 51740.128558310375, 51320.67427521973, 51358.0611307884, 51763.74130919585, 51879.83733438279, 52892.88993834448, 52352.09235209235, 51525.97402597403, 52565.59097468189, 52562.6393808212, 51785.71428571428, 52380.29647120556, 52030.696576151124, 52539.35458480913, 51925.4230617867, 51825.39682539683, 51506.95264331628, 52685.62245834973, 52659.386068476975, 51870.65459792733, 51501.37741046832, 52176.308539944905, 51772.59609077791, 52734.815689361145, 51335.43224452315, 52790.895972714156, 51793.91315754952, 51891.64370982553, 51172.110717565265, 51778.49927849928, 52642.33241505969, 51317.722681359046, 52150.72805981897, 52958.808867899774, 52917.8145087236, 52414.40377804014, 52309.45821854913, 53266.75849403122, 51749.31129476584, 51259.018759018756, 51040.27285845468, 51915.91237045782, 51929.35852026761, 51512.52787616424, 50820.54309327037, 51514.4956054047, 51497.113997114, 51141.610914338184, 51005.837596746685, 51988.718352354714, 52591.171454807816, 51970.6808343172, 51844.74616292798, 51583.694083694085, 51704.05352223534, 52112.02938475666, 51131.7722681359, 53361.86540731995, 52595.76282303555, 52659.386068476975, 52492.12908303818, 52743.34251606979, 51782.106782106785, 52056.27705627705, 51712.580348943986, 52480.322707595435, 52171.38921684376, 52249.114521841795, 52703.65997638725, 51160.30434212252, 52080.54571690935, 52010.691328873145, 51802.112029384756, 52718.745900564085, 52950.28204119113, 51885.08461235734, 51002.558048012594, 52289.45297127115, 52006.75587039223, 52911.25541125541, 52364.55463728191, 51479.7323888233, 51759.80585071494, 50063.29529056802, 51247.21238357602, 51702.4137478683, 51646.66141938869, 52206.15243342516, 51939.853076216714, 52884.36311163584, 51210.153482880756, 52312.0818575364, 51399.38344483799, 51934.93375311557, 52905.02426866063, 51527.28584546766, 51883.44483799029, 52823.035550308276, 51470.877607241244, 51201.62665617211, 53007.01823429096, 52324.87209759937, 51538.43631116358, 51890.98780007871, 52614.78420569329, 52721.36953955136, 52421.94674012856, 52058.57274039092, 51717.82762691854, 51764.39721894267, 51629.93572084481, 52052.669552669555, 51969.04105995015, 52665.945165945166, 52340.613931523025, 51772.2681359045, 51338.71179325725, 51760.13380558835, 51815.23022432113, 52291.0927456382, 51873.93414666142, 52073.330709694346, 52622.32716778171, 51942.8046700774, 51687.32782369146, 51908.041453496, 51516.791289518565, 52334.710743801654, 52137.609864882594, 52382.59215531943, 51012.06873934147, 51174.07844680572, 51265.57785648695, 51100.94451003542, 51682.40850059032, 52000.524727797456, 51952.31536140627, 52129.73894792076, 51600.419782237965, 51311.819493637675, 52349.79666797849, 51775.21972976519, 52414.075823166735, 52195.65787747606, 51564.67270103634, 52272.07136298045, 52555.42437360619, 51594.51659451659, 52968.31955922865, 51599.763872491145, 52224.8458612095, 51162.9279811098, 52507.54296208842, 51763.08539944904, 51316.73881673882, 51621.080939262756, 51603.69933097206, 50709.694346057986, 52347.17302899121, 52532.79548734094, 51895.57916830644, 51729.961957234686, 52492.45703791158, 52683.326774235866, 52942.739079102714, 51108.48747212384, 52660.697887970615, 51918.86396431851, 52195.98583234947, 52514.430014430014, 51894.267348812806, 51660.43552407189, 51865.735274826184, 52132.36258690804, 51946.4121736849, 51907.71349862259, 52152.03987931261, 52202.21697494425, 51940.50898596353, 51872.62232716778, 51591.89295552932, 52000.524727797456, 51373.80296471206, 51310.507674144035, 53235.930735930735, 51428.89938344484, 51121.60566706021, 52083.82526564345, 52724.32113341204, 51375.4427390791, 52902.07267479995, 51349.206349206346]\n"
     ]
    }
   ],
   "source": [
    "s=[]\n",
    "for i in range(5000):\n",
    "    x=bootstrap(population[\"Q9\"])\n",
    "    s.append(x)\n",
    "print(s)"
   ]
  },
  {
   "cell_type": "code",
   "execution_count": 40,
   "metadata": {},
   "outputs": [
    {
     "name": "stdout",
     "output_type": "stream",
     "text": [
      "5000\n"
     ]
    }
   ],
   "source": [
    "print(len(s))"
   ]
  },
  {
   "cell_type": "code",
   "execution_count": 41,
   "metadata": {},
   "outputs": [
    {
     "data": {
      "text/plain": [
       "(array([   9.,   67.,  356.,  980., 1384., 1279.,  658.,  228.,   36.,\n",
       "           3.]),\n",
       " array([50063.29529057, 50458.67768595, 50854.06008133, 51249.44247672,\n",
       "        51644.8248721 , 52040.20726748, 52435.58966286, 52830.97205824,\n",
       "        53226.35445363, 53621.73684901, 54017.11924439]),\n",
       " <a list of 10 Patch objects>)"
      ]
     },
     "execution_count": 41,
     "metadata": {},
     "output_type": "execute_result"
    },
    {
     "data": {
      "image/png": "[encoded data removed]",
      "text/plain": [
       "<Figure size 432x288 with 1 Axes>"
      ]
     },
     "metadata": {
      "needs_background": "light"
     },
     "output_type": "display_data"
    }
   ],
   "source": [
    "plt.hist(s)"
   ]
  },
  {
   "cell_type": "code",
   "execution_count": 42,
   "metadata": {},
   "outputs": [
    {
     "data": {
      "text/plain": [
       "(-0.017712390912482338, 0.9858685274701365)"
      ]
     },
     "execution_count": 42,
     "metadata": {},
     "output_type": "execute_result"
    }
   ],
   "source": [
    "#salary_mean = p[\"Q9\"].mean()\n",
    "ttest,pval = ttest_1samp(population[\"Q9\"],np.mean(s)) #for sample booststrap\n",
    "ttest,pval"
   ]
  },
  {
   "cell_type": "code",
   "execution_count": 44,
   "metadata": {},
   "outputs": [
    {
     "name": "stdout",
     "output_type": "stream",
     "text": [
      "(51948.97719125877, 51978.21000538297)\n",
      "(51963.12596330349, 51964.061233338245)\n"
     ]
    }
   ],
   "source": [
    "import scipy.stats as st\n",
    "print(st.norm.interval(alpha=0.95, loc=np.mean(s), scale=st.sem(s)))\n",
    "print(st.norm.interval(alpha=0.05, loc=np.mean(s), scale=st.sem(s)))\n"
   ]
  },
  {
   "cell_type": "markdown",
   "metadata": {},
   "source": [
    "## Manual calcuation of Confidence Interval"
   ]
  },
  {
   "cell_type": "code",
   "execution_count": 45,
   "metadata": {},
   "outputs": [
    {
     "data": {
      "text/plain": [
       "51963.59359832087"
      ]
     },
     "execution_count": 45,
     "metadata": {},
     "output_type": "execute_result"
    }
   ],
   "source": [
    "Xbar = np.mean(s) # mean of data\n",
    "Xbar "
   ]
  },
  {
   "cell_type": "code",
   "execution_count": 46,
   "metadata": {},
   "outputs": [
    {
     "data": {
      "text/plain": [
       "527.2712684504085"
      ]
     },
     "execution_count": 46,
     "metadata": {},
     "output_type": "execute_result"
    }
   ],
   "source": [
    "Xstd = np.std(s) # standard deviation of data\n",
    "Xstd"
   ]
  },
  {
   "cell_type": "code",
   "execution_count": 47,
   "metadata": {},
   "outputs": [
    {
     "data": {
      "text/plain": [
       "7.456741788922327"
      ]
     },
     "execution_count": 47,
     "metadata": {},
     "output_type": "execute_result"
    }
   ],
   "source": [
    "X_SE = Xstd/np.sqrt(len(s)) # standard error\n",
    "X_SE"
   ]
  },
  {
   "cell_type": "code",
   "execution_count": 53,
   "metadata": {},
   "outputs": [
    {
     "data": {
      "text/plain": [
       "(1.959963984540054, -1.9599639845400545)"
      ]
     },
     "execution_count": 53,
     "metadata": {},
     "output_type": "execute_result"
    }
   ],
   "source": [
    "from scipy.stats import norm\n",
    "Z_95 = norm.ppf(0.975)\n",
    "Z_5 = norm.ppf(0.025)\n",
    "Z_95,Z_5"
   ]
  },
  {
   "cell_type": "code",
   "execution_count": 54,
   "metadata": {},
   "outputs": [
    {
     "data": {
      "text/plain": [
       "14.614945348302534"
      ]
     },
     "execution_count": 54,
     "metadata": {},
     "output_type": "execute_result"
    }
   ],
   "source": [
    "X_ME = Z_95*X_SE\n",
    "X_ME"
   ]
  },
  {
   "cell_type": "code",
   "execution_count": 55,
   "metadata": {},
   "outputs": [
    {
     "data": {
      "text/plain": [
       "(51949.0, 51978.0)"
      ]
     },
     "execution_count": 55,
     "metadata": {},
     "output_type": "execute_result"
    }
   ],
   "source": [
    "CI_95 = (round(Xbar-X_ME,0),round(Xbar+X_ME,0))\n",
    "CI_95"
   ]
  },
  {
   "cell_type": "code",
   "execution_count": 59,
   "metadata": {},
   "outputs": [
    {
     "data": {
      "text/plain": [
       "(51949.0, 51978.0)"
      ]
     },
     "execution_count": 59,
     "metadata": {},
     "output_type": "execute_result"
    }
   ],
   "source": [
    "CI_95 = (round(Xbar-X_ME,0),round(Xbar+X_ME,0))\n",
    "CI_95"
   ]
  }
 ],
 "metadata": {
  "kernelspec": {
   "display_name": "Python 3",
   "language": "python",
   "name": "python3"
  },
  "language_info": {
   "codemirror_mode": {
    "name": "ipython",
    "version": 3
   },
   "file_extension": ".py",
   "mimetype": "text/x-python",
   "name": "python",
   "nbconvert_exporter": "python",
   "pygments_lexer": "ipython3",
   "version": "3.7.6"
  }
 },
 "nbformat": 4,
 "nbformat_minor": 4
}
