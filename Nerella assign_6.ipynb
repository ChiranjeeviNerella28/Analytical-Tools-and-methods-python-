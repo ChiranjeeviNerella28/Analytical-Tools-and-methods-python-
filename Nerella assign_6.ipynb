{
 "cells": [
  {
   "cell_type": "code",
   "execution_count": 3,
   "metadata": {},
   "outputs": [
    {
     "data": {
      "text/plain": [
       "['.ipynb_checkpoints',\n",
       " 'restaurant_inspection_scores.csv',\n",
       " 'united_summer2015.csv',\n",
       " 'Untitled.ipynb']"
      ]
     },
     "execution_count": 3,
     "metadata": {},
     "output_type": "execute_result"
    }
   ],
   "source": [
    "import numpy as np\n",
    "import pandas as pd\n",
    "import matplotlib.pyplot as plt\n",
    "import seaborn as sns\n",
    "import os\n",
    "os.listdir()"
   ]
  },
  {
   "cell_type": "code",
   "execution_count": 4,
   "metadata": {},
   "outputs": [],
   "source": [
    "df=pd.read_csv(\"restaurant_inspection_scores.csv\")"
   ]
  },
  {
   "cell_type": "code",
   "execution_count": 5,
   "metadata": {},
   "outputs": [],
   "source": [
    "df.drop([\"Facility ID\",\"Process Description\"],inplace=True,axis=1)"
   ]
  },
  {
   "cell_type": "code",
   "execution_count": 6,
   "metadata": {},
   "outputs": [
    {
     "data": {
      "text/html": [
       "<div>\n",
       "<style scoped>\n",
       "    .dataframe tbody tr th:only-of-type {\n",
       "        vertical-align: middle;\n",
       "    }\n",
       "\n",
       "    .dataframe tbody tr th {\n",
       "        vertical-align: top;\n",
       "    }\n",
       "\n",
       "    .dataframe thead th {\n",
       "        text-align: right;\n",
       "    }\n",
       "</style>\n",
       "<table border=\"1\" class=\"dataframe\">\n",
       "  <thead>\n",
       "    <tr style=\"text-align: right;\">\n",
       "      <th></th>\n",
       "      <th>Restaurant Name</th>\n",
       "      <th>Zip Code</th>\n",
       "      <th>Inspection Date</th>\n",
       "      <th>Score</th>\n",
       "      <th>Address</th>\n",
       "    </tr>\n",
       "  </thead>\n",
       "  <tbody>\n",
       "    <tr>\n",
       "      <th>0</th>\n",
       "      <td>6M Grocery</td>\n",
       "      <td>78652</td>\n",
       "      <td>01/17/2014</td>\n",
       "      <td>90</td>\n",
       "      <td>805 W FM 1626 RD\\nAUSTIN, TX 78652\\n</td>\n",
       "    </tr>\n",
       "    <tr>\n",
       "      <th>1</th>\n",
       "      <td>6M Grocery</td>\n",
       "      <td>78652</td>\n",
       "      <td>04/27/2015</td>\n",
       "      <td>93</td>\n",
       "      <td>805 W FM 1626 RD\\nAUSTIN, TX 78652\\n</td>\n",
       "    </tr>\n",
       "    <tr>\n",
       "      <th>2</th>\n",
       "      <td>6M Grocery</td>\n",
       "      <td>78652</td>\n",
       "      <td>05/02/2016</td>\n",
       "      <td>88</td>\n",
       "      <td>805 W FM 1626 RD\\nAUSTIN, TX 78652\\n</td>\n",
       "    </tr>\n",
       "    <tr>\n",
       "      <th>3</th>\n",
       "      <td>6M Grocery</td>\n",
       "      <td>78652</td>\n",
       "      <td>07/25/2014</td>\n",
       "      <td>100</td>\n",
       "      <td>805 W FM 1626 RD\\nAUSTIN, TX 78652\\n</td>\n",
       "    </tr>\n",
       "    <tr>\n",
       "      <th>4</th>\n",
       "      <td>6M Grocery</td>\n",
       "      <td>78652</td>\n",
       "      <td>10/21/2015</td>\n",
       "      <td>87</td>\n",
       "      <td>805 W FM 1626 RD\\nAUSTIN, TX 78652\\n</td>\n",
       "    </tr>\n",
       "  </tbody>\n",
       "</table>\n",
       "</div>"
      ],
      "text/plain": [
       "  Restaurant Name Zip Code Inspection Date  Score  \\\n",
       "0      6M Grocery    78652      01/17/2014     90   \n",
       "1      6M Grocery    78652      04/27/2015     93   \n",
       "2      6M Grocery    78652      05/02/2016     88   \n",
       "3      6M Grocery    78652      07/25/2014    100   \n",
       "4      6M Grocery    78652      10/21/2015     87   \n",
       "\n",
       "                                Address  \n",
       "0  805 W FM 1626 RD\\nAUSTIN, TX 78652\\n  \n",
       "1  805 W FM 1626 RD\\nAUSTIN, TX 78652\\n  \n",
       "2  805 W FM 1626 RD\\nAUSTIN, TX 78652\\n  \n",
       "3  805 W FM 1626 RD\\nAUSTIN, TX 78652\\n  \n",
       "4  805 W FM 1626 RD\\nAUSTIN, TX 78652\\n  "
      ]
     },
     "execution_count": 6,
     "metadata": {},
     "output_type": "execute_result"
    }
   ],
   "source": [
    "df.head()"
   ]
  },
  {
   "cell_type": "code",
   "execution_count": 7,
   "metadata": {},
   "outputs": [
    {
     "data": {
      "text/plain": [
       "array([[<AxesSubplot:title={'center':'Score'}>]], dtype=object)"
      ]
     },
     "execution_count": 7,
     "metadata": {},
     "output_type": "execute_result"
    },
    {
     "data": {
      "image/png": "[encoded data removed]",
      "text/plain": [
       "<Figure size 432x288 with 1 Axes>"
      ]
     },
     "metadata": {
      "needs_background": "light"
     },
     "output_type": "display_data"
    }
   ],
   "source": [
    "df.hist(\"Score\")"
   ]
  },
  {
   "cell_type": "code",
   "execution_count": 24,
   "metadata": {},
   "outputs": [
    {
     "data": {
      "text/plain": [
       "91.40706693478886"
      ]
     },
     "execution_count": 24,
     "metadata": {},
     "output_type": "execute_result"
    }
   ],
   "source": [
    "mean=df[\"Score\"].mean()\n",
    "mean"
   ]
  },
  {
   "cell_type": "code",
   "execution_count": 64,
   "metadata": {},
   "outputs": [
    {
     "data": {
      "text/html": [
       "<div>\n",
       "<style scoped>\n",
       "    .dataframe tbody tr th:only-of-type {\n",
       "        vertical-align: middle;\n",
       "    }\n",
       "\n",
       "    .dataframe tbody tr th {\n",
       "        vertical-align: top;\n",
       "    }\n",
       "\n",
       "    .dataframe thead th {\n",
       "        text-align: right;\n",
       "    }\n",
       "</style>\n",
       "<table border=\"1\" class=\"dataframe\">\n",
       "  <thead>\n",
       "    <tr style=\"text-align: right;\">\n",
       "      <th></th>\n",
       "      <th>Restaurant Name</th>\n",
       "      <th>Zip Code</th>\n",
       "      <th>Inspection Date</th>\n",
       "      <th>Score</th>\n",
       "      <th>Address</th>\n",
       "    </tr>\n",
       "  </thead>\n",
       "  <tbody>\n",
       "    <tr>\n",
       "      <th>11936</th>\n",
       "      <td>Ken's Subs, Tacos and More</td>\n",
       "      <td>78753</td>\n",
       "      <td>06/24/2014</td>\n",
       "      <td>94</td>\n",
       "      <td>9408 DESSAU RD\\nAUSTIN, TX 78753\\n(30.350595, ...</td>\n",
       "    </tr>\n",
       "    <tr>\n",
       "      <th>16065</th>\n",
       "      <td>Prodigy Child Development Cent</td>\n",
       "      <td>78758</td>\n",
       "      <td>03/18/2016</td>\n",
       "      <td>95</td>\n",
       "      <td>2300 CEDAR BEND DR\\nAUSTIN, TX 78758\\n(30.4123...</td>\n",
       "    </tr>\n",
       "    <tr>\n",
       "      <th>18835</th>\n",
       "      <td>Snap Kitchen</td>\n",
       "      <td>78703</td>\n",
       "      <td>09/29/2015</td>\n",
       "      <td>100</td>\n",
       "      <td>1014 W 6TH ST\\nAUSTIN, TX 78703\\n(30.271777, -...</td>\n",
       "    </tr>\n",
       "    <tr>\n",
       "      <th>432</th>\n",
       "      <td>MN - Park Place Foods</td>\n",
       "      <td>78653</td>\n",
       "      <td>09/06/2016</td>\n",
       "      <td>100</td>\n",
       "      <td>11209 E US 290 HWY EB\\nMANOR, TX 78653\\n</td>\n",
       "    </tr>\n",
       "    <tr>\n",
       "      <th>7918</th>\n",
       "      <td>El Rancho #24 - Bakery</td>\n",
       "      <td>78723</td>\n",
       "      <td>12/30/2014</td>\n",
       "      <td>100</td>\n",
       "      <td>6800 BERKMAN DR\\nAUSTIN, TX 78723\\n(30.32023, ...</td>\n",
       "    </tr>\n",
       "    <tr>\n",
       "      <th>...</th>\n",
       "      <td>...</td>\n",
       "      <td>...</td>\n",
       "      <td>...</td>\n",
       "      <td>...</td>\n",
       "      <td>...</td>\n",
       "    </tr>\n",
       "    <tr>\n",
       "      <th>3850</th>\n",
       "      <td>Castilian, The</td>\n",
       "      <td>78705</td>\n",
       "      <td>09/12/2016</td>\n",
       "      <td>89</td>\n",
       "      <td>2323 SAN ANTONIO ST\\nAUSTIN, TX 78705\\n(30.287...</td>\n",
       "    </tr>\n",
       "    <tr>\n",
       "      <th>18977</th>\n",
       "      <td>Smoothie Factory</td>\n",
       "      <td>78749</td>\n",
       "      <td>02/12/2016</td>\n",
       "      <td>85</td>\n",
       "      <td>4404 W WILLIAM CANNON DR Unit C\\nAUSTIN, TX 78...</td>\n",
       "    </tr>\n",
       "    <tr>\n",
       "      <th>18928</th>\n",
       "      <td>Sonic</td>\n",
       "      <td>78735</td>\n",
       "      <td>01/14/2014</td>\n",
       "      <td>89</td>\n",
       "      <td>7714 W SH 71 Bldg A\\nAUSTIN, TX 78735\\n(30.242...</td>\n",
       "    </tr>\n",
       "    <tr>\n",
       "      <th>17020</th>\n",
       "      <td>Randall's Food Stores #2471 - Deli</td>\n",
       "      <td>78703</td>\n",
       "      <td>10/08/2015</td>\n",
       "      <td>97</td>\n",
       "      <td>2727 EXPOSITION BLVD\\nAUSTIN, TX 78703\\n(30.30...</td>\n",
       "    </tr>\n",
       "    <tr>\n",
       "      <th>7145</th>\n",
       "      <td>Dessau Food Mart</td>\n",
       "      <td>78754</td>\n",
       "      <td>08/12/2015</td>\n",
       "      <td>100</td>\n",
       "      <td>9411 DESSAU RD\\nAUSTIN, TX 78754\\n(30.351997, ...</td>\n",
       "    </tr>\n",
       "  </tbody>\n",
       "</table>\n",
       "<p>100 rows × 5 columns</p>\n",
       "</div>"
      ],
      "text/plain": [
       "                          Restaurant Name Zip Code Inspection Date  Score  \\\n",
       "11936          Ken's Subs, Tacos and More    78753      06/24/2014     94   \n",
       "16065      Prodigy Child Development Cent    78758      03/18/2016     95   \n",
       "18835                        Snap Kitchen    78703      09/29/2015    100   \n",
       "432                 MN - Park Place Foods    78653      09/06/2016    100   \n",
       "7918               El Rancho #24 - Bakery    78723      12/30/2014    100   \n",
       "...                                   ...      ...             ...    ...   \n",
       "3850                       Castilian, The    78705      09/12/2016     89   \n",
       "18977                    Smoothie Factory    78749      02/12/2016     85   \n",
       "18928                               Sonic    78735      01/14/2014     89   \n",
       "17020  Randall's Food Stores #2471 - Deli    78703      10/08/2015     97   \n",
       "7145                     Dessau Food Mart    78754      08/12/2015    100   \n",
       "\n",
       "                                                 Address  \n",
       "11936  9408 DESSAU RD\\nAUSTIN, TX 78753\\n(30.350595, ...  \n",
       "16065  2300 CEDAR BEND DR\\nAUSTIN, TX 78758\\n(30.4123...  \n",
       "18835  1014 W 6TH ST\\nAUSTIN, TX 78703\\n(30.271777, -...  \n",
       "432             11209 E US 290 HWY EB\\nMANOR, TX 78653\\n  \n",
       "7918   6800 BERKMAN DR\\nAUSTIN, TX 78723\\n(30.32023, ...  \n",
       "...                                                  ...  \n",
       "3850   2323 SAN ANTONIO ST\\nAUSTIN, TX 78705\\n(30.287...  \n",
       "18977  4404 W WILLIAM CANNON DR Unit C\\nAUSTIN, TX 78...  \n",
       "18928  7714 W SH 71 Bldg A\\nAUSTIN, TX 78735\\n(30.242...  \n",
       "17020  2727 EXPOSITION BLVD\\nAUSTIN, TX 78703\\n(30.30...  \n",
       "7145   9411 DESSAU RD\\nAUSTIN, TX 78754\\n(30.351997, ...  \n",
       "\n",
       "[100 rows x 5 columns]"
      ]
     },
     "execution_count": 64,
     "metadata": {},
     "output_type": "execute_result"
    }
   ],
   "source": [
    "samples=df.sample(n=100)\n",
    "samples"
   ]
  },
  {
   "cell_type": "markdown",
   "metadata": {},
   "source": [
    "#### 1.1 Complete the function one_resampled_mean below. It should take in an original table data, with a column Score, and return the mean score of one resampling from data."
   ]
  },
  {
   "cell_type": "code",
   "execution_count": 40,
   "metadata": {},
   "outputs": [
    {
     "data": {
      "text/plain": [
       "96.0"
      ]
     },
     "execution_count": 40,
     "metadata": {},
     "output_type": "execute_result"
    }
   ],
   "source": [
    "def one_resampled_mean(data):\n",
    "    rs=data.sample()\n",
    "    one_mean=rs[\"Score\"].mean()\n",
    "    return one_mean\n",
    "one_resampled_mean(df)\n"
   ]
  },
  {
   "cell_type": "markdown",
   "metadata": {},
   "source": [
    "#### 1.2 Complete the function bootstrap_scoresbelow. It should take no arguments. It should simulate drawing 5000 resamples from restaurant_sampleand compute the mean restaurant score in each resample. It should return an array of those 5000 resampled means."
   ]
  },
  {
   "cell_type": "code",
   "execution_count": 43,
   "metadata": {
    "scrolled": true
   },
   "outputs": [
    {
     "name": "stdout",
     "output_type": "stream",
     "text": [
      "array of 5000 resampled means.  [97.0, 100.0, 89.0, 94.0, 94.0, 80.0, 100.0, 86.0, 89.0, 100.0, 74.0, 97.0, 82.0, 100.0, 96.0, 96.0, 65.0, 77.0, 89.0, 90.0, 88.0, 84.0, 81.0, 85.0, 100.0, 81.0, 92.0, 100.0, 69.0, 100.0, 100.0, 93.0, 95.0, 100.0, 83.0, 80.0, 77.0, 85.0, 100.0, 95.0, 96.0, 100.0, 92.0, 93.0, 78.0, 95.0, 100.0, 77.0, 100.0, 94.0, 100.0, 100.0, 96.0, 90.0, 90.0, 94.0, 97.0, 100.0, 100.0, 99.0, 97.0, 100.0, 80.0, 85.0, 74.0, 100.0, 94.0, 96.0, 89.0, 90.0, 93.0, 96.0, 82.0, 93.0, 100.0, 100.0, 90.0, 85.0, 82.0, 84.0, 92.0, 96.0, 96.0, 89.0, 90.0, 87.0, 81.0, 96.0, 82.0, 100.0, 88.0, 100.0, 100.0, 100.0, 100.0, 93.0, 92.0, 100.0, 99.0, 96.0, 84.0, 97.0, 96.0, 96.0, 77.0, 100.0, 81.0, 100.0, 80.0, 99.0, 88.0, 81.0, 96.0, 73.0, 100.0, 100.0, 96.0, 98.0, 87.0, 73.0, 69.0, 100.0, 100.0, 97.0, 100.0, 87.0, 90.0, 100.0, 84.0, 74.0, 89.0, 89.0, 84.0, 97.0, 81.0, 97.0, 85.0, 98.0, 88.0, 84.0, 100.0, 94.0, 88.0, 95.0, 100.0, 100.0, 92.0, 99.0, 90.0, 74.0, 89.0, 93.0, 96.0, 95.0, 100.0, 69.0, 93.0, 81.0, 87.0, 92.0, 99.0, 96.0, 92.0, 81.0, 93.0, 97.0, 96.0, 99.0, 99.0, 100.0, 97.0, 94.0, 82.0, 89.0, 100.0, 73.0, 90.0, 89.0, 89.0, 96.0, 96.0, 80.0, 97.0, 100.0, 80.0, 93.0, 100.0, 100.0, 94.0, 93.0, 96.0, 97.0, 96.0, 93.0, 77.0, 99.0, 100.0, 100.0, 100.0, 100.0, 100.0, 92.0, 97.0, 74.0, 98.0, 96.0, 73.0, 100.0, 80.0, 82.0, 65.0, 97.0, 100.0, 87.0, 98.0, 91.0, 96.0, 100.0, 100.0, 65.0, 90.0, 85.0, 94.0, 89.0, 91.0, 94.0, 85.0, 90.0, 90.0, 92.0, 97.0, 83.0, 100.0, 89.0, 77.0, 96.0, 87.0, 85.0, 97.0, 89.0, 93.0, 100.0, 98.0, 84.0, 100.0, 81.0, 92.0, 100.0, 100.0, 90.0, 96.0, 93.0, 100.0, 100.0, 92.0, 97.0, 92.0, 65.0, 87.0, 97.0, 92.0, 84.0, 92.0, 96.0, 89.0, 90.0, 88.0, 90.0, 87.0, 100.0, 87.0, 100.0, 90.0, 85.0, 65.0, 99.0, 93.0, 96.0, 99.0, 94.0, 80.0, 89.0, 89.0, 94.0, 94.0, 90.0, 89.0, 90.0, 98.0, 80.0, 89.0, 100.0, 94.0, 90.0, 97.0, 97.0, 78.0, 78.0, 100.0, 96.0, 70.0, 70.0, 97.0, 97.0, 100.0, 96.0, 100.0, 94.0, 100.0, 80.0, 100.0, 80.0, 85.0, 93.0, 92.0, 85.0, 87.0, 98.0, 97.0, 100.0, 93.0, 80.0, 99.0, 97.0, 95.0, 90.0, 97.0, 95.0, 92.0, 96.0, 87.0, 81.0, 100.0, 92.0, 100.0, 94.0, 100.0, 94.0, 98.0, 97.0, 92.0, 85.0, 92.0, 94.0, 89.0, 85.0, 99.0, 100.0, 95.0, 85.0, 96.0, 97.0, 81.0, 93.0, 88.0, 97.0, 73.0, 90.0, 100.0, 100.0, 97.0, 73.0, 100.0, 93.0, 100.0, 82.0, 96.0, 100.0, 81.0, 100.0, 96.0, 73.0, 85.0, 99.0, 100.0, 99.0, 80.0, 100.0, 98.0, 97.0, 100.0, 78.0, 92.0, 93.0, 99.0, 85.0, 69.0, 100.0, 100.0, 100.0, 90.0, 73.0, 89.0, 82.0, 90.0, 91.0, 82.0, 83.0, 93.0, 97.0, 94.0, 100.0, 88.0, 100.0, 96.0, 74.0, 95.0, 95.0, 82.0, 96.0, 100.0, 91.0, 92.0, 84.0, 92.0, 84.0, 73.0, 93.0, 99.0, 90.0, 97.0, 96.0, 97.0, 85.0, 80.0, 85.0, 93.0, 92.0, 100.0, 92.0, 94.0, 100.0, 89.0, 100.0, 96.0, 94.0, 85.0, 85.0, 89.0, 89.0, 81.0, 83.0, 74.0, 80.0, 77.0, 95.0, 97.0, 95.0, 89.0, 97.0, 82.0, 96.0, 100.0, 99.0, 73.0, 100.0, 92.0, 100.0, 92.0, 90.0, 94.0, 74.0, 92.0, 81.0, 100.0, 96.0, 96.0, 90.0, 93.0, 94.0, 89.0, 73.0, 99.0, 100.0, 97.0, 100.0, 95.0, 96.0, 96.0, 99.0, 90.0, 92.0, 100.0, 82.0, 100.0, 100.0, 87.0, 80.0, 97.0, 100.0, 100.0, 94.0, 99.0, 82.0, 94.0, 96.0, 84.0, 99.0, 91.0, 85.0, 100.0, 92.0, 99.0, 70.0, 94.0, 88.0, 85.0, 100.0, 100.0, 80.0, 100.0, 78.0, 90.0, 100.0, 96.0, 85.0, 100.0, 97.0, 88.0, 77.0, 80.0, 81.0, 94.0, 94.0, 73.0, 96.0, 80.0, 97.0, 85.0, 84.0, 100.0, 84.0, 85.0, 100.0, 100.0, 84.0, 100.0, 94.0, 90.0, 97.0, 74.0, 81.0, 96.0, 87.0, 96.0, 100.0, 65.0, 92.0, 94.0, 85.0, 100.0, 97.0, 99.0, 94.0, 97.0, 96.0, 91.0, 94.0, 81.0, 92.0, 94.0, 99.0, 100.0, 92.0, 100.0, 70.0, 92.0, 92.0, 100.0, 100.0, 100.0, 100.0, 97.0, 74.0, 94.0, 81.0, 94.0, 82.0, 97.0, 95.0, 92.0, 90.0, 94.0, 100.0, 98.0, 94.0, 91.0, 88.0, 82.0, 88.0, 97.0, 90.0, 96.0, 97.0, 90.0, 100.0, 97.0, 81.0, 100.0, 94.0, 80.0, 83.0, 69.0, 85.0, 87.0, 100.0, 89.0, 73.0, 96.0, 77.0, 92.0, 80.0, 92.0, 97.0, 70.0, 70.0, 90.0, 82.0, 85.0, 94.0, 65.0, 97.0, 87.0, 96.0, 100.0, 82.0, 89.0, 94.0, 92.0, 100.0, 90.0, 85.0, 100.0, 96.0, 91.0, 92.0, 89.0, 74.0, 85.0, 97.0, 91.0, 93.0, 100.0, 77.0, 94.0, 89.0, 80.0, 100.0, 97.0, 73.0, 74.0, 92.0, 99.0, 82.0, 99.0, 100.0, 80.0, 88.0, 82.0, 82.0, 98.0, 100.0, 85.0, 92.0, 96.0, 89.0, 94.0, 90.0, 73.0, 97.0, 100.0, 82.0, 82.0, 94.0, 82.0, 90.0, 100.0, 70.0, 89.0, 100.0, 94.0, 82.0, 100.0, 85.0, 99.0, 86.0, 100.0, 83.0, 84.0, 93.0, 96.0, 69.0, 100.0, 74.0, 87.0, 100.0, 100.0, 95.0, 77.0, 96.0, 92.0, 90.0, 70.0, 97.0, 85.0, 92.0, 92.0, 100.0, 99.0, 96.0, 97.0, 96.0, 91.0, 100.0, 100.0, 98.0, 84.0, 89.0, 96.0, 100.0, 99.0, 92.0, 70.0, 90.0, 97.0, 89.0, 100.0, 100.0, 89.0, 100.0, 93.0, 82.0, 97.0, 94.0, 96.0, 100.0, 74.0, 81.0, 96.0, 80.0, 82.0, 81.0, 97.0, 78.0, 100.0, 93.0, 99.0, 93.0, 89.0, 94.0, 99.0, 98.0, 97.0, 93.0, 85.0, 82.0, 74.0, 87.0, 96.0, 100.0, 89.0, 100.0, 77.0, 96.0, 99.0, 94.0, 96.0, 100.0, 99.0, 86.0, 92.0, 88.0, 100.0, 85.0, 96.0, 100.0, 100.0, 100.0, 89.0, 81.0, 73.0, 90.0, 74.0, 100.0, 87.0, 88.0, 100.0, 96.0, 100.0, 100.0, 97.0, 80.0, 96.0, 82.0, 86.0, 90.0, 96.0, 96.0, 100.0, 94.0, 89.0, 94.0, 92.0, 84.0, 99.0, 100.0, 87.0, 92.0, 97.0, 94.0, 73.0, 99.0, 80.0, 81.0, 84.0, 96.0, 89.0, 96.0, 92.0, 87.0, 69.0, 84.0, 92.0, 78.0, 100.0, 92.0, 81.0, 88.0, 89.0, 90.0, 99.0, 92.0, 100.0, 96.0, 100.0, 87.0, 99.0, 96.0, 96.0, 83.0, 81.0, 88.0, 100.0, 91.0, 100.0, 100.0, 95.0, 96.0, 99.0, 98.0, 94.0, 80.0, 93.0, 97.0, 97.0, 100.0, 97.0, 94.0, 100.0, 100.0, 83.0, 89.0, 89.0, 97.0, 99.0, 90.0, 93.0, 100.0, 92.0, 98.0, 82.0, 80.0, 94.0, 96.0, 78.0, 87.0, 90.0, 93.0, 84.0, 100.0, 100.0, 95.0, 90.0, 92.0, 97.0, 94.0, 90.0, 93.0, 92.0, 90.0, 81.0, 90.0, 78.0, 82.0, 89.0, 100.0, 100.0, 97.0, 96.0, 97.0, 83.0, 80.0, 89.0, 92.0, 89.0, 87.0, 90.0, 80.0, 82.0, 92.0, 90.0, 92.0, 88.0, 100.0, 100.0, 100.0, 69.0, 92.0, 96.0, 89.0, 81.0, 92.0, 90.0, 65.0, 84.0, 90.0, 100.0, 98.0, 80.0, 97.0, 92.0, 100.0, 90.0, 100.0, 98.0, 96.0, 91.0, 89.0, 96.0, 89.0, 92.0, 89.0, 99.0, 100.0, 74.0, 65.0, 100.0, 97.0, 100.0, 94.0, 90.0, 87.0, 81.0, 99.0, 94.0, 80.0, 96.0, 100.0, 85.0, 97.0, 81.0, 87.0, 94.0, 98.0, 85.0, 96.0, 100.0, 100.0, 97.0, 80.0, 73.0, 87.0, 100.0, 96.0, 100.0, 90.0, 89.0, 80.0, 78.0, 94.0, 97.0, 84.0, 85.0, 90.0, 88.0, 99.0, 82.0, 100.0, 92.0, 100.0, 90.0, 73.0, 96.0, 100.0, 99.0, 80.0, 98.0, 95.0, 92.0, 100.0, 100.0, 94.0, 69.0, 92.0, 100.0, 100.0, 94.0, 80.0, 100.0, 100.0, 83.0, 100.0, 82.0, 87.0, 65.0, 90.0, 97.0, 88.0, 90.0, 96.0, 100.0, 74.0, 90.0, 100.0, 90.0, 92.0, 100.0, 93.0, 90.0, 83.0, 85.0, 78.0, 90.0, 89.0, 84.0, 94.0, 100.0, 99.0, 85.0, 85.0, 96.0, 74.0, 81.0, 92.0, 100.0, 81.0, 100.0, 97.0, 87.0, 90.0, 95.0, 70.0, 70.0, 84.0, 82.0, 86.0, 100.0, 94.0, 100.0, 98.0, 96.0, 84.0, 96.0, 84.0, 97.0, 97.0, 94.0, 81.0, 90.0, 92.0, 96.0, 100.0, 94.0, 100.0, 87.0, 100.0, 88.0, 87.0, 82.0, 85.0, 100.0, 96.0, 92.0, 100.0, 87.0, 90.0, 100.0, 90.0, 99.0, 82.0, 96.0, 95.0, 93.0, 100.0, 94.0, 65.0, 100.0, 95.0, 92.0, 74.0, 94.0, 90.0, 93.0, 99.0, 97.0, 81.0, 85.0, 100.0, 84.0, 81.0, 89.0, 89.0, 100.0, 90.0, 83.0, 92.0, 100.0, 74.0, 96.0, 87.0, 94.0, 90.0, 82.0, 90.0, 96.0, 96.0, 90.0, 100.0, 94.0, 100.0, 89.0, 78.0, 80.0, 84.0, 81.0, 94.0, 82.0, 92.0, 100.0, 77.0, 100.0, 100.0, 97.0, 96.0, 100.0, 100.0, 100.0, 88.0, 90.0, 95.0, 100.0, 89.0, 89.0, 80.0, 73.0, 93.0, 92.0, 89.0, 83.0, 96.0, 90.0, 97.0, 82.0, 97.0, 80.0, 82.0, 87.0, 90.0, 69.0, 89.0, 100.0, 100.0, 97.0, 84.0, 80.0, 96.0, 81.0, 90.0, 100.0, 100.0, 100.0, 84.0, 100.0, 89.0, 100.0, 98.0, 97.0, 100.0, 100.0, 96.0, 100.0, 87.0, 94.0, 86.0, 94.0, 95.0, 100.0, 73.0, 92.0, 73.0, 99.0, 96.0, 88.0, 93.0, 100.0, 90.0, 96.0, 92.0, 100.0, 88.0, 77.0, 82.0, 92.0, 90.0, 96.0, 96.0, 94.0, 92.0, 69.0, 100.0, 77.0, 94.0, 90.0, 96.0, 96.0, 81.0, 100.0, 78.0, 98.0, 98.0, 89.0, 100.0, 89.0, 92.0, 93.0, 94.0, 87.0, 89.0, 100.0, 94.0, 96.0, 100.0, 98.0, 87.0, 93.0, 81.0, 90.0, 84.0, 100.0, 90.0, 100.0, 80.0, 80.0, 89.0, 100.0, 100.0, 89.0, 74.0, 92.0, 97.0, 97.0, 98.0, 99.0, 99.0, 97.0, 80.0, 89.0, 99.0, 97.0, 80.0, 73.0, 86.0, 90.0, 81.0, 95.0, 100.0, 100.0, 98.0, 100.0, 96.0, 95.0, 100.0, 65.0, 81.0, 99.0, 100.0, 100.0, 89.0, 81.0, 90.0, 80.0, 78.0, 69.0, 96.0, 100.0, 94.0, 81.0, 80.0, 97.0, 100.0, 100.0, 88.0, 93.0, 100.0, 69.0, 94.0, 82.0, 94.0, 87.0, 99.0, 94.0, 100.0, 80.0, 83.0, 95.0, 97.0, 97.0, 94.0, 81.0, 100.0, 90.0, 92.0, 100.0, 97.0, 84.0, 98.0, 96.0, 73.0, 92.0, 100.0, 97.0, 99.0, 100.0, 92.0, 97.0, 96.0, 89.0, 90.0, 100.0, 90.0, 96.0, 97.0, 100.0, 100.0, 94.0, 100.0, 100.0, 78.0, 87.0, 85.0, 97.0, 96.0, 96.0, 88.0, 100.0, 89.0, 81.0, 92.0, 100.0, 100.0, 80.0, 97.0, 81.0, 82.0, 100.0, 87.0, 100.0, 93.0, 97.0, 85.0, 92.0, 94.0, 94.0, 94.0, 100.0, 92.0, 90.0, 92.0, 100.0, 92.0, 100.0, 84.0, 85.0, 92.0, 94.0, 90.0, 84.0, 96.0, 96.0, 90.0, 97.0, 97.0, 97.0, 96.0, 97.0, 82.0, 94.0, 92.0, 89.0, 96.0, 86.0, 90.0, 96.0, 87.0, 99.0, 88.0, 73.0, 92.0, 84.0, 92.0, 96.0, 90.0, 78.0, 100.0, 73.0, 96.0, 82.0, 85.0, 97.0, 96.0, 81.0, 97.0, 100.0, 100.0, 83.0, 94.0, 100.0, 73.0, 97.0, 84.0, 100.0, 90.0, 74.0, 93.0, 99.0, 97.0, 97.0, 84.0, 100.0, 100.0, 80.0, 97.0, 100.0, 100.0, 97.0, 96.0, 100.0, 97.0, 78.0, 92.0, 100.0, 81.0, 90.0, 99.0, 100.0, 96.0, 93.0, 85.0, 82.0, 83.0, 100.0, 100.0, 96.0, 100.0, 80.0, 99.0, 87.0, 85.0, 100.0, 96.0, 90.0, 89.0, 85.0, 98.0, 74.0, 70.0, 92.0, 100.0, 89.0, 94.0, 98.0, 85.0, 85.0, 97.0, 89.0, 93.0, 99.0, 92.0, 96.0, 84.0, 85.0, 94.0, 89.0, 98.0, 100.0, 100.0, 80.0, 100.0, 86.0, 95.0, 92.0, 88.0, 90.0, 90.0, 100.0, 92.0, 84.0, 96.0, 100.0, 85.0, 100.0, 100.0, 96.0, 100.0, 90.0, 100.0, 100.0, 94.0, 100.0, 90.0, 97.0, 97.0, 99.0, 96.0, 86.0, 65.0, 81.0, 83.0, 99.0, 89.0, 90.0, 87.0, 74.0, 99.0, 84.0, 100.0, 88.0, 97.0, 95.0, 85.0, 90.0, 100.0, 87.0, 65.0, 74.0, 90.0, 100.0, 77.0, 78.0, 96.0, 95.0, 74.0, 96.0, 70.0, 99.0, 94.0, 77.0, 90.0, 97.0, 100.0, 100.0, 93.0, 90.0, 73.0, 80.0, 92.0, 82.0, 89.0, 90.0, 88.0, 92.0, 96.0, 96.0, 92.0, 92.0, 100.0, 90.0, 90.0, 100.0, 92.0, 80.0, 99.0, 94.0, 89.0, 99.0, 97.0, 100.0, 90.0, 82.0, 100.0, 100.0, 90.0, 77.0, 96.0, 100.0, 94.0, 97.0, 100.0, 74.0, 74.0, 73.0, 100.0, 98.0, 94.0, 82.0, 92.0, 100.0, 100.0, 90.0, 100.0, 90.0, 81.0, 100.0, 100.0, 100.0, 85.0, 70.0, 97.0, 99.0, 94.0, 95.0, 82.0, 92.0, 94.0, 89.0, 96.0, 96.0, 92.0, 94.0, 89.0, 96.0, 96.0, 92.0, 80.0, 82.0, 96.0, 84.0, 92.0, 91.0, 100.0, 81.0, 95.0, 78.0, 96.0, 88.0, 92.0, 85.0, 92.0, 96.0, 100.0, 96.0, 96.0, 78.0, 81.0, 78.0, 89.0, 100.0, 74.0, 99.0, 70.0, 96.0, 90.0, 99.0, 99.0, 84.0, 96.0, 84.0, 100.0, 92.0, 100.0, 92.0, 100.0, 90.0, 85.0, 90.0, 94.0, 100.0, 90.0, 88.0, 99.0, 96.0, 94.0, 99.0, 92.0, 82.0, 65.0, 96.0, 96.0, 89.0, 86.0, 92.0, 90.0, 90.0, 82.0, 90.0, 73.0, 90.0, 96.0, 96.0, 100.0, 90.0, 96.0, 97.0, 93.0, 90.0, 100.0, 94.0, 94.0, 98.0, 99.0, 100.0, 100.0, 100.0, 95.0, 97.0, 93.0, 100.0, 99.0, 83.0, 93.0, 100.0, 70.0, 74.0, 81.0, 90.0, 87.0, 82.0, 100.0, 100.0, 98.0, 85.0, 81.0, 96.0, 65.0, 97.0, 90.0, 70.0, 100.0, 77.0, 100.0, 94.0, 69.0, 94.0, 96.0, 94.0, 94.0, 96.0, 88.0, 94.0, 94.0, 69.0, 97.0, 97.0, 85.0, 81.0, 74.0, 100.0, 80.0, 94.0, 69.0, 82.0, 92.0, 86.0, 97.0, 90.0, 90.0, 97.0, 89.0, 95.0, 100.0, 78.0, 92.0, 81.0, 100.0, 86.0, 73.0, 69.0, 84.0, 81.0, 97.0, 100.0, 69.0, 97.0, 74.0, 100.0, 91.0, 84.0, 96.0, 89.0, 93.0, 92.0, 96.0, 100.0, 95.0, 100.0, 77.0, 85.0, 89.0, 77.0, 96.0, 92.0, 97.0, 100.0, 90.0, 97.0, 90.0, 84.0, 100.0, 100.0, 100.0, 100.0, 94.0, 97.0, 80.0, 99.0, 85.0, 96.0, 69.0, 97.0, 100.0, 73.0, 85.0, 90.0, 80.0, 77.0, 74.0, 100.0, 100.0, 90.0, 85.0, 97.0, 100.0, 100.0, 87.0, 90.0, 81.0, 96.0, 99.0, 93.0, 97.0, 96.0, 90.0, 100.0, 88.0, 100.0, 94.0, 100.0, 85.0, 96.0, 100.0, 97.0, 99.0, 100.0, 97.0, 96.0, 96.0, 100.0, 97.0, 99.0, 100.0, 92.0, 97.0, 89.0, 92.0, 92.0, 96.0, 82.0, 97.0, 81.0, 77.0, 78.0, 100.0, 100.0, 94.0, 100.0, 97.0, 74.0, 84.0, 98.0, 100.0, 100.0, 91.0, 100.0, 100.0, 88.0, 96.0, 82.0, 84.0, 94.0, 96.0, 100.0, 89.0, 87.0, 87.0, 73.0, 100.0, 80.0, 94.0, 94.0, 84.0, 96.0, 86.0, 70.0, 99.0, 73.0, 73.0, 100.0, 99.0, 85.0, 82.0, 82.0, 84.0, 81.0, 74.0, 90.0, 78.0, 89.0, 100.0, 89.0, 65.0, 94.0, 94.0, 89.0, 74.0, 81.0, 80.0, 96.0, 80.0, 74.0, 96.0, 100.0, 80.0, 96.0, 97.0, 89.0, 85.0, 100.0, 100.0, 89.0, 97.0, 74.0, 90.0, 100.0, 80.0, 99.0, 89.0, 100.0, 92.0, 73.0, 97.0, 97.0, 100.0, 94.0, 65.0, 88.0, 65.0, 88.0, 87.0, 92.0, 89.0, 96.0, 74.0, 85.0, 90.0, 97.0, 100.0, 96.0, 82.0, 84.0, 90.0, 78.0, 100.0, 94.0, 96.0, 85.0, 81.0, 78.0, 90.0, 87.0, 96.0, 97.0, 96.0, 100.0, 99.0, 97.0, 78.0, 89.0, 80.0, 92.0, 91.0, 81.0, 96.0, 69.0, 96.0, 90.0, 88.0, 100.0, 92.0, 81.0, 95.0, 93.0, 97.0, 78.0, 81.0, 97.0, 77.0, 100.0, 80.0, 82.0, 100.0, 98.0, 100.0, 97.0, 94.0, 100.0, 97.0, 97.0, 87.0, 86.0, 90.0, 74.0, 90.0, 74.0, 90.0, 94.0, 100.0, 81.0, 100.0, 98.0, 100.0, 74.0, 85.0, 87.0, 100.0, 100.0, 100.0, 86.0, 81.0, 100.0, 93.0, 94.0, 100.0, 96.0, 96.0, 100.0, 82.0, 96.0, 100.0, 90.0, 100.0, 94.0, 92.0, 100.0, 100.0, 94.0, 96.0, 70.0, 88.0, 96.0, 73.0, 96.0, 78.0, 100.0, 74.0, 98.0, 90.0, 69.0, 85.0, 93.0, 92.0, 81.0, 82.0, 100.0, 85.0, 70.0, 100.0, 98.0, 96.0, 85.0, 97.0, 93.0, 98.0, 81.0, 90.0, 94.0, 82.0, 97.0, 80.0, 90.0, 100.0, 80.0, 97.0, 96.0, 96.0, 82.0, 77.0, 95.0, 80.0, 97.0, 92.0, 82.0, 82.0, 88.0, 89.0, 92.0, 86.0, 100.0, 88.0, 85.0, 90.0, 93.0, 82.0, 100.0, 96.0, 78.0, 96.0, 100.0, 96.0, 96.0, 88.0, 88.0, 85.0, 100.0, 96.0, 78.0, 100.0, 94.0, 87.0, 97.0, 85.0, 99.0, 100.0, 94.0, 96.0, 70.0, 90.0, 82.0, 74.0, 90.0, 100.0, 94.0, 96.0, 74.0, 100.0, 100.0, 100.0, 88.0, 97.0, 92.0, 87.0, 99.0, 94.0, 82.0, 100.0, 100.0, 81.0, 94.0, 87.0, 97.0, 100.0, 91.0, 96.0, 92.0, 97.0, 90.0, 90.0, 92.0, 93.0, 96.0, 97.0, 80.0, 96.0, 100.0, 96.0, 98.0, 96.0, 85.0, 92.0, 74.0, 96.0, 100.0, 100.0, 92.0, 92.0, 97.0, 100.0, 77.0, 92.0, 81.0, 100.0, 94.0, 96.0, 82.0, 90.0, 100.0, 99.0, 96.0, 99.0, 90.0, 80.0, 97.0, 96.0, 89.0, 100.0, 80.0, 81.0, 77.0, 100.0, 81.0, 100.0, 91.0, 84.0, 94.0, 92.0, 92.0, 100.0, 100.0, 99.0, 96.0, 100.0, 85.0, 69.0, 81.0, 90.0, 100.0, 96.0, 92.0, 97.0, 89.0, 83.0, 100.0, 82.0, 96.0, 74.0, 92.0, 96.0, 86.0, 81.0, 94.0, 85.0, 97.0, 100.0, 81.0, 81.0, 100.0, 90.0, 99.0, 70.0, 100.0, 80.0, 100.0, 100.0, 73.0, 87.0, 94.0, 96.0, 90.0, 92.0, 96.0, 88.0, 97.0, 96.0, 82.0, 78.0, 86.0, 100.0, 92.0, 100.0, 94.0, 89.0, 94.0, 85.0, 95.0, 97.0, 100.0, 100.0, 90.0, 100.0, 85.0, 81.0, 93.0, 82.0, 80.0, 100.0, 99.0, 94.0, 93.0, 74.0, 88.0, 84.0, 98.0, 90.0, 74.0, 90.0, 81.0, 77.0, 96.0, 93.0, 81.0, 100.0, 69.0, 97.0, 96.0, 82.0, 89.0, 94.0, 94.0, 89.0, 77.0, 84.0, 82.0, 94.0, 65.0, 100.0, 100.0, 100.0, 94.0, 100.0, 89.0, 100.0, 93.0, 85.0, 100.0, 92.0, 96.0, 94.0, 70.0, 96.0, 87.0, 84.0, 97.0, 93.0, 82.0, 93.0, 97.0, 70.0, 97.0, 90.0, 100.0, 94.0, 92.0, 97.0, 100.0, 100.0, 77.0, 81.0, 81.0, 90.0, 73.0, 91.0, 96.0, 91.0, 100.0, 88.0, 94.0, 96.0, 97.0, 93.0, 100.0, 96.0, 100.0, 99.0, 80.0, 100.0, 69.0, 73.0, 89.0, 96.0, 100.0, 80.0, 100.0, 93.0, 80.0, 100.0, 100.0, 99.0, 90.0, 96.0, 97.0, 90.0, 92.0, 88.0, 96.0, 95.0, 97.0, 92.0, 97.0, 94.0, 100.0, 92.0, 100.0, 97.0, 81.0, 92.0, 96.0, 100.0, 97.0, 93.0, 91.0, 92.0, 96.0, 96.0, 78.0, 99.0, 96.0, 97.0, 97.0, 96.0, 87.0, 96.0, 92.0, 94.0, 97.0, 94.0, 100.0, 96.0, 70.0, 93.0, 96.0, 94.0, 92.0, 85.0, 99.0, 90.0, 77.0, 88.0, 93.0, 86.0, 73.0, 87.0, 96.0, 100.0, 80.0, 82.0, 94.0, 99.0, 94.0, 74.0, 93.0, 86.0, 100.0, 74.0, 89.0, 100.0, 100.0, 83.0, 95.0, 93.0, 82.0, 93.0, 73.0, 97.0, 78.0, 96.0, 99.0, 100.0, 100.0, 100.0, 84.0, 94.0, 90.0, 81.0, 100.0, 92.0, 96.0, 100.0, 94.0, 90.0, 65.0, 96.0, 97.0, 87.0, 82.0, 80.0, 93.0, 100.0, 99.0, 96.0, 96.0, 96.0, 69.0, 98.0, 100.0, 100.0, 92.0, 94.0, 94.0, 100.0, 100.0, 82.0, 100.0, 80.0, 80.0, 78.0, 97.0, 73.0, 73.0, 89.0, 81.0, 97.0, 99.0, 100.0, 100.0, 100.0, 74.0, 100.0, 88.0, 90.0, 92.0, 87.0, 94.0, 70.0, 94.0, 100.0, 97.0, 100.0, 93.0, 92.0, 100.0, 100.0, 83.0, 97.0, 94.0, 82.0, 97.0, 89.0, 90.0, 100.0, 94.0, 96.0, 94.0, 81.0, 83.0, 100.0, 100.0, 85.0, 100.0, 89.0, 100.0, 90.0, 94.0, 100.0, 96.0, 100.0, 87.0, 82.0, 93.0, 97.0, 100.0, 94.0, 95.0, 92.0, 73.0, 84.0, 94.0, 85.0, 74.0, 94.0, 93.0, 100.0, 88.0, 97.0, 90.0, 93.0, 97.0, 96.0, 81.0, 92.0, 74.0, 65.0, 100.0, 98.0, 92.0, 94.0, 92.0, 74.0, 94.0, 96.0, 100.0, 87.0, 97.0, 98.0, 94.0, 100.0, 88.0, 89.0, 89.0, 93.0, 100.0, 90.0, 90.0, 99.0, 88.0, 73.0, 78.0, 86.0, 96.0, 100.0, 90.0, 86.0, 80.0, 88.0, 100.0, 69.0, 95.0, 84.0, 81.0, 88.0, 94.0, 89.0, 73.0, 100.0, 100.0, 90.0, 80.0, 100.0, 92.0, 94.0, 100.0, 97.0, 90.0, 87.0, 100.0, 85.0, 92.0, 78.0, 94.0, 92.0, 100.0, 88.0, 90.0, 83.0, 92.0, 92.0, 92.0, 99.0, 100.0, 100.0, 98.0, 97.0, 90.0, 87.0, 92.0, 87.0, 84.0, 100.0, 89.0, 94.0, 86.0, 94.0, 94.0, 90.0, 96.0, 69.0, 94.0, 100.0, 100.0, 90.0, 84.0, 88.0, 96.0, 97.0, 84.0, 88.0, 87.0, 96.0, 85.0, 73.0, 97.0, 90.0, 100.0, 96.0, 82.0, 74.0, 97.0, 73.0, 80.0, 99.0, 89.0, 90.0, 100.0, 97.0, 93.0, 100.0, 80.0, 89.0, 84.0, 100.0, 95.0, 94.0, 100.0, 89.0, 94.0, 94.0, 100.0, 100.0, 100.0, 100.0, 100.0, 84.0, 88.0, 81.0, 94.0, 100.0, 94.0, 99.0, 100.0, 90.0, 96.0, 89.0, 90.0, 85.0, 92.0, 97.0, 90.0, 96.0, 100.0, 91.0, 100.0, 98.0, 96.0, 95.0, 94.0, 100.0, 92.0, 85.0, 86.0, 100.0, 85.0, 92.0, 87.0, 89.0, 94.0, 83.0, 82.0, 70.0, 97.0, 89.0, 97.0, 96.0, 99.0, 100.0, 92.0, 96.0, 89.0, 97.0, 91.0, 96.0, 99.0, 81.0, 94.0, 100.0, 100.0, 77.0, 92.0, 96.0, 92.0, 74.0, 100.0, 73.0, 100.0, 82.0, 90.0, 88.0, 99.0, 97.0, 94.0, 93.0, 97.0, 94.0, 90.0, 99.0, 97.0, 96.0, 90.0, 65.0, 98.0, 65.0, 98.0, 100.0, 95.0, 87.0, 100.0, 85.0, 70.0, 97.0, 65.0, 88.0, 96.0, 96.0, 80.0, 99.0, 81.0, 100.0, 94.0, 96.0, 97.0, 94.0, 90.0, 100.0, 99.0, 81.0, 80.0, 100.0, 74.0, 100.0, 96.0, 96.0, 97.0, 95.0, 93.0, 99.0, 89.0, 89.0, 81.0, 78.0, 100.0, 92.0, 100.0, 70.0, 100.0, 96.0, 100.0, 100.0, 100.0, 94.0, 88.0, 100.0, 82.0, 90.0, 90.0, 97.0, 91.0, 74.0, 100.0, 96.0, 73.0, 73.0, 87.0, 100.0, 85.0, 97.0, 99.0, 100.0, 89.0, 82.0, 100.0, 99.0, 82.0, 100.0, 73.0, 97.0, 94.0, 98.0, 93.0, 84.0, 98.0, 93.0, 65.0, 91.0, 97.0, 90.0, 100.0, 83.0, 92.0, 82.0, 96.0, 80.0, 93.0, 82.0, 100.0, 100.0, 69.0, 96.0, 89.0, 94.0, 100.0, 100.0, 100.0, 94.0, 96.0, 97.0, 98.0, 69.0, 99.0, 99.0, 97.0, 88.0, 88.0, 89.0, 78.0, 99.0, 96.0, 94.0, 100.0, 80.0, 90.0, 93.0, 87.0, 100.0, 100.0, 89.0, 73.0, 88.0, 88.0, 84.0, 96.0, 99.0, 97.0, 89.0, 87.0, 100.0, 89.0, 97.0, 99.0, 100.0, 94.0, 100.0, 100.0, 91.0, 81.0, 89.0, 96.0, 100.0, 94.0, 100.0, 96.0, 96.0, 94.0, 91.0, 80.0, 97.0, 93.0, 95.0, 92.0, 99.0, 82.0, 100.0, 88.0, 100.0, 77.0, 100.0, 95.0, 93.0, 90.0, 94.0, 94.0, 65.0, 91.0, 97.0, 94.0, 100.0, 69.0, 73.0, 95.0, 74.0, 87.0, 98.0, 84.0, 92.0, 83.0, 73.0, 100.0, 96.0, 99.0, 94.0, 94.0, 88.0, 96.0, 83.0, 97.0, 92.0, 98.0, 100.0, 97.0, 99.0, 89.0, 90.0, 77.0, 97.0, 85.0, 92.0, 69.0, 100.0, 80.0, 96.0, 94.0, 92.0, 96.0, 78.0, 96.0, 78.0, 96.0, 65.0, 82.0, 95.0, 93.0, 96.0, 92.0, 98.0, 74.0, 94.0, 87.0, 100.0, 100.0, 100.0, 96.0, 85.0, 81.0, 80.0, 87.0, 100.0, 96.0, 74.0, 90.0, 99.0, 100.0, 99.0, 92.0, 100.0, 83.0, 69.0, 99.0, 82.0, 82.0, 90.0, 96.0, 99.0, 82.0, 100.0, 97.0, 93.0, 100.0, 90.0, 85.0, 87.0, 92.0, 87.0, 74.0, 99.0, 83.0, 100.0, 97.0, 100.0, 96.0, 92.0, 94.0, 85.0, 84.0, 97.0, 97.0, 84.0, 88.0, 96.0, 100.0, 100.0, 92.0, 93.0, 77.0, 100.0, 100.0, 90.0, 100.0, 89.0, 94.0, 99.0, 96.0, 100.0, 100.0, 98.0, 100.0, 87.0, 85.0, 81.0, 85.0, 100.0, 81.0, 90.0, 81.0, 95.0, 96.0, 89.0, 97.0, 100.0, 92.0, 96.0, 84.0, 92.0, 99.0, 99.0, 100.0, 81.0, 90.0, 84.0, 100.0, 93.0, 77.0, 82.0, 74.0, 100.0, 96.0, 96.0, 85.0, 90.0, 98.0, 85.0, 91.0, 100.0, 97.0, 100.0, 88.0, 97.0, 97.0, 90.0, 97.0, 96.0, 97.0, 88.0, 90.0, 97.0, 81.0, 81.0, 96.0, 82.0, 94.0, 89.0, 100.0, 92.0, 80.0, 92.0, 100.0, 70.0, 100.0, 82.0, 90.0, 92.0, 82.0, 98.0, 69.0, 73.0, 93.0, 82.0, 100.0, 92.0, 96.0, 93.0, 65.0, 97.0, 100.0, 97.0, 84.0, 92.0, 100.0, 93.0, 99.0, 96.0, 94.0, 96.0, 83.0, 90.0, 89.0, 100.0, 94.0, 69.0, 65.0, 80.0, 80.0, 100.0, 94.0, 92.0, 100.0, 90.0, 96.0, 96.0, 87.0, 89.0, 97.0, 73.0, 84.0, 90.0, 81.0, 100.0, 100.0, 92.0, 74.0, 97.0, 80.0, 100.0, 94.0, 73.0, 88.0, 92.0, 100.0, 100.0, 91.0, 100.0, 100.0, 92.0, 81.0, 97.0, 89.0, 90.0, 87.0, 100.0, 97.0, 99.0, 89.0, 100.0, 84.0, 100.0, 98.0, 70.0, 97.0, 100.0, 85.0, 100.0, 80.0, 100.0, 93.0, 100.0, 81.0, 100.0, 84.0, 90.0, 100.0, 97.0, 73.0, 94.0, 88.0, 82.0, 94.0, 100.0, 82.0, 83.0, 100.0, 92.0, 100.0, 74.0, 89.0, 87.0, 97.0, 93.0, 100.0, 90.0, 100.0, 100.0, 100.0, 100.0, 90.0, 98.0, 81.0, 100.0, 74.0, 97.0, 88.0, 93.0, 100.0, 89.0, 78.0, 96.0, 89.0, 73.0, 100.0, 93.0, 82.0, 100.0, 81.0, 81.0, 100.0, 84.0, 91.0, 82.0, 74.0, 100.0, 85.0, 86.0, 93.0, 85.0, 94.0, 96.0, 96.0, 85.0, 97.0, 90.0, 100.0, 94.0, 81.0, 98.0, 100.0, 96.0, 100.0, 100.0, 70.0, 100.0, 85.0, 92.0, 100.0, 96.0, 100.0, 96.0, 95.0, 96.0, 100.0, 97.0, 94.0, 70.0, 85.0, 85.0, 100.0, 87.0, 100.0, 88.0, 100.0, 100.0, 100.0, 81.0, 82.0, 96.0, 78.0, 90.0, 99.0, 99.0, 100.0, 74.0, 99.0, 87.0, 100.0, 97.0, 89.0, 82.0, 70.0, 89.0, 94.0, 81.0, 93.0, 100.0, 98.0, 100.0, 90.0, 84.0, 88.0, 82.0, 89.0, 100.0, 90.0, 100.0, 99.0, 97.0, 100.0, 96.0, 93.0, 94.0, 83.0, 97.0, 73.0, 73.0, 92.0, 96.0, 100.0, 97.0, 95.0, 84.0, 96.0, 99.0, 90.0, 93.0, 87.0, 74.0, 80.0, 96.0, 89.0, 93.0, 85.0, 82.0, 84.0, 100.0, 97.0, 100.0, 87.0, 83.0, 93.0, 95.0, 74.0, 93.0, 77.0, 100.0, 86.0, 91.0, 99.0, 97.0, 89.0, 80.0, 99.0, 65.0, 100.0, 97.0, 95.0, 73.0, 81.0, 100.0, 82.0, 74.0, 78.0, 94.0, 89.0, 89.0, 84.0, 100.0, 100.0, 97.0, 78.0, 90.0, 96.0, 99.0, 96.0, 93.0, 93.0, 78.0, 100.0, 92.0, 90.0, 88.0, 87.0, 100.0, 94.0, 92.0, 84.0, 84.0, 94.0, 82.0, 94.0, 97.0, 94.0, 100.0, 92.0, 85.0, 96.0, 99.0, 87.0, 99.0, 93.0, 100.0, 74.0, 96.0, 100.0, 80.0, 90.0, 92.0, 94.0, 98.0, 88.0, 84.0, 87.0, 100.0, 100.0, 97.0, 96.0, 89.0, 81.0, 95.0, 99.0, 100.0, 92.0, 87.0, 96.0, 97.0, 94.0, 100.0, 96.0, 90.0, 88.0, 100.0, 100.0, 96.0, 94.0, 80.0, 96.0, 73.0, 82.0, 85.0, 100.0, 90.0, 94.0, 97.0, 87.0, 100.0, 94.0, 78.0, 99.0, 96.0, 95.0, 80.0, 92.0, 95.0, 88.0, 100.0, 91.0, 100.0, 98.0, 94.0, 100.0, 81.0, 100.0, 94.0, 99.0, 92.0, 90.0, 81.0, 96.0, 94.0, 80.0, 92.0, 97.0, 100.0, 93.0, 100.0, 96.0, 78.0, 92.0, 100.0, 96.0, 95.0, 84.0, 85.0, 92.0, 85.0, 78.0, 99.0, 100.0, 90.0, 87.0, 100.0, 100.0, 100.0, 89.0, 90.0, 99.0, 81.0, 87.0, 89.0, 77.0, 100.0, 74.0, 96.0, 69.0, 73.0, 90.0, 89.0, 88.0, 95.0, 87.0, 82.0, 99.0, 100.0, 100.0, 96.0, 100.0, 99.0, 96.0, 80.0, 100.0, 100.0, 100.0, 84.0, 73.0, 85.0, 81.0, 85.0, 92.0, 96.0, 100.0, 90.0, 96.0, 69.0, 97.0, 65.0, 100.0, 80.0, 97.0, 87.0, 94.0, 99.0, 85.0, 95.0, 90.0, 100.0, 82.0, 86.0, 90.0, 93.0, 90.0, 100.0, 93.0, 96.0, 100.0, 96.0, 87.0, 84.0, 99.0, 80.0, 96.0, 84.0, 100.0, 99.0, 74.0, 89.0, 80.0, 100.0, 100.0, 96.0, 96.0, 96.0, 73.0, 96.0, 94.0, 94.0, 85.0, 84.0, 100.0, 100.0, 74.0, 100.0, 93.0, 83.0, 99.0, 100.0, 100.0, 97.0, 100.0, 80.0, 80.0, 82.0, 94.0, 81.0, 96.0, 100.0, 90.0, 83.0, 85.0, 94.0, 93.0, 94.0, 80.0, 87.0, 92.0, 73.0, 94.0, 99.0, 94.0, 82.0, 100.0, 90.0, 99.0, 80.0, 97.0, 84.0, 92.0, 89.0, 95.0, 78.0, 73.0, 100.0, 73.0, 74.0, 94.0, 80.0, 94.0, 100.0, 90.0, 88.0, 100.0, 73.0, 96.0, 95.0, 89.0, 98.0, 77.0, 100.0, 100.0, 100.0, 95.0, 100.0, 100.0, 100.0, 96.0, 81.0, 96.0, 100.0, 73.0, 69.0, 81.0, 96.0, 99.0, 90.0, 80.0, 99.0, 85.0, 97.0, 83.0, 96.0, 100.0, 99.0, 92.0, 97.0, 100.0, 100.0, 100.0, 100.0, 96.0, 89.0, 100.0, 84.0, 100.0, 95.0, 90.0, 100.0, 80.0, 100.0, 100.0, 70.0, 94.0, 90.0, 94.0, 97.0, 100.0, 82.0, 90.0, 80.0, 96.0, 100.0, 89.0, 95.0, 100.0, 85.0, 81.0, 100.0, 100.0, 100.0, 81.0, 94.0, 74.0, 96.0, 100.0, 80.0, 98.0, 100.0, 90.0, 96.0, 89.0, 80.0, 100.0, 100.0, 87.0, 93.0, 85.0, 99.0, 87.0, 96.0, 89.0, 96.0, 93.0, 96.0, 100.0, 82.0, 100.0, 94.0, 100.0, 85.0, 97.0, 90.0, 80.0, 100.0, 77.0, 84.0, 100.0, 82.0, 82.0, 97.0, 89.0, 100.0, 90.0, 100.0, 84.0, 90.0, 95.0, 81.0, 92.0, 95.0, 94.0, 81.0, 100.0, 100.0, 88.0, 99.0, 90.0, 73.0, 100.0, 80.0, 100.0, 99.0, 97.0, 100.0, 100.0, 90.0, 90.0, 94.0, 81.0, 85.0, 96.0, 93.0, 100.0, 85.0, 86.0, 97.0, 98.0, 96.0, 97.0, 82.0, 100.0, 82.0, 89.0, 82.0, 82.0, 89.0, 97.0, 81.0, 100.0, 97.0, 73.0, 80.0, 97.0, 100.0, 65.0, 81.0, 100.0, 97.0, 77.0, 90.0, 85.0, 90.0, 92.0, 74.0, 69.0, 100.0, 100.0, 96.0, 90.0, 65.0, 100.0, 85.0, 74.0, 97.0, 100.0, 100.0, 92.0, 96.0, 100.0, 80.0, 100.0, 100.0, 100.0, 86.0, 92.0, 84.0, 89.0, 89.0, 73.0, 94.0, 99.0, 94.0, 74.0, 99.0, 96.0, 100.0, 100.0, 95.0, 81.0, 77.0, 96.0, 81.0, 73.0, 87.0, 96.0, 82.0, 80.0, 87.0, 89.0, 100.0, 94.0, 70.0, 100.0, 97.0, 80.0, 82.0, 74.0, 80.0, 90.0, 96.0, 84.0, 97.0, 88.0, 96.0, 100.0, 65.0, 97.0, 89.0, 96.0, 90.0, 97.0, 90.0, 97.0, 70.0, 80.0, 82.0, 89.0, 84.0, 97.0, 100.0, 97.0, 100.0, 90.0, 97.0, 100.0, 94.0, 92.0, 80.0, 99.0, 77.0, 92.0, 100.0, 94.0, 85.0, 80.0, 100.0, 100.0, 100.0, 95.0, 92.0, 96.0, 98.0, 82.0, 85.0, 100.0, 100.0, 90.0, 90.0, 70.0, 85.0, 100.0, 100.0, 100.0, 77.0, 92.0, 100.0, 99.0, 80.0, 97.0, 99.0, 100.0, 69.0, 100.0, 90.0, 90.0, 94.0, 100.0, 99.0, 89.0, 98.0, 92.0, 82.0, 89.0, 84.0, 90.0, 90.0, 96.0, 97.0, 95.0, 69.0, 98.0, 82.0, 91.0, 97.0, 86.0, 89.0, 74.0, 65.0, 88.0, 92.0, 94.0, 85.0, 100.0, 77.0, 87.0, 87.0, 87.0, 100.0, 97.0, 84.0, 87.0, 100.0, 81.0, 96.0, 90.0, 85.0, 96.0, 98.0, 93.0, 92.0, 91.0, 100.0, 92.0, 89.0, 94.0, 92.0, 97.0, 74.0, 99.0, 94.0, 91.0, 96.0, 83.0, 100.0, 65.0, 100.0, 74.0, 96.0, 94.0, 74.0, 94.0, 100.0, 85.0, 90.0, 93.0, 92.0, 85.0, 96.0, 97.0, 100.0, 90.0, 81.0, 84.0, 82.0, 69.0, 84.0, 94.0, 100.0, 95.0, 96.0, 93.0, 93.0, 93.0, 100.0, 97.0, 85.0, 89.0, 69.0, 96.0, 94.0, 96.0, 100.0, 100.0, 97.0, 78.0, 89.0, 80.0, 97.0, 73.0, 93.0, 73.0, 73.0, 73.0, 100.0, 100.0, 100.0, 100.0, 100.0, 89.0, 87.0, 87.0, 100.0, 65.0, 100.0, 96.0, 100.0, 100.0, 94.0, 94.0, 94.0, 96.0, 100.0, 92.0, 88.0, 96.0, 92.0, 97.0, 92.0, 96.0, 77.0, 100.0, 84.0, 86.0, 89.0, 80.0, 97.0, 90.0, 88.0, 92.0, 99.0, 100.0, 100.0, 96.0, 96.0, 100.0, 80.0, 100.0, 100.0, 95.0, 100.0, 91.0, 100.0, 100.0, 100.0, 100.0, 92.0, 92.0, 87.0, 96.0, 78.0, 89.0, 100.0, 82.0, 100.0, 100.0, 74.0, 82.0, 89.0, 97.0, 86.0, 91.0, 95.0, 86.0, 92.0, 100.0, 100.0, 96.0, 87.0, 90.0, 89.0, 85.0, 98.0, 99.0, 94.0, 97.0, 95.0, 100.0, 90.0, 92.0, 96.0, 94.0, 94.0, 83.0, 73.0, 97.0, 81.0, 96.0, 88.0, 100.0, 81.0, 100.0, 100.0, 93.0, 100.0, 98.0, 100.0, 93.0, 89.0, 89.0, 77.0, 94.0, 90.0, 94.0, 94.0, 80.0, 93.0, 84.0, 98.0, 95.0, 99.0, 92.0, 100.0, 98.0, 92.0, 94.0, 90.0, 86.0, 91.0, 92.0, 88.0, 100.0, 94.0, 92.0, 100.0, 91.0, 90.0, 93.0, 100.0, 99.0, 90.0, 94.0, 99.0, 92.0, 88.0, 98.0, 96.0, 96.0, 92.0, 97.0, 96.0, 100.0, 95.0, 93.0, 97.0, 96.0, 87.0, 82.0, 81.0, 91.0, 100.0, 96.0, 90.0, 74.0, 100.0, 100.0, 89.0, 94.0, 84.0, 77.0, 89.0, 100.0, 73.0, 100.0, 92.0, 85.0, 73.0, 65.0, 97.0, 89.0, 97.0, 92.0, 82.0, 94.0, 99.0, 96.0, 98.0, 83.0, 90.0, 97.0, 100.0, 85.0, 89.0, 88.0, 100.0, 73.0, 94.0, 69.0, 97.0, 90.0, 96.0, 73.0, 94.0, 93.0, 100.0, 94.0, 81.0, 65.0, 100.0, 96.0, 94.0, 82.0, 96.0, 100.0, 97.0, 87.0, 82.0, 100.0, 84.0, 94.0, 95.0, 96.0, 91.0, 96.0, 65.0, 94.0, 85.0, 82.0, 97.0, 69.0, 92.0, 92.0, 92.0, 84.0, 96.0, 100.0, 100.0, 94.0, 98.0, 81.0, 92.0, 100.0, 93.0, 85.0, 100.0, 100.0, 87.0, 94.0, 90.0, 100.0, 65.0, 95.0, 100.0, 94.0, 100.0, 89.0, 92.0, 93.0, 92.0, 96.0, 100.0, 98.0, 96.0, 84.0, 94.0, 88.0, 100.0, 100.0, 65.0, 100.0, 90.0, 90.0, 92.0, 81.0, 80.0, 87.0, 90.0, 94.0, 97.0, 80.0, 100.0, 100.0, 100.0, 96.0, 92.0, 81.0, 89.0, 96.0, 94.0, 100.0, 97.0, 100.0, 74.0, 92.0, 98.0, 97.0, 92.0, 100.0, 88.0, 100.0, 92.0, 84.0, 94.0, 82.0, 100.0, 96.0, 85.0, 100.0, 88.0, 100.0, 80.0, 99.0, 100.0, 87.0, 90.0, 100.0, 74.0, 88.0, 100.0, 92.0, 92.0, 99.0, 74.0, 97.0, 100.0, 96.0, 94.0, 85.0, 82.0, 100.0, 100.0, 87.0, 88.0, 90.0, 92.0, 90.0, 92.0, 78.0, 96.0, 97.0, 100.0, 89.0, 90.0, 89.0, 92.0, 87.0, 89.0, 97.0, 100.0, 80.0, 74.0, 100.0, 85.0, 91.0, 94.0, 90.0, 69.0, 85.0, 96.0, 94.0, 77.0, 99.0, 95.0, 96.0, 99.0, 87.0, 93.0, 97.0, 100.0, 100.0, 97.0, 99.0, 97.0, 87.0, 89.0, 90.0, 96.0, 100.0, 80.0, 92.0, 95.0, 100.0, 100.0, 80.0, 97.0, 96.0, 96.0, 90.0, 99.0, 84.0, 87.0, 90.0, 85.0, 81.0, 80.0, 92.0, 94.0, 82.0, 89.0, 87.0, 100.0, 80.0, 94.0, 89.0, 94.0, 100.0, 85.0, 99.0, 99.0, 82.0, 93.0, 93.0, 89.0, 98.0, 100.0, 100.0, 90.0, 87.0, 93.0, 100.0, 100.0, 100.0, 80.0, 69.0, 69.0, 87.0, 90.0, 100.0, 81.0, 96.0, 92.0, 100.0, 96.0, 82.0, 100.0, 100.0, 80.0, 97.0, 92.0, 97.0, 86.0, 81.0, 100.0, 100.0, 81.0, 87.0, 73.0, 85.0, 99.0, 94.0, 80.0, 100.0, 100.0, 96.0, 82.0, 96.0, 97.0, 92.0, 100.0, 100.0, 81.0, 94.0, 92.0, 80.0, 94.0, 100.0, 95.0, 91.0, 93.0, 100.0, 90.0, 81.0, 100.0, 96.0, 95.0, 97.0, 92.0, 96.0, 92.0, 96.0, 81.0, 93.0, 86.0, 99.0, 69.0, 92.0, 96.0, 100.0, 95.0, 73.0, 100.0, 94.0, 77.0, 100.0, 96.0, 74.0, 97.0, 84.0, 100.0, 89.0, 97.0, 100.0, 81.0, 100.0, 97.0, 73.0, 70.0, 86.0, 65.0, 100.0, 85.0, 97.0, 88.0, 99.0, 92.0, 97.0, 93.0, 78.0, 93.0, 97.0, 96.0, 96.0, 97.0, 88.0, 80.0, 90.0, 97.0, 84.0, 90.0, 73.0, 100.0, 90.0, 94.0, 100.0, 82.0, 91.0, 73.0, 99.0, 80.0, 89.0, 86.0, 100.0, 97.0, 95.0, 94.0, 100.0, 87.0, 91.0, 92.0, 96.0, 87.0, 94.0, 90.0, 80.0, 82.0, 87.0, 100.0, 92.0, 87.0, 87.0, 82.0, 78.0, 93.0, 90.0, 78.0, 92.0, 81.0, 73.0, 100.0, 97.0, 99.0, 96.0, 98.0, 100.0, 97.0, 91.0, 92.0, 97.0, 97.0, 100.0, 87.0, 94.0, 96.0, 100.0, 100.0, 100.0, 98.0, 81.0, 94.0, 92.0, 89.0, 97.0, 94.0, 85.0, 100.0, 81.0, 74.0, 86.0, 91.0, 92.0, 96.0, 92.0, 93.0, 88.0, 90.0, 94.0, 87.0, 85.0, 94.0, 97.0, 100.0, 84.0, 94.0, 89.0, 96.0, 87.0, 92.0, 93.0, 94.0, 81.0, 90.0, 93.0, 89.0, 87.0, 100.0, 91.0, 96.0, 100.0, 100.0, 90.0, 89.0, 94.0, 100.0, 82.0, 100.0, 100.0, 100.0, 88.0, 95.0, 77.0, 100.0, 93.0, 96.0, 99.0, 87.0, 81.0, 100.0, 80.0, 100.0, 85.0, 73.0, 85.0, 89.0, 90.0, 84.0, 96.0, 94.0, 89.0, 100.0, 97.0, 87.0, 100.0, 92.0, 89.0, 96.0, 94.0, 89.0, 98.0, 73.0, 99.0, 97.0, 89.0, 99.0, 73.0, 83.0, 94.0, 100.0, 98.0, 91.0, 88.0, 100.0, 96.0, 88.0, 96.0, 100.0, 85.0, 100.0, 98.0, 100.0, 100.0, 90.0, 73.0, 100.0, 89.0, 73.0, 83.0, 100.0, 85.0, 95.0, 82.0, 98.0, 89.0, 100.0, 96.0, 70.0, 92.0, 89.0, 97.0, 100.0, 82.0, 96.0, 100.0, 100.0, 100.0, 80.0, 89.0, 100.0, 97.0, 88.0, 89.0, 93.0, 92.0, 93.0, 73.0, 92.0, 100.0, 100.0, 100.0, 100.0, 95.0, 69.0, 81.0, 99.0, 87.0, 100.0, 100.0, 95.0, 100.0, 80.0, 99.0, 80.0, 94.0, 93.0, 97.0, 100.0, 94.0, 100.0, 91.0, 96.0, 70.0, 93.0, 87.0, 94.0, 81.0, 84.0, 89.0, 92.0, 96.0, 90.0, 87.0, 80.0, 100.0, 89.0, 89.0, 74.0, 90.0, 96.0, 92.0, 80.0, 94.0, 100.0, 100.0, 92.0, 87.0, 96.0, 81.0, 94.0, 80.0, 90.0, 94.0, 96.0, 83.0, 80.0, 100.0, 100.0, 100.0, 90.0, 85.0, 84.0, 100.0, 90.0, 96.0, 90.0, 81.0, 97.0, 100.0, 100.0, 93.0, 100.0, 74.0, 100.0, 99.0, 80.0, 100.0, 100.0, 96.0, 93.0, 99.0, 97.0, 100.0, 82.0, 87.0, 77.0, 92.0, 100.0, 100.0, 96.0, 100.0, 96.0, 80.0, 92.0, 87.0, 100.0, 81.0, 80.0, 90.0, 99.0, 98.0, 93.0, 89.0, 100.0, 94.0, 86.0, 98.0, 95.0, 97.0, 84.0, 100.0, 90.0, 96.0, 98.0, 92.0, 86.0, 96.0, 81.0, 92.0, 97.0, 92.0, 83.0, 74.0, 86.0, 100.0, 92.0, 94.0, 80.0, 100.0, 100.0, 99.0, 92.0, 94.0, 89.0, 89.0, 99.0, 100.0, 96.0, 78.0, 100.0, 100.0, 95.0, 100.0, 77.0, 89.0, 74.0, 99.0, 85.0, 100.0, 96.0, 87.0, 100.0, 96.0, 98.0, 100.0, 90.0, 100.0, 95.0, 81.0, 92.0, 100.0, 91.0, 100.0, 100.0, 89.0, 97.0, 70.0, 90.0, 87.0, 81.0, 100.0, 78.0, 99.0, 98.0, 98.0, 87.0, 96.0, 88.0, 81.0, 93.0, 86.0, 65.0, 80.0, 100.0, 90.0, 100.0, 89.0, 80.0, 90.0, 97.0, 93.0, 94.0, 86.0, 100.0, 74.0, 81.0, 92.0, 87.0, 96.0, 100.0, 99.0, 100.0, 96.0, 88.0, 99.0, 100.0]\n"
     ]
    }
   ],
   "source": [
    "def bootstrap_scores():\n",
    "    sample_means=[]\n",
    "    for i in range (5000):\n",
    "        sampleA=samples.sample()\n",
    "        sampleAmean=sampleA[\"Score\"].mean()\n",
    "        sample_means.append(sampleAmean)\n",
    "    return sample_means\n",
    "sample_means=bootstrap_scores()    \n",
    "print('array of 5000 resampled means. ',sample_means)"
   ]
  },
  {
   "cell_type": "markdown",
   "metadata": {},
   "source": [
    "#### 1.3Compute a 95 percent confidence interval for the average restaurant score using the array resampled_means."
   ]
  },
  {
   "cell_type": "code",
   "execution_count": 55,
   "metadata": {},
   "outputs": [
    {
     "name": "stdout",
     "output_type": "stream",
     "text": [
      "95% confidence interval (70.0, 100.0)\n"
     ]
    }
   ],
   "source": [
    "from datascience import *\n",
    "lower = percentile(2.5, sample_means)\n",
    "upper= percentile(97.5, sample_means)\n",
    "print(\"95% confidence interval\",(lower,upper))"
   ]
  },
  {
   "cell_type": "markdown",
   "metadata": {},
   "source": [
    "#### 1.4 What distribution is the histogram between question 2 and 3 displaying (that is, what data are plotted), and why does it have that shape?"
   ]
  },
  {
   "cell_type": "code",
   "execution_count": 59,
   "metadata": {},
   "outputs": [
    {
     "data": {
      "image/png": "[encoded data removed]",
      "text/plain": [
       "<Figure size 432x288 with 1 Axes>"
      ]
     },
     "metadata": {
      "needs_background": "light"
     },
     "output_type": "display_data"
    }
   ],
   "source": [
    "import warnings\n",
    "warnings.filterwarnings(\"ignore\")\n",
    "plt.hist(sample_means)\n",
    "plt.show()"
   ]
  },
  {
   "cell_type": "markdown",
   "metadata": {},
   "source": [
    "#### 1.6 Without referencing the array resampled_means or performing any new simulations, calculate an interval around the sample_mean that covers approximately 95% of the numbers in the resampled means array. This confidence interval should look very similar to the one you computed in Question 3."
   ]
  },
  {
   "cell_type": "code",
   "execution_count": 69,
   "metadata": {},
   "outputs": [
    {
     "name": "stdout",
     "output_type": "stream",
     "text": [
      "95% confidence interval (90.7861832707611, 93.85381672923889)\n"
     ]
    }
   ],
   "source": [
    "s_mean=samples[\"Score\"].mean()\n",
    "s_std=samples[\"Score\"].mean()\n",
    "s_size=len(samples)\n",
    "d_means=np.std(df[\"Score\"])/np.sqrt(s_size)\n",
    "lower=s_mean-2*d_means\n",
    "upper=s_mean+2*d_means\n",
    "print(\"95% confidence interval\",(lower,upper))"
   ]
  },
  {
   "cell_type": "markdown",
   "metadata": {},
   "source": [
    "#### 2.1 Define the function one_statistic_prop_headswhich should return exactly one simulated statistic of the proportion of heads from ncoinflips."
   ]
  },
  {
   "cell_type": "code",
   "execution_count": 72,
   "metadata": {},
   "outputs": [
    {
     "data": {
      "text/plain": [
       "0.2"
      ]
     },
     "execution_count": 72,
     "metadata": {},
     "output_type": "execute_result"
    }
   ],
   "source": [
    "toss=make_array(.5,.5)\n",
    "def statistic_heads(s):\n",
    "    possible=sample_proportions(s,toss)\n",
    "    heads=possible.item(0)\n",
    "    return heads\n",
    "statistic_heads(5)"
   ]
  },
  {
   "cell_type": "code",
   "execution_count": 81,
   "metadata": {},
   "outputs": [
    {
     "data": {
      "text/plain": [
       "array([0.42, 0.58])"
      ]
     },
     "execution_count": 81,
     "metadata": {},
     "output_type": "execute_result"
    }
   ],
   "source": [
    "def sample_size(n):\n",
    "    toss_props = make_array(.5, .5) \n",
    "    heads_propabilities = make_array()\n",
    "    for i in np.arange(5000):\n",
    "        propability_heads = sample_proportions(n, toss_props)\n",
    "        heads_propability = np.append(heads_propabilities,propability_heads)\n",
    "    return heads_propability\n",
    "sample_size(50)"
   ]
  },
  {
   "cell_type": "code",
   "execution_count": 82,
   "metadata": {},
   "outputs": [
    {
     "data": {
      "text/html": [
       "<div>\n",
       "<style scoped>\n",
       "    .dataframe tbody tr th:only-of-type {\n",
       "        vertical-align: middle;\n",
       "    }\n",
       "\n",
       "    .dataframe tbody tr th {\n",
       "        vertical-align: top;\n",
       "    }\n",
       "\n",
       "    .dataframe thead th {\n",
       "        text-align: right;\n",
       "    }\n",
       "</style>\n",
       "<table border=\"1\" class=\"dataframe\">\n",
       "  <thead>\n",
       "    <tr style=\"text-align: right;\">\n",
       "      <th></th>\n",
       "      <th>Date</th>\n",
       "      <th>Flight Number</th>\n",
       "      <th>Destination</th>\n",
       "      <th>Delay</th>\n",
       "    </tr>\n",
       "  </thead>\n",
       "  <tbody>\n",
       "    <tr>\n",
       "      <th>0</th>\n",
       "      <td>6/1/15</td>\n",
       "      <td>73</td>\n",
       "      <td>HNL</td>\n",
       "      <td>257</td>\n",
       "    </tr>\n",
       "    <tr>\n",
       "      <th>1</th>\n",
       "      <td>6/1/15</td>\n",
       "      <td>217</td>\n",
       "      <td>EWR</td>\n",
       "      <td>28</td>\n",
       "    </tr>\n",
       "    <tr>\n",
       "      <th>2</th>\n",
       "      <td>6/1/15</td>\n",
       "      <td>237</td>\n",
       "      <td>STL</td>\n",
       "      <td>-3</td>\n",
       "    </tr>\n",
       "    <tr>\n",
       "      <th>3</th>\n",
       "      <td>6/1/15</td>\n",
       "      <td>250</td>\n",
       "      <td>SAN</td>\n",
       "      <td>0</td>\n",
       "    </tr>\n",
       "    <tr>\n",
       "      <th>4</th>\n",
       "      <td>6/1/15</td>\n",
       "      <td>267</td>\n",
       "      <td>PHL</td>\n",
       "      <td>64</td>\n",
       "    </tr>\n",
       "    <tr>\n",
       "      <th>...</th>\n",
       "      <td>...</td>\n",
       "      <td>...</td>\n",
       "      <td>...</td>\n",
       "      <td>...</td>\n",
       "    </tr>\n",
       "    <tr>\n",
       "      <th>13820</th>\n",
       "      <td>8/31/15</td>\n",
       "      <td>1978</td>\n",
       "      <td>LAS</td>\n",
       "      <td>-4</td>\n",
       "    </tr>\n",
       "    <tr>\n",
       "      <th>13821</th>\n",
       "      <td>8/31/15</td>\n",
       "      <td>1993</td>\n",
       "      <td>IAD</td>\n",
       "      <td>8</td>\n",
       "    </tr>\n",
       "    <tr>\n",
       "      <th>13822</th>\n",
       "      <td>8/31/15</td>\n",
       "      <td>1994</td>\n",
       "      <td>ORD</td>\n",
       "      <td>3</td>\n",
       "    </tr>\n",
       "    <tr>\n",
       "      <th>13823</th>\n",
       "      <td>8/31/15</td>\n",
       "      <td>2000</td>\n",
       "      <td>PHX</td>\n",
       "      <td>-1</td>\n",
       "    </tr>\n",
       "    <tr>\n",
       "      <th>13824</th>\n",
       "      <td>8/31/15</td>\n",
       "      <td>2013</td>\n",
       "      <td>EWR</td>\n",
       "      <td>-2</td>\n",
       "    </tr>\n",
       "  </tbody>\n",
       "</table>\n",
       "<p>13825 rows × 4 columns</p>\n",
       "</div>"
      ],
      "text/plain": [
       "          Date  Flight Number Destination  Delay\n",
       "0       6/1/15             73         HNL    257\n",
       "1       6/1/15            217         EWR     28\n",
       "2       6/1/15            237         STL     -3\n",
       "3       6/1/15            250         SAN      0\n",
       "4       6/1/15            267         PHL     64\n",
       "...        ...            ...         ...    ...\n",
       "13820  8/31/15           1978         LAS     -4\n",
       "13821  8/31/15           1993         IAD      8\n",
       "13822  8/31/15           1994         ORD      3\n",
       "13823  8/31/15           2000         PHX     -1\n",
       "13824  8/31/15           2013         EWR     -2\n",
       "\n",
       "[13825 rows x 4 columns]"
      ]
     },
     "execution_count": 82,
     "metadata": {},
     "output_type": "execute_result"
    }
   ],
   "source": [
    "flight=pd.read_csv(\"united_summer2015.csv\")\n",
    "flight"
   ]
  },
  {
   "cell_type": "markdown",
   "metadata": {},
   "source": [
    "#### 2.3 Write a function called empirical_sample_mean sd that takes a sample size n as its argument. The function should simulate 500 samples with replacement of size n from the flight delays dataset, and it should return the standard deviation of the means of those 500 samples.¶"
   ]
  },
  {
   "cell_type": "code",
   "execution_count": 95,
   "metadata": {},
   "outputs": [
    {
     "data": {
      "text/plain": [
       "8.33013611173311"
      ]
     },
     "execution_count": 95,
     "metadata": {},
     "output_type": "execute_result"
    }
   ],
   "source": [
    "def empirical_sample_mean(n):\n",
    "    samples_means=make_array()\n",
    "    for i in range (500):\n",
    "        sam=flight[\"Delay\"].sample(n)\n",
    "        sample_mean=np.mean(sam)\n",
    "        samples_means=np.append(samples_means,sample_mean)\n",
    "    return np.std(sample_means)\n",
    "empirical_sample_mean(20)"
   ]
  },
  {
   "cell_type": "markdown",
   "metadata": {},
   "source": [
    "#### 2.4 write a function called predict_sample_mean sd to find the predicted value of the standard deviation of means according to the relationship between the standard deviation of the sample mean and sample size that is discussed in the textbook."
   ]
  },
  {
   "cell_type": "code",
   "execution_count": 111,
   "metadata": {},
   "outputs": [
    {
     "data": {
      "text/plain": [
       "5.614366492411332"
      ]
     },
     "execution_count": 111,
     "metadata": {},
     "output_type": "execute_result"
    }
   ],
   "source": [
    "def predict_sample_mean_sd(n):\n",
    "    sample_flight=flight.sample(10)\n",
    "    sample_flight_sd=sample_flight['Delay'].std()\n",
    "    return sample_flight_sd/np.sqrt(n)\n",
    "predict_sample_mean_sd(10)\n"
   ]
  }
 ],
 "metadata": {
  "kernelspec": {
   "display_name": "Python 3",
   "language": "python",
   "name": "python3"
  },
  "language_info": {
   "codemirror_mode": {
    "name": "ipython",
    "version": 3
   },
   "file_extension": ".py",
   "mimetype": "text/x-python",
   "name": "python",
   "nbconvert_exporter": "python",
   "pygments_lexer": "ipython3",
   "version": "3.8.5"
  }
 },
 "nbformat": 4,
 "nbformat_minor": 4
}
