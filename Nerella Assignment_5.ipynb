{
 "cells": [
  {
   "cell_type": "code",
   "execution_count": 1,
   "metadata": {},
   "outputs": [],
   "source": [
    "import numpy as np\n",
    "import pandas as pd\n",
    "import matplotlib.pyplot as plt\n",
    "import seaborn as sns\n",
    "sns.set_style(style=\"whitegrid\")"
   ]
  },
  {
   "cell_type": "code",
   "execution_count": 2,
   "metadata": {},
   "outputs": [
    {
     "data": {
      "text/plain": [
       "['.ipynb_checkpoints',\n",
       " 'Asgn 5 5502 Report (2).docx',\n",
       " 'crime_rates.csv',\n",
       " 'INFO5502_Assignment5.pdf',\n",
       " 'murder.jpg',\n",
       " 'Nithin_s Asgn5.ipynb',\n",
       " 'Untitled.ipynb']"
      ]
     },
     "execution_count": 2,
     "metadata": {},
     "output_type": "execute_result"
    }
   ],
   "source": [
    "import os\n",
    "os.listdir()\n"
   ]
  },
  {
   "cell_type": "code",
   "execution_count": 3,
   "metadata": {},
   "outputs": [],
   "source": [
    "df=pd.read_csv(\"crime_rates.csv\")"
   ]
  },
  {
   "cell_type": "code",
   "execution_count": 4,
   "metadata": {},
   "outputs": [
    {
     "data": {
      "text/html": [
       "<div>\n",
       "<style scoped>\n",
       "    .dataframe tbody tr th:only-of-type {\n",
       "        vertical-align: middle;\n",
       "    }\n",
       "\n",
       "    .dataframe tbody tr th {\n",
       "        vertical-align: top;\n",
       "    }\n",
       "\n",
       "    .dataframe thead th {\n",
       "        text-align: right;\n",
       "    }\n",
       "</style>\n",
       "<table border=\"1\" class=\"dataframe\">\n",
       "  <thead>\n",
       "    <tr style=\"text-align: right;\">\n",
       "      <th></th>\n",
       "      <th>State</th>\n",
       "      <th>Year</th>\n",
       "      <th>Population</th>\n",
       "      <th>Violent Crime Rate</th>\n",
       "      <th>Murder Rate</th>\n",
       "      <th>Forcible Rape Rate</th>\n",
       "      <th>Robbery Rate</th>\n",
       "      <th>Aggraveted Assault Rate</th>\n",
       "      <th>Property Crime Rate</th>\n",
       "      <th>Burglary Rate</th>\n",
       "      <th>Larceny &amp; Theft Rate</th>\n",
       "      <th>Motor Vehicle Theft Rate</th>\n",
       "    </tr>\n",
       "  </thead>\n",
       "  <tbody>\n",
       "    <tr>\n",
       "      <th>0</th>\n",
       "      <td>Alaska</td>\n",
       "      <td>1960</td>\n",
       "      <td>226167</td>\n",
       "      <td>104.300003</td>\n",
       "      <td>10.2</td>\n",
       "      <td>20.799999</td>\n",
       "      <td>28.299999</td>\n",
       "      <td>45.099998</td>\n",
       "      <td>1544.900024</td>\n",
       "      <td>332.100006</td>\n",
       "      <td>970.500000</td>\n",
       "      <td>242.300003</td>\n",
       "    </tr>\n",
       "    <tr>\n",
       "      <th>1</th>\n",
       "      <td>Alaska</td>\n",
       "      <td>1961</td>\n",
       "      <td>234000</td>\n",
       "      <td>88.900002</td>\n",
       "      <td>11.5</td>\n",
       "      <td>13.200000</td>\n",
       "      <td>12.400000</td>\n",
       "      <td>51.700001</td>\n",
       "      <td>1540.599976</td>\n",
       "      <td>380.799988</td>\n",
       "      <td>950.000000</td>\n",
       "      <td>209.800003</td>\n",
       "    </tr>\n",
       "    <tr>\n",
       "      <th>2</th>\n",
       "      <td>Alaska</td>\n",
       "      <td>1962</td>\n",
       "      <td>246000</td>\n",
       "      <td>91.500000</td>\n",
       "      <td>4.5</td>\n",
       "      <td>18.700001</td>\n",
       "      <td>13.800000</td>\n",
       "      <td>54.500000</td>\n",
       "      <td>1564.599976</td>\n",
       "      <td>351.600006</td>\n",
       "      <td>985.400024</td>\n",
       "      <td>227.600006</td>\n",
       "    </tr>\n",
       "    <tr>\n",
       "      <th>3</th>\n",
       "      <td>Alaska</td>\n",
       "      <td>1963</td>\n",
       "      <td>248000</td>\n",
       "      <td>109.699997</td>\n",
       "      <td>6.5</td>\n",
       "      <td>14.900000</td>\n",
       "      <td>22.200001</td>\n",
       "      <td>66.099998</td>\n",
       "      <td>1952.800049</td>\n",
       "      <td>381.500000</td>\n",
       "      <td>1213.699951</td>\n",
       "      <td>357.700012</td>\n",
       "    </tr>\n",
       "    <tr>\n",
       "      <th>4</th>\n",
       "      <td>Alaska</td>\n",
       "      <td>1964</td>\n",
       "      <td>250000</td>\n",
       "      <td>150.000000</td>\n",
       "      <td>10.4</td>\n",
       "      <td>22.400000</td>\n",
       "      <td>21.200001</td>\n",
       "      <td>96.000000</td>\n",
       "      <td>2016.000000</td>\n",
       "      <td>443.600006</td>\n",
       "      <td>1218.400024</td>\n",
       "      <td>354.000000</td>\n",
       "    </tr>\n",
       "  </tbody>\n",
       "</table>\n",
       "</div>"
      ],
      "text/plain": [
       "    State  Year  Population  Violent Crime Rate  Murder Rate  \\\n",
       "0  Alaska  1960      226167          104.300003         10.2   \n",
       "1  Alaska  1961      234000           88.900002         11.5   \n",
       "2  Alaska  1962      246000           91.500000          4.5   \n",
       "3  Alaska  1963      248000          109.699997          6.5   \n",
       "4  Alaska  1964      250000          150.000000         10.4   \n",
       "\n",
       "   Forcible Rape Rate  Robbery Rate  Aggraveted Assault Rate  \\\n",
       "0           20.799999     28.299999                45.099998   \n",
       "1           13.200000     12.400000                51.700001   \n",
       "2           18.700001     13.800000                54.500000   \n",
       "3           14.900000     22.200001                66.099998   \n",
       "4           22.400000     21.200001                96.000000   \n",
       "\n",
       "   Property Crime Rate  Burglary Rate  Larceny & Theft Rate  \\\n",
       "0          1544.900024     332.100006            970.500000   \n",
       "1          1540.599976     380.799988            950.000000   \n",
       "2          1564.599976     351.600006            985.400024   \n",
       "3          1952.800049     381.500000           1213.699951   \n",
       "4          2016.000000     443.600006           1218.400024   \n",
       "\n",
       "   Motor Vehicle Theft Rate  \n",
       "0                242.300003  \n",
       "1                209.800003  \n",
       "2                227.600006  \n",
       "3                357.700012  \n",
       "4                354.000000  "
      ]
     },
     "execution_count": 4,
     "metadata": {},
     "output_type": "execute_result"
    }
   ],
   "source": [
    "df.head()"
   ]
  },
  {
   "cell_type": "code",
   "execution_count": 5,
   "metadata": {},
   "outputs": [
    {
     "data": {
      "text/plain": [
       "State                       0\n",
       "Year                        0\n",
       "Population                  0\n",
       "Violent Crime Rate          0\n",
       "Murder Rate                 0\n",
       "Forcible Rape Rate          0\n",
       "Robbery Rate                0\n",
       "Aggraveted Assault Rate     0\n",
       "Property Crime Rate         0\n",
       "Burglary Rate               0\n",
       "Larceny & Theft Rate        0\n",
       "Motor Vehicle Theft Rate    0\n",
       "dtype: int64"
      ]
     },
     "execution_count": 5,
     "metadata": {},
     "output_type": "execute_result"
    }
   ],
   "source": [
    "df.isnull().sum() #no null values"
   ]
  },
  {
   "cell_type": "markdown",
   "metadata": {},
   "source": [
    "### Question 1.1. What additional information will we need before we can check for that association?           Murder rates vary over time, and different states exhibit different trends. The rates in some states change dramatically from year to year, while others are quite stable. Let’s plot a couple, just to see the variety. "
   ]
  },
  {
   "cell_type": "code",
   "execution_count": 6,
   "metadata": {},
   "outputs": [
    {
     "data": {
      "text/plain": [
       "array(['Alaska', 'Alabama', 'Arkansas', 'Arizona', 'California',\n",
       "       'Colorado', 'Connecticut', 'Delaware', 'Florida', 'Georgia',\n",
       "       'Hawaii', 'Iowa', 'Idaho', 'Illinois', 'Indiana', 'Kansas',\n",
       "       'Kentucky', 'Louisiana', 'Massachuse', 'Maryland', 'Maine',\n",
       "       'Michigan', 'Minnesota', 'Missouri', 'Mississippi', 'Montana',\n",
       "       'North Carolina', 'North Dakota', 'Nebraska', 'New Hampshire',\n",
       "       'New Jersey', 'New Mexico', 'Nevada', 'New York', 'Ohio',\n",
       "       'Oklahoma', 'Oregon', 'Pennsylvania', 'Rhode Isla',\n",
       "       'South Carolina', 'South Dakota', 'Tennessee', 'Texas', 'Utah',\n",
       "       'Virginia', 'Vermont', 'Washington', 'Wisconsin', 'West Virginia',\n",
       "       'Wyoming'], dtype=object)"
      ]
     },
     "execution_count": 6,
     "metadata": {},
     "output_type": "execute_result"
    }
   ],
   "source": [
    "df[\"State\"].unique() #all states names which are in dataset"
   ]
  },
  {
   "cell_type": "markdown",
   "metadata": {},
   "source": [
    "###  1.2)Draw a line plot with years on the horizontal axis and murder rates on the vertical axis. Include two lines: one for Alaska murder rates and one for Minnesota murder rates. Create this plot using a single call: ak  mn.plot(’Year’). "
   ]
  },
  {
   "cell_type": "code",
   "execution_count": 7,
   "metadata": {},
   "outputs": [
    {
     "data": {
      "text/plain": [
       "<AxesSubplot:xlabel='Year', ylabel='Murder Rate'>"
      ]
     },
     "execution_count": 7,
     "metadata": {},
     "output_type": "execute_result"
    },
    {
     "data": {
      "image/png": "[encoded data removed]",
      "text/plain": [
       "<Figure size 432x288 with 1 Axes>"
      ]
     },
     "metadata": {},
     "output_type": "display_data"
    }
   ],
   "source": [
    "m = df.query(\"State == ['Alaska','Minnesota']\")\n",
    "ax = plt.axes()\n",
    "ax.set_facecolor(\"skyblue\")\n",
    "sns.lineplot(data=m, y=\"Murder Rate\",x=\"Year\",hue=m[\"State\"])\n"
   ]
  },
  {
   "cell_type": "markdown",
   "metadata": {},
   "source": [
    "###  1.3). Implement the function most  murderous, which takes a year (an integer) as its argument. It does two things:\n",
    "- 1. It draws a horizontal bar chart of the 5 states that had the highest murder rate in that year.\n",
    "- 2. It returns an array of the names of these states in order of increasing murder rate."
   ]
  },
  {
   "cell_type": "code",
   "execution_count": 8,
   "metadata": {},
   "outputs": [
    {
     "name": "stdout",
     "output_type": "stream",
     "text": [
      "1716    13.2\n",
      "44      12.4\n",
      "1936    12.3\n",
      "396     11.9\n",
      "352     10.6\n",
      "Name: Murder Rate, dtype: float64\n"
     ]
    },
    {
     "data": {
      "image/png": "[encoded data removed]",
      "text/plain": [
       "<Figure size 554.4x523.44 with 1 Axes>"
      ]
     },
     "metadata": {},
     "output_type": "display_data"
    }
   ],
   "source": [
    "sns.set(rc={'figure.figsize':(7.7,7.27)})\n",
    "def m(Y):\n",
    "    s=df[df[\"Year\"]==Y]\n",
    "    s=s.sort_values(\"Murder Rate\",ascending=False,)\n",
    "    print(s[\"Murder Rate\"].head()) \n",
    "    s=s.head()\n",
    "    ax = plt.axes()\n",
    "    ax.set_facecolor(\"grey\")\n",
    "    plt.title(\"highest murder rates states in particular year\",size=15)\n",
    "    plt.xlabel(\"Murder rates\",size=15)\n",
    "    plt.barh(s[\"State\"],s[\"Murder Rate\"],color=['skyblue', 'red', 'green', 'blue', 'cyan'],label=(s[\"State\"],Y))\n",
    "    plt.legend()\n",
    "m(1960)"
   ]
  },
  {
   "cell_type": "markdown",
   "metadata": {},
   "source": [
    "### 1.4). How many more people were murdered in California in 1988 than in 1975? Assign ca  change to the answer."
   ]
  },
  {
   "cell_type": "markdown",
   "metadata": {},
   "source": [
    "#### murder rate for state X in year Y = 100000 * (number of murders in state X in year Y / population in state X in year Y)"
   ]
  },
  {
   "cell_type": "code",
   "execution_count": 9,
   "metadata": {},
   "outputs": [
    {
     "name": "stdout",
     "output_type": "stream",
     "text": [
      "no_of_murders ::726\n"
     ]
    }
   ],
   "source": [
    "ca_1988=df[(df['State']=='California') & (df['Year']==1988)]\n",
    "ca_1975=df[(df['State']=='California') & (df['Year']==1975)]\n",
    "no_of_murders=round(int((ca_1988[\"Murder Rate\"]*ca_1988[\"Population\"])/100000)-int((ca_1975[\"Murder Rate\"]*ca_1975[\"Population\"])/100000),2)\n",
    "print(\"no_of_murders ::{}\".format(no_of_murders))"
   ]
  },
  {
   "cell_type": "markdown",
   "metadata": {},
   "source": [
    "### 2.1). Implement the function two  year changes that takes an array of murder rates for a state, ordered by increasing year. For all two-year periods (e.g., from 1960 to 1962), it computes and returns the number of increases minus the number of decreases. "
   ]
  },
  {
   "cell_type": "code",
   "execution_count": 10,
   "metadata": {},
   "outputs": [
    {
     "data": {
      "text/plain": [
       "2       1962\n",
       "3       1963\n",
       "4       1964\n",
       "5       1965\n",
       "6       1966\n",
       "        ... \n",
       "2195    1999\n",
       "2196    2000\n",
       "2197    2001\n",
       "2198    2002\n",
       "2199    2003\n",
       "Name: Year, Length: 2198, dtype: int64"
      ]
     },
     "execution_count": 10,
     "metadata": {},
     "output_type": "execute_result"
    }
   ],
   "source": [
    "df[\"Year\"][2:]"
   ]
  },
  {
   "cell_type": "code",
   "execution_count": 11,
   "metadata": {},
   "outputs": [
    {
     "data": {
      "text/plain": [
       "0       1960\n",
       "1       1961\n",
       "2       1962\n",
       "3       1963\n",
       "4       1964\n",
       "        ... \n",
       "2193    1997\n",
       "2194    1998\n",
       "2195    1999\n",
       "2196    2000\n",
       "2197    2001\n",
       "Name: Year, Length: 2198, dtype: int64"
      ]
     },
     "execution_count": 11,
     "metadata": {},
     "output_type": "execute_result"
    }
   ],
   "source": [
    "df[\"Year\"][:-2]"
   ]
  },
  {
   "cell_type": "code",
   "execution_count": 12,
   "metadata": {},
   "outputs": [
    {
     "name": "stdout",
     "output_type": "stream",
     "text": [
      "[-5, -6, -1, 1, 17, -4, 4, -3, -6, -3, -2, 4, -3, 8, 5, 5, -6, 8, 2, 9, 5, -4, 6, 0, -2, 0, -10, 1, 5, -3, 10, -1, 5, 3, 3, 1, -1, 5, 6, -11, -3, -2, 2, 5, -8, -1, 6, 1, 3, 0]\n"
     ]
    }
   ],
   "source": [
    "differences_state =[] \n",
    "def diff_twoyears(v, n): \n",
    "    a=[]\n",
    "    b=[] \n",
    "    b1=np.array(v)[n:]\n",
    "    c1=np.array(v)[:-n]\n",
    "    for p in range(len(b1)):\n",
    "        if b1[p]>c1[p]:\n",
    "            a.append(True)\n",
    "        if b1[p]<c1[p]:\n",
    "            b.append(False)\n",
    "        else:\n",
    "            continue\n",
    "    differences_state.append(len(a)-len(b))\n",
    "\n",
    "for i in df['State'].unique():\n",
    "       years=df[df['State']==i]['Year'].tolist()\n",
    "       #print(years)\n",
    "       Murder_rates=df[df['State']==i]['Murder Rate'].tolist()\n",
    "       #print(Murder_rates)\n",
    "       diff_twoyears(Murder_rates,2) \n",
    "print(differences_state)"
   ]
  },
  {
   "cell_type": "markdown",
   "metadata": {},
   "source": [
    "#### 2.2) Assign changes by state to a table with one row per state that has two columns: the State name and the Murder Rate two year  changes statistic computed across all years in our data set for that state. "
   ]
  },
  {
   "cell_type": "code",
   "execution_count": 13,
   "metadata": {},
   "outputs": [
    {
     "name": "stdout",
     "output_type": "stream",
     "text": [
      "Requirement already satisfied: data-science in c:\\users\\satyanarayan\\anaconda3\\lib\\site-packages (0.1)\n",
      "Note: you may need to restart the kernel to use updated packages.\n"
     ]
    }
   ],
   "source": [
    "pip install data-science"
   ]
  },
  {
   "cell_type": "code",
   "execution_count": 71,
   "metadata": {},
   "outputs": [
    {
     "name": "stdout",
     "output_type": "stream",
     "text": [
      "State       | Murder Rate two_year_changes\n",
      "Alabama     | -6\n",
      "Alaska      | -5\n",
      "Arizona     | 1\n",
      "Arkansas    | -1\n",
      "California  | 17\n",
      "Colorado    | -4\n",
      "Connecticut | 4\n",
      "Delaware    | -3\n",
      "Florida     | -6\n",
      "Georgia     | -3\n",
      "... (40 rows omitted)\n"
     ]
    },
    {
     "data": {
      "image/png": "[encoded data removed]",
      "text/plain": [
       "<Figure size 432x288 with 1 Axes>"
      ]
     },
     "metadata": {},
     "output_type": "display_data"
    }
   ],
   "source": [
    "from datascience import *\n",
    "def diff(v, n):\n",
    " return np.array(v)[n:] - np.array(v)[:-n]\n",
    "diff(make_array(1, 10, 100, 1000, 10000), 2)\n",
    "def two_years(deathrates):\n",
    "\n",
    "   return np.count_nonzero(diff(deathrates, 2)>0) - np.count_nonzero(diff(deathrates, 2)<0) \n",
    "\n",
    "\n",
    "rates = Table.read_table('crime_rates.csv').select('State', 'Year', 'Population', 'Murder Rate')\n",
    "rates.set_format(\"Population\", NumberFormatter)\n",
    "states = rates.sort('State',distinct = True).column(0)\n",
    "changes = make_array()\n",
    "\n",
    "\n",
    "for i in np.arange(len(states)):\n",
    "   c = two_years(rates.where(\"State\",states[i]).column(3))\n",
    "   changes = np.append(changes,c)\n",
    "    \n",
    "    \n",
    "diff_by_state = Table().with_columns(\"State\",states,'Murder Rate two_year_changes',changes)\n",
    "\n",
    "with pd.option_context(\"display.max_rows\",50):\n",
    "  print(diff_by_state)\n",
    "diff_by_state.hist(\"Murder Rate two_year_changes\")"
   ]
  },
  {
   "cell_type": "markdown",
   "metadata": {},
   "source": [
    "#### 2.3) Assign total  changes to the total increases minus the total decreases for all two-year periods and all states in our data set. "
   ]
  },
  {
   "cell_type": "code",
   "execution_count": 18,
   "metadata": {},
   "outputs": [
    {
     "name": "stdout",
     "output_type": "stream",
     "text": [
      "total changes to the total increases minus the total decreases for all two-year periods and all states: 45.0\n"
     ]
    }
   ],
   "source": [
    "changes = sum(changes)\n",
    "print('total changes to the total increases minus the total decreases for all two-year periods and all states:', changes)\n"
   ]
  },
  {
   "cell_type": "markdown",
   "metadata": {},
   "source": [
    "#### 2.4) Set num  changes to the number of different two-year periods in the entire data set that could result in a change of a state’s murder rate. Include both those periods where a change occurred and the periods where a state’s rate happened to stay the same."
   ]
  },
  {
   "cell_type": "code",
   "execution_count": 19,
   "metadata": {},
   "outputs": [
    {
     "name": "stdout",
     "output_type": "stream",
     "text": [
      "2100\n"
     ]
    }
   ],
   "source": [
    "no_of_changes=[]\n",
    "for state in df['State'].unique():\n",
    "    s=df[df['State']==state]\n",
    "    year=s['Year']\n",
    "    no_of_changes.append(len(np.array(year)[2:]-np.array(year)[:-2]))\n",
    "print(sum(no_of_changes))"
   ]
  },
  {
   "cell_type": "markdown",
   "metadata": {},
   "source": [
    "#### 2.5) Given these null and alternative hypotheses, define a good test statistic. "
   ]
  },
  {
   "cell_type": "markdown",
   "metadata": {},
   "source": [
    "test statistic depend only on whether murder rates increased or decreased, not on the size"
   ]
  },
  {
   "cell_type": "markdown",
   "metadata": {},
   "source": [
    "#### 2.6)  Complete the simulation below, which samples num  changes increases/decreases at random many times and forms an empirical distribution of your test statistic under the null hypothesis. "
   ]
  },
  {
   "cell_type": "code",
   "execution_count": 20,
   "metadata": {},
   "outputs": [
    {
     "data": {
      "image/png": "[encoded data removed]",
      "text/plain": [
       "<Figure size 432x288 with 1 Axes>"
      ]
     },
     "metadata": {},
     "output_type": "display_data"
    }
   ],
   "source": [
    "ufm = Table().with_columns(\"Change\", make_array('Increase', 'Decrease'),\"Chance\", make_array(0.5,0.5))\n",
    "ufm.sample_from_distribution('Chance', 100)\n",
    "def simulate_under_null(num_chances_to_change):\n",
    "  s = ufm.sample_from_distribution(\"Chance\", num_chances_to_change).column(2)\n",
    "  increases = s.item(0)\n",
    "  decreases = s.item(1)\n",
    "  return abs(increases - decreases)\n",
    "ufm_samples = make_array()\n",
    "for i in np.arange(5000):\n",
    "    ufm_samples = np.append(ufm_samples, simulate_under_null(sum(no_of_changes)))\n",
    "Table().with_column('Increases minus decreases', ufm_samples).hist(0,bins=np.arange(-100, 400+25, 25))\n"
   ]
  },
  {
   "cell_type": "markdown",
   "metadata": {},
   "source": [
    "#### 3.3) Assign death penalty murder rates to a table with the same columns and data as murder rates, but that has only the rows for states that had the death penalty in 1971.  "
   ]
  },
  {
   "cell_type": "code",
   "execution_count": 28,
   "metadata": {},
   "outputs": [
    {
     "data": {
      "text/html": [
       "<table border=\"1\" class=\"dataframe\">\n",
       "    <thead>\n",
       "        <tr>\n",
       "            <th>State</th> <th>Year</th> <th>Population</th> <th>Murder Rate</th>\n",
       "        </tr>\n",
       "    </thead>\n",
       "    <tbody>\n",
       "        <tr>\n",
       "            <td>Alabama</td> <td>1960</td> <td>3,266,740 </td> <td>12.4       </td>\n",
       "        </tr>\n",
       "        <tr>\n",
       "            <td>Alabama</td> <td>1961</td> <td>3,302,000 </td> <td>12.9       </td>\n",
       "        </tr>\n",
       "        <tr>\n",
       "            <td>Alabama</td> <td>1962</td> <td>3,358,000 </td> <td>9.4        </td>\n",
       "        </tr>\n",
       "        <tr>\n",
       "            <td>Alabama</td> <td>1963</td> <td>3,347,000 </td> <td>10.2       </td>\n",
       "        </tr>\n",
       "        <tr>\n",
       "            <td>Alabama</td> <td>1964</td> <td>3,407,000 </td> <td>9.3        </td>\n",
       "        </tr>\n",
       "        <tr>\n",
       "            <td>Alabama</td> <td>1965</td> <td>3,462,000 </td> <td>11.4       </td>\n",
       "        </tr>\n",
       "        <tr>\n",
       "            <td>Alabama</td> <td>1966</td> <td>3,517,000 </td> <td>10.9       </td>\n",
       "        </tr>\n",
       "        <tr>\n",
       "            <td>Alabama</td> <td>1967</td> <td>3,540,000 </td> <td>11.7       </td>\n",
       "        </tr>\n",
       "        <tr>\n",
       "            <td>Alabama</td> <td>1968</td> <td>3,566,000 </td> <td>11.8       </td>\n",
       "        </tr>\n",
       "        <tr>\n",
       "            <td>Alabama</td> <td>1969</td> <td>3,531,000 </td> <td>13.7       </td>\n",
       "        </tr>\n",
       "    </tbody>\n",
       "</table>\n",
       "<p>... (1926 rows omitted)</p>"
      ],
      "text/plain": [
       "State   | Year | Population | Murder Rate\n",
       "Alabama | 1960 | 3,266,740  | 12.4\n",
       "Alabama | 1961 | 3,302,000  | 12.9\n",
       "Alabama | 1962 | 3,358,000  | 9.4\n",
       "Alabama | 1963 | 3,347,000  | 10.2\n",
       "Alabama | 1964 | 3,407,000  | 9.3\n",
       "Alabama | 1965 | 3,462,000  | 11.4\n",
       "Alabama | 1966 | 3,517,000  | 10.9\n",
       "Alabama | 1967 | 3,540,000  | 11.7\n",
       "Alabama | 1968 | 3,566,000  | 11.8\n",
       "Alabama | 1969 | 3,531,000  | 13.7\n",
       "... (1926 rows omitted)"
      ]
     },
     "execution_count": 28,
     "metadata": {},
     "output_type": "execute_result"
    }
   ],
   "source": [
    "import warnings\n",
    "warnings.filterwarnings(\"ignore\")\n",
    "non_death_penalty_states = make_array('Alaska', 'Hawaii', 'Maine', 'Michigan', 'Wisconsin', 'Minnesota')\n",
    "def death_penalty_in_1971(state):\n",
    "    return state not in non_death_penalty_states\n",
    "\n",
    "states = rates.group('State').select('State')\n",
    "death_penalty = states.with_column('Death Penalty', states.apply(death_penalty_in_1971, 0))\n",
    "no_of_death_penalty_states = death_penalty.where(\"Death Penalty\", are.equal_to(True)).num_rows\n",
    "\n",
    "states_penalty = death_penalty.where(\"Death Penalty\", are.equal_to(True))\n",
    "penalty_murder_rates = rates.where(\"State\", are.equal_to(states_penalty.column(\"State\")))\n",
    "penalty_murder_rates\n"
   ]
  },
  {
   "cell_type": "markdown",
   "metadata": {},
   "source": [
    "#### 3.4)  Assign changes 72 to the value of the test statistic for the years 1971 to 1973 and the states in death  penalty  murder  rates. "
   ]
  },
  {
   "cell_type": "code",
   "execution_count": 30,
   "metadata": {},
   "outputs": [
    {
     "name": "stdout",
     "output_type": "stream",
     "text": [
      " test statistic for the years 1971 to 1973 : 22\n"
     ]
    }
   ],
   "source": [
    "years= penalty_murder_rates.where('Year',are.between(1971,1974))\n",
    "sortyears=years.sort('State',distinct =True).column(0)\n",
    "changes = make_array()\n",
    "for i in np.arange(len(sortyears)):\n",
    "  s = diff(years.where('State',sortyears[i]).column(3),2)\n",
    "  changes = np.append(changes,s)\n",
    "  teststatistic= np.count_nonzero(changes<0)-np.count_nonzero(changes>0)\n",
    "print(' test statistic for the years 1971 to 1973 :', -teststatistic)"
   ]
  },
  {
   "cell_type": "markdown",
   "metadata": {},
   "source": [
    "#### 3.5) Draw an empirical histogram of the statistic under the null hypothesis by simulating the test statistic 5,000 times. "
   ]
  },
  {
   "cell_type": "code",
   "execution_count": 31,
   "metadata": {},
   "outputs": [
    {
     "data": {
      "image/png": "[encoded data removed]",
      "text/plain": [
       "<Figure size 432x288 with 1 Axes>"
      ]
     },
     "metadata": {},
     "output_type": "display_data"
    }
   ],
   "source": [
    "makearr = make_array()\n",
    "for i in np.arange(10000):\n",
    "    simulate=simulate_under_null(len(sortyears))\n",
    "    makearr = np.append(makearr,simulate)\n",
    "Table().with_column('Test statistic', makearr).hist(bins=np.arange(-4, 28+2, 2))\n"
   ]
  },
  {
   "cell_type": "markdown",
   "metadata": {},
   "source": [
    "#### 3.6) Complete the analysis as follows: 1. Compute a P-value.2. Draw a conclusion about the null and alternative hypotheses.3. Describe your findings using simple, non-technical language. Be careful not to claim that the statisticalanalysis has established more than it really has."
   ]
  },
  {
   "cell_type": "code",
   "execution_count": 32,
   "metadata": {},
   "outputs": [
    {
     "name": "stdout",
     "output_type": "stream",
     "text": [
      "0.001000100010001\n"
     ]
    }
   ],
   "source": [
    "makearr=np.array(makearr)\n",
    "empirical_Pvalue=np.count_nonzero(makearr >= abs(teststatistic) ) / i\n",
    "print(empirical_Pvalue)"
   ]
  },
  {
   "cell_type": "markdown",
   "metadata": {},
   "source": [
    "#### 4.1) Implement run test, which takes the following arguments: • A table of murder rates for certain states, sorted by state and year like murder  rates, and• the year when the analysis starts. (The comparison group is two years later.)It prints out the observed test statistic and returns the P-value for this statistic under the null hypothesis. "
   ]
  },
  {
   "cell_type": "code",
   "execution_count": 33,
   "metadata": {},
   "outputs": [
    {
     "name": "stdout",
     "output_type": "stream",
     "text": [
      "22\n",
      "pval: 0.00040008001600320064\n"
     ]
    }
   ],
   "source": [
    "import datascience as ds\n",
    "testval=[]\n",
    "ufm = Table().with_columns(\"Change\", ds.make_array('Increase', 'Decrease'),\"Chance\", ds.make_array(0.5,0.5))\n",
    "test_statistics=ufm.sample_from_distribution('Chance', 100)# It will take equal chance of ufm distribution\n",
    "\n",
    "def run_test(size,start_year):\n",
    "    testval.append(ufm.sample_from_distribution('Chance',100).column(2).item(0)-ufm.sample_from_distribution('Chance', 100).column(2).item(1))\n",
    "          \n",
    "for test in range(5000):#It will run 5000 times to get 5000 samples\n",
    "    run_test(44,1971)  \n",
    "test_values1=np.array(testval)\n",
    "empirical_P=np.count_nonzero(test_values1>=22) / test#P value calculation\n",
    "print(abs(teststatistic))\n",
    "print(\"pval:\",empirical_P)\n",
    "run_test(penalty_murder_rates,1971)"
   ]
  },
  {
   "cell_type": "markdown",
   "metadata": {},
   "source": [
    "#### 5.1) Create a table called average murder  rates with 1 row for each year in murder rates. It should have 3 columns: "
   ]
  },
  {
   "cell_type": "code",
   "execution_count": 35,
   "metadata": {},
   "outputs": [
    {
     "data": {
      "text/html": [
       "<table border=\"1\" class=\"dataframe\">\n",
       "    <thead>\n",
       "        <tr>\n",
       "            <th>Year</th> <th>Death</th> <th>No death </th>\n",
       "        </tr>\n",
       "    </thead>\n",
       "    <tbody>\n",
       "        <tr>\n",
       "            <td>1960</td> <td>5.27955</td> <td>3.55     </td>\n",
       "        </tr>\n",
       "        <tr>\n",
       "            <td>1961</td> <td>4.77727</td> <td>3.68333  </td>\n",
       "        </tr>\n",
       "        <tr>\n",
       "            <td>1962</td> <td>4.61591</td> <td>2.33333  </td>\n",
       "        </tr>\n",
       "        <tr>\n",
       "            <td>1963</td> <td>4.61364</td> <td>2.75     </td>\n",
       "        </tr>\n",
       "        <tr>\n",
       "            <td>1964</td> <td>4.71136</td> <td>3.4      </td>\n",
       "        </tr>\n",
       "        <tr>\n",
       "            <td>1965</td> <td>4.82727</td> <td>3.18333  </td>\n",
       "        </tr>\n",
       "        <tr>\n",
       "            <td>1966</td> <td>5.43182</td> <td>4.51667  </td>\n",
       "        </tr>\n",
       "        <tr>\n",
       "            <td>1967</td> <td>5.875  </td> <td>3.73333  </td>\n",
       "        </tr>\n",
       "        <tr>\n",
       "            <td>1968</td> <td>6.27045</td> <td>4.73333  </td>\n",
       "        </tr>\n",
       "        <tr>\n",
       "            <td>1969</td> <td>6.50227</td> <td>4.73333  </td>\n",
       "        </tr>\n",
       "    </tbody>\n",
       "</table>\n",
       "<p>... (34 rows omitted)</p>"
      ],
      "text/plain": [
       "Year | Death   | No death\n",
       "1960 | 5.27955 | 3.55\n",
       "1961 | 4.77727 | 3.68333\n",
       "1962 | 4.61591 | 2.33333\n",
       "1963 | 4.61364 | 2.75\n",
       "1964 | 4.71136 | 3.4\n",
       "1965 | 4.82727 | 3.18333\n",
       "1966 | 5.43182 | 4.51667\n",
       "1967 | 5.875   | 3.73333\n",
       "1968 | 6.27045 | 4.73333\n",
       "1969 | 6.50227 | 4.73333\n",
       "... (34 rows omitted)"
      ]
     },
     "execution_count": 35,
     "metadata": {},
     "output_type": "execute_result"
    }
   ],
   "source": [
    "years = rates.sort('Year', distinct = True).column('Year')\n",
    "death = rates.drop('Population').where(0, are.not_contained_in(non_death_penalty_states)).group('Year', np.average).column(2)\n",
    "nodeath = rates.drop('Population').where(0, are.contained_in(non_death_penalty_states)).group('Year', np.average).column(2)\n",
    "df1 = Table().with_columns('Year', years, 'Death', death, 'No death ', nodeath)\n",
    "df1"
   ]
  },
  {
   "cell_type": "markdown",
   "metadata": {},
   "source": [
    "#### 5.2) average murder rates.plot(’Year’). "
   ]
  },
  {
   "cell_type": "code",
   "execution_count": 36,
   "metadata": {},
   "outputs": [
    {
     "data": {
      "image/png": "[encoded data removed]",
      "text/plain": [
       "<Figure size 432x432 with 1 Axes>"
      ]
     },
     "metadata": {},
     "output_type": "display_data"
    }
   ],
   "source": [
    "df1.plot(\"Year\")"
   ]
  }
 ],
 "metadata": {
  "kernelspec": {
   "display_name": "Python 3",
   "language": "python",
   "name": "python3"
  },
  "language_info": {
   "codemirror_mode": {
    "name": "ipython",
    "version": 3
   },
   "file_extension": ".py",
   "mimetype": "text/x-python",
   "name": "python",
   "nbconvert_exporter": "python",
   "pygments_lexer": "ipython3",
   "version": "3.8.5"
  }
 },
 "nbformat": 4,
 "nbformat_minor": 4
}
